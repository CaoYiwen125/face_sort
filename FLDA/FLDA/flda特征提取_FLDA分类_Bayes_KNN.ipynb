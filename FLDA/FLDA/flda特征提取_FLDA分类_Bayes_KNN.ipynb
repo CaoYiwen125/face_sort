{
 "cells": [
  {
   "cell_type": "markdown",
   "id": "44ba96c6-489b-4951-9176-e46785c03afc",
   "metadata": {},
   "source": [
    "## 一、FLDA特征提取"
   ]
  },
  {
   "cell_type": "markdown",
   "id": "80d0aa3f-d2f8-4d5b-a27b-ab379aed9943",
   "metadata": {},
   "source": [
    "前面已经获得预处理后的训练数据，首先导入需要的库"
   ]
  },
  {
   "cell_type": "code",
   "execution_count": 41,
   "id": "4eaf5f03-fbae-4f5d-9e20-70d062af83eb",
   "metadata": {},
   "outputs": [],
   "source": [
    "import numpy as np\n",
    "from sklearn.preprocessing import StandardScaler"
   ]
  },
  {
   "cell_type": "markdown",
   "id": "e82dae8c-607b-41ec-acfb-b9ca2b85aba3",
   "metadata": {},
   "source": [
    "#### 1、获取数字化后的图像训练数据  \n",
    "注意处理图像数据时，其第一列是图像的编号，不是特征值，为了方便降维和送入分类器，需要删掉这一列。"
   ]
  },
  {
   "cell_type": "code",
   "execution_count": 132,
   "id": "ed40fc63-1e18-49d9-b1e4-91826b09364a",
   "metadata": {},
   "outputs": [
    {
     "name": "stdout",
     "output_type": "stream",
     "text": [
      "图像训练数据xtrain:\n",
      " [[ 1.22300000e+03 -1.77961902e+03  2.10730127e+03 ... -8.61942370e+01\n",
      "   1.28772320e+01  2.38823390e+01]\n",
      " [ 1.22400000e+03 -2.71997339e+03  2.97884375e+03 ... -4.68737700e+00\n",
      "  -4.28034670e+01  1.19861970e+01]\n",
      " [ 1.22500000e+03 -9.46141785e+02 -1.17116028e+03 ...  6.00232730e+01\n",
      "   2.21902800e+00  1.66275270e+01]\n",
      " ...\n",
      " [ 3.22000000e+03  1.07736768e+03 -6.24962646e+02 ...  3.08739870e+01\n",
      "  -1.76446100e+00  6.32692180e+01]\n",
      " [ 3.22100000e+03  1.62751266e+02  1.92902429e+03 ...  1.28961792e+02\n",
      "   5.91272430e+01 -5.73871399e+02]\n",
      " [ 3.22200000e+03 -6.97708984e+02 -2.36467910e+01 ... -9.68876270e+01\n",
      "  -1.05578690e+02  1.03433350e+02]] (1996, 100)\n",
      "\n",
      "xtrain去编号后：\n",
      " [[-1.77961902e+03  2.10730127e+03  8.07759949e+02 ... -8.61942370e+01\n",
      "   1.28772320e+01  2.38823390e+01]\n",
      " [-2.71997339e+03  2.97884375e+03 -1.22765790e+01 ... -4.68737700e+00\n",
      "  -4.28034670e+01  1.19861970e+01]\n",
      " [-9.46141785e+02 -1.17116028e+03  5.57305603e+02 ...  6.00232730e+01\n",
      "   2.21902800e+00  1.66275270e+01]\n",
      " ...\n",
      " [ 1.07736768e+03 -6.24962646e+02 -4.68857788e+02 ...  3.08739870e+01\n",
      "  -1.76446100e+00  6.32692180e+01]\n",
      " [ 1.62751266e+02  1.92902429e+03 -3.10213281e+03 ...  1.28961792e+02\n",
      "   5.91272430e+01 -5.73871399e+02]\n",
      " [-6.97708984e+02 -2.36467910e+01  1.33136340e+03 ... -9.68876270e+01\n",
      "  -1.05578690e+02  1.03433350e+02]] (1996, 99)\n",
      "\n",
      "xtrain标准化后：\n",
      " [[-0.7150059   1.44885637  0.76471857 ... -0.73084344  0.03944986\n",
      "   0.13721498]\n",
      " [-1.15504469  2.06241286 -0.08316677 ...  0.1045747  -0.53830313\n",
      "   0.03210577]\n",
      " [-0.32498026 -0.85914513  0.50575868 ...  0.76783728 -0.07114159\n",
      "   0.07311457]\n",
      " ...\n",
      " [ 0.62192092 -0.4746279  -0.55525368 ...  0.46906682 -0.11247499\n",
      "   0.48522055]\n",
      " [ 0.1939262   1.3233513  -3.2779559  ...  1.47443411  0.51934833\n",
      "  -5.14428068]\n",
      " [-0.20872614 -0.05130804  1.30610383 ... -0.84044712 -1.18967017\n",
      "   0.84009359]] \n",
      "特征数： 99 \n",
      "样本数： 1996\n"
     ]
    }
   ],
   "source": [
    "f = open(\"faceR\",\"r\",encoding=\"utf8\")\n",
    "x = f.read()\n",
    "f.close()\n",
    "x = x.split() #默认删除所有空字符，包括空格和换行符等\n",
    "x = np.array(list(float(char) for char in x)) #字符串列表转数组\n",
    "x.resize((1996,100)) #转为二维数组\n",
    "xtrain = x\n",
    "print('图像训练数据xtrain:\\n',xtrain,xtrain.shape)\n",
    "xtrain = np.delete(xtrain,0,axis=1) #删除第一列：图片编号\n",
    "print('\\nxtrain去编号后：\\n',xtrain,xtrain.shape)\n",
    "#标准化图像训练数据\n",
    "scaler = StandardScaler()\n",
    "xtrain = scaler.fit_transform(xtrain)\n",
    "n_features = xtrain.shape[1]\n",
    "n_samples = xtrain.shape[0]\n",
    "print('\\nxtrain标准化后：\\n',xtrain,\"\\n特征数：\",n_features,\"\\n样本数：\",n_samples)"
   ]
  },
  {
   "cell_type": "markdown",
   "id": "8cf1b36b-668f-41a8-b39e-f1fa4c03c023",
   "metadata": {},
   "source": [
    "#### 2、获取预处理后的标签训练数据后并修改拼写错误"
   ]
  },
  {
   "cell_type": "code",
   "execution_count": 133,
   "id": "4ac1b6fd-e28f-44db-b1cd-eded0d4d0146",
   "metadata": {},
   "outputs": [
    {
     "name": "stdout",
     "output_type": "stream",
     "text": [
      "标签训练数据ytrain:\n",
      " [['1223' 'male' 'child' 'white' 'smiling']\n",
      " ['1224' 'male' 'child' 'white' 'serious']\n",
      " ['1225' 'male' 'child' 'white' 'smiling']\n",
      " ...\n",
      " ['3220' 'female' 'adult' 'asian' 'serious']\n",
      " ['3221' 'female' 'senior' 'white' 'smiling']\n",
      " ['3222' 'female' 'senior' 'black' 'serious']] (1996, 5)\n"
     ]
    }
   ],
   "source": [
    "f = open(\"faceDR\",\"r\",encoding=\"utf8\")\n",
    "y = f.read()\n",
    "f.close()\n",
    "y = y.split() #默认删除所有空字符，包括空格和换行符等\n",
    "#print(y)\n",
    "del y[0]\n",
    "#print(y)\n",
    "y = np.array(y)\n",
    "y.resize((1996,5))\n",
    "ytrain = y\n",
    "for i in range(1996):\n",
    "    if ytrain[i,2] == 'chil':\n",
    "        ytrain[i,2] = 'child'\n",
    "    elif ytrain[i,2] == 'adulte':\n",
    "        ytrain[i,2] = 'adult'\n",
    "    elif ytrain[i,3] == 'whit':\n",
    "        ytrain[i,3] = 'white'\n",
    "    elif ytrain[i,3] == 'whitee':\n",
    "        ytrain[i,3] = 'white'\n",
    "    elif ytrain[i,4] == 'erious':\n",
    "        ytrain[i,4] = 'serious'\n",
    "    elif ytrain[i,4] == 'smilin':\n",
    "        ytrain[i,4] = 'smiling'\n",
    "print('标签训练数据ytrain:\\n',ytrain,ytrain.shape)"
   ]
  },
  {
   "cell_type": "code",
   "execution_count": 134,
   "id": "af232615-ba12-41ee-adda-568d1861a3c0",
   "metadata": {},
   "outputs": [
    {
     "name": "stdout",
     "output_type": "stream",
     "text": [
      "\n",
      "性别分类ytrain_sex:\n",
      " ['male' 'male' 'male' ... 'female' 'female' 'female'] (1996,)\n",
      "\n",
      "年龄分类ytrain_age:\n",
      " ['child' 'child' 'child' ... 'adult' 'senior' 'senior'] (1996,)\n",
      "\n",
      "种族分类ytrain_race:\n",
      " ['white' 'white' 'white' ... 'asian' 'white' 'black'] (1996,)\n",
      "\n",
      "表情分类ytrain_face:\n",
      " ['smiling' 'serious' 'smiling' ... 'serious' 'smiling' 'serious'] (1996,)\n"
     ]
    }
   ],
   "source": [
    "#性别分类\n",
    "print('\\n性别分类ytrain_sex:\\n',ytrain[:,1],ytrain[:,1].shape)\n",
    "#年龄分类\n",
    "print('\\n年龄分类ytrain_age:\\n',ytrain[:,2],ytrain[:,2].shape)\n",
    "#种族分类\n",
    "print('\\n种族分类ytrain_race:\\n',ytrain[:,3],ytrain[:,3].shape)\n",
    "#表情分类\n",
    "print('\\n表情分类ytrain_face:\\n',ytrain[:,4],ytrain[:,4].shape)"
   ]
  },
  {
   "cell_type": "markdown",
   "id": "d9fe16bc-d946-4ca4-8edc-5053addd9f7f",
   "metadata": {},
   "source": [
    "#### 3、获取预处理后的测试数据"
   ]
  },
  {
   "cell_type": "code",
   "execution_count": 135,
   "id": "d683d850-0dea-4c84-ac54-c283bd781043",
   "metadata": {},
   "outputs": [
    {
     "name": "stdout",
     "output_type": "stream",
     "text": [
      "图像测试数据xtest:\n",
      " [[ 3223.        1509.810059  -258.181854 ...  -156.00473    -24.142797\n",
      "    -30.994535]\n",
      " [ 3224.        1887.549927  -604.501404 ...   -84.800957    54.544933\n",
      "     10.758374]\n",
      " [ 3225.         479.281891  1204.433105 ...   -84.359192   -47.144707\n",
      "    -29.58638 ]\n",
      " ...\n",
      " [ 5220.         765.723267   152.202209 ...   -10.661225    71.933243\n",
      "    139.105927]\n",
      " [ 5221.        3535.591553 -1172.505737 ...    69.269463   -67.06485\n",
      "     62.041889]\n",
      " [ 5222.        -742.207458   106.262558 ...    36.534725    23.340706\n",
      "   -101.602966]] (1996, 100)\n",
      "\n",
      "xtest去编号后：\n",
      " [[ 1509.810059  -258.181854 -1190.012451 ...  -156.00473    -24.142797\n",
      "    -30.994535]\n",
      " [ 1887.549927  -604.501404    49.436756 ...   -84.800957    54.544933\n",
      "     10.758374]\n",
      " [  479.281891  1204.433105  -623.750671 ...   -84.359192   -47.144707\n",
      "    -29.58638 ]\n",
      " ...\n",
      " [  765.723267   152.202209   345.341125 ...   -10.661225    71.933243\n",
      "    139.105927]\n",
      " [ 3535.591553 -1172.505737  -298.611542 ...    69.269463   -67.06485\n",
      "     62.041889]\n",
      " [ -742.207458   106.262558   387.411316 ...    36.534725    23.340706\n",
      "   -101.602966]] (1996, 99)\n",
      "\n",
      "xtest标准化后：\n",
      " [[ 0.51385822 -0.61593044 -1.10775149 ... -1.83415493 -0.47676919\n",
      "  -0.6129337 ]\n",
      " [ 0.64245302 -0.86719053  0.16046703 ... -1.04494627  0.39411133\n",
      "  -0.22816376]\n",
      " [ 0.16303329  0.4452189  -0.528346   ... -1.04004983 -0.73134402\n",
      "  -0.59995698]\n",
      " ...\n",
      " [ 0.26054715 -0.31819057  0.46323974 ... -0.22319601  0.58655735\n",
      "   0.95461083]\n",
      " [ 1.20349938 -1.27928629 -0.19565995 ...  0.66274007 -0.95181123\n",
      "   0.24443456]\n",
      " [-0.25280096 -0.35152049  0.50628644 ...  0.29991465  0.04875693\n",
      "  -1.26361894]]\n"
     ]
    }
   ],
   "source": [
    "f = open(\"faceS\",\"r\",encoding=\"utf8\")\n",
    "x2 = f.read()\n",
    "f.close()\n",
    "x2 = x2.split() #默认删除所有空字符，包括空格和换行符等\n",
    "x2 = np.array(list(float(char) for char in x2)) #字符串列表转数组\n",
    "x2.resize((1996,100)) #转为二维数组\n",
    "xtest = x2\n",
    "print('图像测试数据xtest:\\n',xtest,xtest.shape)\n",
    "xtest = np.delete(xtest,0,axis=1) #删除第一列：图片编号\n",
    "print('\\nxtest去编号后：\\n',xtest,xtest.shape)\n",
    "xtest = scaler.fit_transform(xtest)\n",
    "print('\\nxtest标准化后：\\n',xtest)"
   ]
  },
  {
   "cell_type": "markdown",
   "id": "7cc61bcb-8058-4512-ad6e-1e649845dde6",
   "metadata": {},
   "source": [
    "#### 4、获取标签测试数据"
   ]
  },
  {
   "cell_type": "code",
   "execution_count": 136,
   "id": "8cca03bc-9f51-47ec-98fd-75c4f36793f5",
   "metadata": {},
   "outputs": [
    {
     "name": "stdout",
     "output_type": "stream",
     "text": [
      "标签测试数据ytest:\n",
      " [['3223' 'female' 'senior' 'black' 'smiling']\n",
      " ['3224' 'female' 'adult' 'black' 'smiling']\n",
      " ['3225' 'male' 'senior' 'white' 'smiling']\n",
      " ...\n",
      " ['5220' 'female' 'adult' 'white' 'serious']\n",
      " ['5221' 'female' 'adult' 'white' 'smiling']\n",
      " ['5222' 'female' 'adult' 'white' 'smiling']] (1996, 5)\n"
     ]
    }
   ],
   "source": [
    "f = open(\"faceDS\",\"r\",encoding=\"utf8\")\n",
    "y2 = f.read()\n",
    "f.close()\n",
    "y2 = y2.split() #默认删除所有空字符，包括空格和换行符等\n",
    "#del y2[0]  #faceDS文件比faceDR文件少了第一个多余的字符串，所以不用del掉。建议此处先print测试一下\n",
    "y2 = np.array(y2)\n",
    "y2.resize((1996,5))\n",
    "ytest = y2\n",
    "print('标签测试数据ytest:\\n',ytest,ytest.shape)"
   ]
  },
  {
   "cell_type": "code",
   "execution_count": 137,
   "id": "c41af9a8-aa8a-4cbb-831e-58f550b76bf7",
   "metadata": {},
   "outputs": [
    {
     "name": "stdout",
     "output_type": "stream",
     "text": [
      "\n",
      "性别分类ytest_sex:\n",
      " ['female' 'female' 'male' ... 'female' 'female' 'female'] (1996,)\n",
      "\n",
      "年龄分类ytest_age:\n",
      " ['senior' 'adult' 'senior' ... 'adult' 'adult' 'adult'] (1996,)\n",
      "\n",
      "种族分类ytest_race:\n",
      " ['black' 'black' 'white' ... 'white' 'white' 'white'] (1996,)\n",
      "\n",
      "表情分类ytest_face:\n",
      " ['smiling' 'smiling' 'smiling' ... 'serious' 'smiling' 'smiling'] (1996,)\n"
     ]
    }
   ],
   "source": [
    "#性别分类\n",
    "print('\\n性别分类ytest_sex:\\n',ytest[:,1],ytest[:,1].shape)\n",
    "#年龄分类\n",
    "print('\\n年龄分类ytest_age:\\n',ytest[:,2],ytest[:,2].shape)\n",
    "#种族分类\n",
    "print('\\n种族分类ytest_race:\\n',ytest[:,3],ytest[:,3].shape)\n",
    "#表情分类\n",
    "print('\\n表情分类ytest_face:\\n',ytest[:,4],ytest[:,4].shape)"
   ]
  },
  {
   "cell_type": "markdown",
   "id": "f44de1e7-2766-47b6-a529-81a3b6a16cac",
   "metadata": {},
   "source": [
    "以上的代码实现了读取4个存储了预处理后的数据的文件的功能。"
   ]
  },
  {
   "cell_type": "markdown",
   "id": "8d607b22-ff47-4395-9e37-4d0b675bb283",
   "metadata": {},
   "source": [
    "#### 5、创建LDA模型降维并训练"
   ]
  },
  {
   "cell_type": "markdown",
   "id": "46bcfab4-6024-471f-a30f-fcb66c67f72a",
   "metadata": {},
   "source": [
    "不同于PCA用于无监督学习的特征提取，FLDA适用于监督学习的特征提取，即需要标签y一起送入LDA模型中训练。  \n",
    "因此，一定要确保图像数据和标签数据的个数一样，且壹壹对应。"
   ]
  },
  {
   "cell_type": "code",
   "execution_count": 138,
   "id": "f035ddeb-78df-4d90-8ca2-2e8a00f966ad",
   "metadata": {},
   "outputs": [
    {
     "name": "stdout",
     "output_type": "stream",
     "text": [
      "用训练后的性别分类LDA模型降维后的图像训练数据和测试数据： (1996, 1) (1996, 1)\n"
     ]
    }
   ],
   "source": [
    "#创建性别分类的LDA模型降维并训练\n",
    "from sklearn.discriminant_analysis import LinearDiscriminantAnalysis as LDA\n",
    "lda_sex = LDA(n_components=1) #监督学习下的FLDA特征提取，数据降维后的维数受特征维数和类别数的限制，不能超过（类别数-1）；PCA较自由\n",
    "lda_sex.fit(xtrain,ytrain[:,1]) #最大不能超过2-1=1\n",
    "#将训练好的LDA模型对数据进行特征提取\n",
    "xtrain_sex = lda_sex.transform(xtrain)\n",
    "xtest_sex = lda_sex.transform(xtest)\n",
    "print('用训练后的性别分类LDA模型降维后的图像训练数据和测试数据：',xtrain_sex.shape,xtest_sex.shape)"
   ]
  },
  {
   "cell_type": "code",
   "execution_count": 139,
   "id": "aaf4e659-150a-458c-a570-c04480fb2aec",
   "metadata": {},
   "outputs": [
    {
     "name": "stdout",
     "output_type": "stream",
     "text": [
      "用训练后的年龄分类LDA模型降维后的图像训练数据和测试数据： (1996, 3) (1996, 3)\n"
     ]
    }
   ],
   "source": [
    "#创建年龄分类的LDA模型降维并训练\n",
    "lda_age = LDA(n_components=3) #最大不能超过4-1=3\n",
    "lda_age.fit(xtrain,ytrain[:,2])\n",
    "#将训练好的LDA模型对数据进行特征提取\n",
    "xtrain_age = lda_age.transform(xtrain)\n",
    "xtest_age = lda_age.transform(xtest)\n",
    "print('用训练后的年龄分类LDA模型降维后的图像训练数据和测试数据：',xtrain_age.shape,xtest_age.shape)"
   ]
  },
  {
   "cell_type": "code",
   "execution_count": 140,
   "id": "49540efa-8f52-4b5d-801b-956cb2898afe",
   "metadata": {},
   "outputs": [
    {
     "name": "stdout",
     "output_type": "stream",
     "text": [
      "用训练后的种族分类LDA模型降维后的图像训练数据和测试数据： (1996, 4) (1996, 4)\n"
     ]
    }
   ],
   "source": [
    "#创建种族分类的LDA模型降维并训练\n",
    "lda_race = LDA(n_components=4) #最大不能超过5-1=4\n",
    "lda_race.fit(xtrain,ytrain[:,3])\n",
    "#将训练好的LDA模型对数据进行特征提取\n",
    "xtrain_race = lda_race.transform(xtrain)\n",
    "xtest_race = lda_race.transform(xtest)\n",
    "print('用训练后的种族分类LDA模型降维后的图像训练数据和测试数据：',xtrain_race.shape,xtest_race.shape)"
   ]
  },
  {
   "cell_type": "code",
   "execution_count": 51,
   "id": "ebbdc995-b87a-4301-8507-87ad4b796813",
   "metadata": {},
   "outputs": [
    {
     "name": "stdout",
     "output_type": "stream",
     "text": [
      "用训练后的表情分类LDA模型降维后的图像训练数据和测试数据： (1996, 2) (1996, 2)\n"
     ]
    }
   ],
   "source": [
    "#创建表情分类的LDA模型降维并训练\n",
    "lda_face = LDA(n_components=2) #最大不能超过3-1=2\n",
    "lda_face.fit(xtrain,ytrain[:,4])\n",
    "#将训练好的LDA模型对数据进行特征提取\n",
    "xtrain_face = lda_face.transform(xtrain)\n",
    "xtest_face = lda_face.transform(xtest)\n",
    "print('用训练后的表情分类LDA模型降维后的图像训练数据和测试数据：',xtrain_face.shape,xtest_face.shape)"
   ]
  },
  {
   "cell_type": "markdown",
   "id": "b381db58-8eff-4fd2-a19a-27e13783efc9",
   "metadata": {},
   "source": [
    "## 二、FLDA分类器及其交叉验证"
   ]
  },
  {
   "cell_type": "markdown",
   "id": "6292eb43-7f59-49d4-a7ec-92162254a9c8",
   "metadata": {},
   "source": [
    "虽然LDA模型更多用于特征提取，但本身可以用于分类，这也是FLDA的特点之一。下面是LDA直接用于分类的代码。"
   ]
  },
  {
   "cell_type": "code",
   "execution_count": 141,
   "id": "48046d7c-97db-40a4-8eb2-0e705cdb7648",
   "metadata": {},
   "outputs": [],
   "source": [
    "from sklearn.discriminant_analysis import LinearDiscriminantAnalysis as LDA\n",
    "from sklearn.model_selection import KFold\n",
    "from sklearn.model_selection import cross_val_score"
   ]
  },
  {
   "cell_type": "markdown",
   "id": "7b56e1d5-122f-41d0-90e3-1a8dd3fb0dca",
   "metadata": {},
   "source": [
    "1. 性别分类："
   ]
  },
  {
   "cell_type": "code",
   "execution_count": 143,
   "id": "dea1e365-aed7-4e30-be21-af97c4c46e8e",
   "metadata": {},
   "outputs": [
    {
     "name": "stdout",
     "output_type": "stream",
     "text": [
      "LDA分类——性别分类预测结果： ['female' 'female' 'male' ... 'female' 'male' 'female'] (1996,)\n",
      "LDA分类——性别分类分数： 0.7049098196392786\n"
     ]
    }
   ],
   "source": [
    "##########性别分类##########\n",
    "predict_sex = lda_sex.predict(xtest) #训练好的LDA模型直接用于分类\n",
    "print('LDA分类——性别分类预测结果：',predict_sex,predict_sex.shape)\n",
    "print('LDA分类——性别分类分数：',lda_sex.score(xtest,ytest[:,1]))"
   ]
  },
  {
   "cell_type": "markdown",
   "id": "1f408fb7-40f6-4ad7-991d-f0d7197e884d",
   "metadata": {},
   "source": [
    "2. 年龄分类："
   ]
  },
  {
   "cell_type": "code",
   "execution_count": 144,
   "id": "93f904f3-0748-41a3-b8d8-ed4f9aef20eb",
   "metadata": {},
   "outputs": [
    {
     "name": "stdout",
     "output_type": "stream",
     "text": [
      "LDA分类——年龄分类预测结果： ['adult' 'adult' 'adult' ... 'adult' 'adult' 'adult'] (1996,)\n",
      "LDA分类——年龄分类分数： 0.8086172344689379\n"
     ]
    }
   ],
   "source": [
    "##########年龄分类##########\n",
    "predict_age = lda_age.predict(xtest)\n",
    "print('LDA分类——年龄分类预测结果：',predict_age,predict_age.shape)\n",
    "print('LDA分类——年龄分类分数：',lda_age.score(xtest,ytest[:,2]))"
   ]
  },
  {
   "cell_type": "markdown",
   "id": "a32e7b0d-9abd-4d9b-9af8-efc250915ad8",
   "metadata": {},
   "source": [
    "3. 种族分类："
   ]
  },
  {
   "cell_type": "code",
   "execution_count": 146,
   "id": "5984e9ef-7ce3-48e3-aa25-2e8323a28869",
   "metadata": {},
   "outputs": [
    {
     "name": "stdout",
     "output_type": "stream",
     "text": [
      "LDA分类——种族分类预测结果： ['white' 'white' 'white' ... 'white' 'white' 'white'] (1996,)\n",
      "LDA分类——种族分类分数： 0.844689378757515\n"
     ]
    }
   ],
   "source": [
    "##########种族分类##########\n",
    "predict_race = lda_race.predict(xtest)\n",
    "print('LDA分类——种族分类预测结果：',predict_race,predict_race.shape)\n",
    "print('LDA分类——种族分类分数：',lda_race.score(xtest,ytest[:,3]))"
   ]
  },
  {
   "cell_type": "markdown",
   "id": "9b1b1591-16db-416c-b0d0-96c1f262c10c",
   "metadata": {},
   "source": [
    "4. 表情分类："
   ]
  },
  {
   "cell_type": "code",
   "execution_count": 147,
   "id": "b3737a9a-24ab-46c9-8311-b36f4aeecf4f",
   "metadata": {},
   "outputs": [
    {
     "name": "stdout",
     "output_type": "stream",
     "text": [
      "LDA分类——表情分类预测结果： ['smiling' 'smiling' 'smiling' ... 'serious' 'smiling' 'serious'] (1996,)\n",
      "LDA分类——表情分类分数 0.7695390781563126\n"
     ]
    }
   ],
   "source": [
    "##########表情分类##########\n",
    "predict_face = lda_face.predict(xtest)\n",
    "print('LDA分类——表情分类预测结果：',predict_face,predict_face.shape)\n",
    "print('LDA分类——表情分类分数',lda_face.score(xtest,ytest[:,4]))"
   ]
  },
  {
   "cell_type": "markdown",
   "id": "a5b0dbcd-d1c8-43e7-8848-90c770466666",
   "metadata": {},
   "source": [
    "5. 五折交叉验证LDA在分类上的准确率："
   ]
  },
  {
   "cell_type": "code",
   "execution_count": 148,
   "id": "4761cc7e-2d4b-4e9c-aa21-7fa71be7aefc",
   "metadata": {},
   "outputs": [
    {
     "name": "stdout",
     "output_type": "stream",
     "text": [
      "所有图像数据：\n",
      " [[-0.7150059   1.44885637  0.76471857 ... -0.73084344  0.03944986\n",
      "   0.13721498]\n",
      " [-1.15504469  2.06241286 -0.08316677 ...  0.1045747  -0.53830313\n",
      "   0.03210577]\n",
      " [-0.32498026 -0.85914513  0.50575868 ...  0.76783728 -0.07114159\n",
      "   0.07311457]\n",
      " ...\n",
      " [ 0.26054715 -0.31819057  0.46323974 ... -0.22319601  0.58655735\n",
      "   0.95461083]\n",
      " [ 1.20349938 -1.27928629 -0.19565995 ...  0.66274007 -0.95181123\n",
      "   0.24443456]\n",
      " [-0.25280096 -0.35152049  0.50628644 ...  0.29991465  0.04875693\n",
      "  -1.26361894]] (3992, 99) \n",
      "所有标签数据：\n",
      " [['1223' 'male' 'child' 'white' 'smiling']\n",
      " ['1224' 'male' 'child' 'white' 'serious']\n",
      " ['1225' 'male' 'child' 'white' 'smiling']\n",
      " ...\n",
      " ['5220' 'female' 'adult' 'white' 'serious']\n",
      " ['5221' 'female' 'adult' 'white' 'smiling']\n",
      " ['5222' 'female' 'adult' 'white' 'smiling']] (3992, 5)\n"
     ]
    }
   ],
   "source": [
    "#合并x数据和y数据\n",
    "X = np.concatenate([xtrain,xtest],axis=0)\n",
    "Y = np.concatenate([ytrain,ytest],axis=0)\n",
    "print('所有图像数据：\\n',X,X.shape,'\\n所有标签数据：\\n',Y,Y.shape)"
   ]
  },
  {
   "cell_type": "code",
   "execution_count": 149,
   "id": "1ecc7093-e3b3-4d6d-8ced-98a629b01221",
   "metadata": {},
   "outputs": [
    {
     "name": "stdout",
     "output_type": "stream",
     "text": [
      "性别LDA分类交叉验证结果：0.80(±0.02)\n",
      "年龄LDA分类交叉验证结果：0.84(±0.02)\n",
      "种族LDA分类交叉验证结果：0.92(±0.01)\n",
      "表情LDA分类交叉验证结果：0.79(±0.03)\n"
     ]
    }
   ],
   "source": [
    "kfold = KFold(n_splits=5,shuffle=True,random_state=42)\n",
    "sex_result = cross_val_score(lda_sex,X,Y[:,1],cv=kfold)\n",
    "print('性别LDA分类交叉验证结果：%0.2f(±%0.2f)'%(sex_result.mean(),sex_result.std()*2))\n",
    "age_result = cross_val_score(lda_age,X,Y[:,2],cv=kfold)\n",
    "print('年龄LDA分类交叉验证结果：%0.2f(±%0.2f)'%(age_result.mean(),age_result.std()*2))\n",
    "race_result = cross_val_score(lda_race,X,Y[:,3],cv=kfold)\n",
    "print('种族LDA分类交叉验证结果：%0.2f(±%0.2f)'%(race_result.mean(),race_result.std()*2))\n",
    "face_result = cross_val_score(lda_face,X,Y[:,4],cv=kfold)\n",
    "print('表情LDA分类交叉验证结果：%0.2f(±%0.2f)'%(face_result.mean(),face_result.std()*2))"
   ]
  },
  {
   "cell_type": "markdown",
   "id": "4ff1ebba-37d0-443d-8751-ca5a8b52d535",
   "metadata": {},
   "source": [
    "6. 绘制分数对比图"
   ]
  },
  {
   "cell_type": "code",
   "execution_count": 60,
   "id": "20ea2cdc-8f76-4781-a84a-c202a1828bc6",
   "metadata": {},
   "outputs": [],
   "source": [
    "import matplotlib\n",
    "import matplotlib.pyplot as plt"
   ]
  },
  {
   "cell_type": "code",
   "execution_count": 150,
   "id": "346c7806-c03c-478d-9524-947beb578392",
   "metadata": {},
   "outputs": [
    {
     "data": {
      "image/png": "[encoded data removed]",
      "text/plain": [
       "<Figure size 900x550 with 1 Axes>"
      ]
     },
     "metadata": {
      "needs_background": "light"
     },
     "output_type": "display_data"
    }
   ],
   "source": [
    "plt.rcParams['savefig.dpi'] = 100 #图片像素\n",
    "plt.rcParams['figure.dpi'] = 100 #分辨率\n",
    "plt.rcParams['figure.figsize'] = (9.0, 5.5)\n",
    "fig,ax = plt.subplots()\n",
    "#绘制Bar\n",
    "labels = ['sex',\"age\",'race','face']\n",
    "num = np.arange(4)\n",
    "result1 = np.array([lda_sex.score(xtest,ytest[:,1]),lda_age.score(xtest,ytest[:,2]),lda_race.score(xtest,ytest[:,3]),lda_face.score(xtest,ytest[:,4])])\n",
    "result2 = np.array([sex_result.mean(),age_result.mean(),race_result.mean(),face_result.mean()])\n",
    "rects1 = ax.bar(num-0.3/2,result1,width = 0.3,label = 'predict_score')\n",
    "rects2 = ax.bar(num+0.3/2,result2,width=0.3,label = 'cross_val_score')\n",
    "\n",
    "ax.set_ylabel(\"scores\")\n",
    "ax.set_title(\"FLDA_classify:Contrast of scores\")\n",
    "ax.set_xticks(num)\n",
    "ax.set_xticklabels(labels)\n",
    "ax.legend()\n",
    "#绘制标签\n",
    "def autolabel(rects):\n",
    "    for rect in rects:\n",
    "        height = rect.get_height()\n",
    "        ax.annotate('{}'.format(height),\n",
    "                    xy=(rect.get_x() + rect.get_width()/2,height),\n",
    "                   xytext=(0,3),\n",
    "                   textcoords=\"offset points\",\n",
    "                   ha='center',va='bottom')\n",
    "autolabel(rects1)\n",
    "autolabel(rects2)\n",
    "fig.tight_layout()\n",
    "plt.savefig(\"FLDA_classify.jpg\")\n",
    "plt.show()"
   ]
  },
  {
   "cell_type": "markdown",
   "id": "d90dbcc1-9dbd-46fa-9068-54f50b5cdd2e",
   "metadata": {},
   "source": [
    "## 三、Bayes分类器及其交叉验证"
   ]
  },
  {
   "cell_type": "code",
   "execution_count": 65,
   "id": "13e4edb3-e79d-45b7-8872-6f3da2575f36",
   "metadata": {},
   "outputs": [],
   "source": [
    "from sklearn.naive_bayes import GaussianNB"
   ]
  },
  {
   "cell_type": "markdown",
   "id": "adc6aff6-2aa9-43cb-9132-57914342d682",
   "metadata": {},
   "source": [
    "1. 性别分类"
   ]
  },
  {
   "cell_type": "code",
   "execution_count": 151,
   "id": "2335b612-ee8c-45be-a3e4-eab2689fc840",
   "metadata": {},
   "outputs": [
    {
     "name": "stdout",
     "output_type": "stream",
     "text": [
      "BAYES分类——性别分类分数 0.7039078156312625\n"
     ]
    }
   ],
   "source": [
    "bys_sex = GaussianNB().fit(xtrain_sex, ytrain[:,1]) #默认alpha=1.0，拉普拉斯平滑\n",
    "bys_sex.predict(xtest_sex)\n",
    "print('BAYES分类——性别分类分数',bys_sex.score(xtest_sex,ytest[:,1]))"
   ]
  },
  {
   "cell_type": "markdown",
   "id": "0772b28a-9b0c-46ee-8329-21d837e1df46",
   "metadata": {},
   "source": [
    "2. 年龄分类"
   ]
  },
  {
   "cell_type": "code",
   "execution_count": 152,
   "id": "57f2e3aa-f02c-40d6-b891-b5a3cea245e5",
   "metadata": {},
   "outputs": [
    {
     "name": "stdout",
     "output_type": "stream",
     "text": [
      "BAYES分类——年龄分类分数 0.8101202404809619\n"
     ]
    }
   ],
   "source": [
    "bys_age = GaussianNB().fit(xtrain_age, ytrain[:,2]) #默认alpha=1.0，拉普拉斯平滑\n",
    "bys_age.predict(xtest_age)\n",
    "print('BAYES分类——年龄分类分数',bys_age.score(xtest_age,ytest[:,2]))"
   ]
  },
  {
   "cell_type": "markdown",
   "id": "53880e14-0142-4f84-9d58-cedeab299ffe",
   "metadata": {},
   "source": [
    "3. 种族分类"
   ]
  },
  {
   "cell_type": "code",
   "execution_count": 153,
   "id": "b35717c9-47e4-43e1-a31d-2e55da5b3e94",
   "metadata": {},
   "outputs": [
    {
     "name": "stdout",
     "output_type": "stream",
     "text": [
      "BAYES分类——种族分类分数 0.8522044088176353\n"
     ]
    }
   ],
   "source": [
    "bys_race = GaussianNB().fit(xtrain_race, ytrain[:,3]) #默认alpha=1.0，拉普拉斯平滑\n",
    "bys_race.predict(xtest_race)\n",
    "print('BAYES分类——种族分类分数',bys_race.score(xtest_race,ytest[:,3]))"
   ]
  },
  {
   "cell_type": "markdown",
   "id": "1eeb24b8-7a1c-4afd-8781-4d1a27017c10",
   "metadata": {},
   "source": [
    "4. 表情分类"
   ]
  },
  {
   "cell_type": "code",
   "execution_count": 154,
   "id": "e8cf860d-6f4d-462e-82dd-83b7f420b95f",
   "metadata": {},
   "outputs": [
    {
     "name": "stdout",
     "output_type": "stream",
     "text": [
      "BAYES分类——表情分类分数 0.7655310621242485\n"
     ]
    }
   ],
   "source": [
    "bys_face = GaussianNB().fit(xtrain_face, ytrain[:,4]) #默认alpha=1.0，拉普拉斯平滑\n",
    "bys_face.predict(xtest_face)\n",
    "print('BAYES分类——表情分类分数',bys_face.score(xtest_face,ytest[:,4]))"
   ]
  },
  {
   "cell_type": "markdown",
   "id": "553ec468-7169-487b-ba0c-d199984f35c7",
   "metadata": {},
   "source": [
    "5. 五折交叉验证Bayes在分类上的准确率"
   ]
  },
  {
   "cell_type": "code",
   "execution_count": 155,
   "id": "73ea5603-1243-46e6-8a60-d4f1c8127975",
   "metadata": {},
   "outputs": [
    {
     "name": "stdout",
     "output_type": "stream",
     "text": [
      "性别BAYES分类交叉验证结果：0.66(±0.03)\n",
      "年龄BAYES分类交叉验证结果：0.63(±0.07)\n",
      "种族BAYES分类交叉验证结果：0.88(±0.03)\n",
      "表情BAYES分类交叉验证结果：0.53(±0.03)\n"
     ]
    }
   ],
   "source": [
    "sex_result = cross_val_score(bys_sex,X,Y[:,1],cv=kfold)\n",
    "print('性别BAYES分类交叉验证结果：%0.2f(±%0.2f)'%(sex_result.mean(),sex_result.std()*2))\n",
    "age_result = cross_val_score(bys_age,X,Y[:,2],cv=kfold)\n",
    "print('年龄BAYES分类交叉验证结果：%0.2f(±%0.2f)'%(age_result.mean(),age_result.std()*2))\n",
    "race_result = cross_val_score(bys_race,X,Y[:,3],cv=kfold)\n",
    "print('种族BAYES分类交叉验证结果：%0.2f(±%0.2f)'%(race_result.mean(),race_result.std()*2))\n",
    "face_result = cross_val_score(bys_face,X,Y[:,4],cv=kfold)\n",
    "print('表情BAYES分类交叉验证结果：%0.2f(±%0.2f)'%(face_result.mean(),face_result.std()*2))"
   ]
  },
  {
   "cell_type": "markdown",
   "id": "ca5173e1-e155-40b4-af7d-e6e1095c3e86",
   "metadata": {},
   "source": [
    "6. 绘制分数对比图"
   ]
  },
  {
   "cell_type": "code",
   "execution_count": 156,
   "id": "e9a26673-b5e9-401a-963a-49e191d28acb",
   "metadata": {},
   "outputs": [
    {
     "data": {
      "image/png": "[encoded data removed]",
      "text/plain": [
       "<Figure size 900x550 with 1 Axes>"
      ]
     },
     "metadata": {
      "needs_background": "light"
     },
     "output_type": "display_data"
    }
   ],
   "source": [
    "fig,ax = plt.subplots()\n",
    "#绘制Bar\n",
    "labels = ['sex',\"age\",'race','face']\n",
    "num = np.arange(4)\n",
    "result1 = np.array([bys_sex.score(xtest_sex,ytest[:,1]),bys_age.score(xtest_age,ytest[:,2]),bys_race.score(xtest_race,ytest[:,3]),bys_face.score(xtest_face,ytest[:,4])])\n",
    "result2 = np.array([sex_result.mean(),age_result.mean(),race_result.mean(),face_result.mean()])\n",
    "rects1 = ax.bar(num-0.3/2,result1,width = 0.3,label = 'predict_score')\n",
    "rects2 = ax.bar(num+0.3/2,result2,width=0.3,label = 'cross_val_score')\n",
    "\n",
    "ax.set_ylabel(\"scores\")\n",
    "ax.set_title(\"FLDA_Bayes:Contrast of scores\")\n",
    "ax.set_xticks(num)\n",
    "ax.set_xticklabels(labels)\n",
    "ax.legend()\n",
    "#绘制标签\n",
    "def autolabel(rects):\n",
    "    for rect in rects:\n",
    "        height = rect.get_height()\n",
    "        ax.annotate('{}'.format(height),\n",
    "                    xy=(rect.get_x() + rect.get_width()/2,height),\n",
    "                   xytext=(0,3),\n",
    "                   textcoords=\"offset points\",\n",
    "                   ha='center',va='bottom')\n",
    "autolabel(rects1)\n",
    "autolabel(rects2)\n",
    "fig.tight_layout()\n",
    "plt.savefig(\"FLDA_Bayes.jpg\")\n",
    "plt.show()"
   ]
  },
  {
   "cell_type": "markdown",
   "id": "242d56fd-02ae-451b-bf93-556f2a92bbd4",
   "metadata": {},
   "source": [
    "## 四、KNN分类器及其交叉验证"
   ]
  },
  {
   "cell_type": "code",
   "execution_count": 84,
   "id": "aac865a4-9117-4839-a351-4c824c8596b8",
   "metadata": {},
   "outputs": [],
   "source": [
    "from sklearn.neighbors import KNeighborsClassifier"
   ]
  },
  {
   "cell_type": "markdown",
   "id": "f26b6579-b5cf-4153-8b72-f56bf80c7a22",
   "metadata": {},
   "source": [
    "1. 性别分类"
   ]
  },
  {
   "cell_type": "code",
   "execution_count": 157,
   "id": "12c65ec4-b341-48eb-857e-3ad2d30521d1",
   "metadata": {},
   "outputs": [
    {
     "name": "stdout",
     "output_type": "stream",
     "text": [
      "KNN分类——性别分类分数 0.6923847695390781\n"
     ]
    }
   ],
   "source": [
    "knn_sex = KNeighborsClassifier().fit(xtrain_sex, ytrain[:,1])\n",
    "print('KNN分类——性别分类分数',knn_sex.score(xtest_sex,ytest[:,1]))"
   ]
  },
  {
   "cell_type": "markdown",
   "id": "9103e7c3-fbc3-4694-a032-03bc3a89cbb1",
   "metadata": {},
   "source": [
    "2. 年龄分类"
   ]
  },
  {
   "cell_type": "code",
   "execution_count": 158,
   "id": "dc692049-f9f4-4a83-bf06-b8817dfcceb8",
   "metadata": {},
   "outputs": [
    {
     "name": "stdout",
     "output_type": "stream",
     "text": [
      "KNN分类——年龄分类分数 0.8051102204408818\n"
     ]
    }
   ],
   "source": [
    "knn_age = KNeighborsClassifier().fit(xtrain_age, ytrain[:,2])\n",
    "print('KNN分类——年龄分类分数',knn_age.score(xtest_age,ytest[:,2]))"
   ]
  },
  {
   "cell_type": "markdown",
   "id": "52f4c467-3db7-48ad-b475-87f841049e94",
   "metadata": {},
   "source": [
    "3. 种族分类"
   ]
  },
  {
   "cell_type": "code",
   "execution_count": 159,
   "id": "693fe630-d09c-4da7-a8b9-b0b25a44adf0",
   "metadata": {},
   "outputs": [
    {
     "name": "stdout",
     "output_type": "stream",
     "text": [
      "KNN分类——种族分类分数 0.8572144288577155\n"
     ]
    }
   ],
   "source": [
    "knn_race = KNeighborsClassifier().fit(xtrain_race, ytrain[:,3])\n",
    "print('KNN分类——种族分类分数',knn_race.score(xtest_race,ytest[:,3]))"
   ]
  },
  {
   "cell_type": "markdown",
   "id": "e17e86c2-dbd3-4dfd-8bd7-94dbe2098d0d",
   "metadata": {},
   "source": [
    "4. 表情分类"
   ]
  },
  {
   "cell_type": "code",
   "execution_count": 160,
   "id": "6f92b917-3656-457d-bcf9-aa43abd5d784",
   "metadata": {},
   "outputs": [
    {
     "name": "stdout",
     "output_type": "stream",
     "text": [
      "KNN分类——表情分类分数 0.7299599198396793\n"
     ]
    }
   ],
   "source": [
    "knn_face =  KNeighborsClassifier().fit(xtrain_face, ytrain[:,4])\n",
    "print('KNN分类——表情分类分数',knn_face.score(xtest_face,ytest[:,4]))"
   ]
  },
  {
   "cell_type": "markdown",
   "id": "e7c5a8fc-a9b9-475d-a570-a3dd970ff736",
   "metadata": {},
   "source": [
    "5. 五折交叉验证KNN在分类上的准确率"
   ]
  },
  {
   "cell_type": "code",
   "execution_count": 161,
   "id": "5887d982-8ce5-40cc-8dd4-c0d8dc137b68",
   "metadata": {},
   "outputs": [
    {
     "name": "stdout",
     "output_type": "stream",
     "text": [
      "性别KNN分类交叉验证结果：0.77(±0.02)\n",
      "年龄KNN分类交叉验证结果：0.82(±0.03)\n",
      "种族KNN分类交叉验证结果：0.90(±0.01)\n",
      "表情KNN分类交叉验证结果：0.64(±0.03)\n"
     ]
    }
   ],
   "source": [
    "sex_result = cross_val_score(knn_sex,X,Y[:,1],cv=kfold)\n",
    "print('性别KNN分类交叉验证结果：%0.2f(±%0.2f)'%(sex_result.mean(),sex_result.std()*2))\n",
    "age_result = cross_val_score(knn_age,X,Y[:,2],cv=kfold)\n",
    "print('年龄KNN分类交叉验证结果：%0.2f(±%0.2f)'%(age_result.mean(),age_result.std()*2))\n",
    "race_result = cross_val_score(knn_race,X,Y[:,3],cv=kfold)\n",
    "print('种族KNN分类交叉验证结果：%0.2f(±%0.2f)'%(race_result.mean(),race_result.std()*2))\n",
    "face_result = cross_val_score(knn_face,X,Y[:,4],cv=kfold)\n",
    "print('表情KNN分类交叉验证结果：%0.2f(±%0.2f)'%(face_result.mean(),face_result.std()*2))"
   ]
  },
  {
   "cell_type": "markdown",
   "id": "776953fb-0952-4af9-9992-6cf8b47c2d62",
   "metadata": {},
   "source": [
    "6. 绘制分数对比图"
   ]
  },
  {
   "cell_type": "code",
   "execution_count": 162,
   "id": "6e2f35d3-849d-4a88-acb8-192a4bee1b70",
   "metadata": {},
   "outputs": [
    {
     "data": {
      "image/png": "[encoded data removed]",
      "text/plain": [
       "<Figure size 900x550 with 1 Axes>"
      ]
     },
     "metadata": {
      "needs_background": "light"
     },
     "output_type": "display_data"
    }
   ],
   "source": [
    "fig,ax = plt.subplots()\n",
    "#绘制Bar\n",
    "labels = ['sex',\"age\",'race','face']\n",
    "num = np.arange(4)\n",
    "result1 = np.array([knn_sex.score(xtest_sex,ytest[:,1]),knn_age.score(xtest_age,ytest[:,2]),knn_race.score(xtest_race,ytest[:,3]),knn_face.score(xtest_face,ytest[:,4])])\n",
    "result2 = np.array([sex_result.mean(),age_result.mean(),race_result.mean(),face_result.mean()])\n",
    "rects1 = ax.bar(num-0.3/2,result1,width = 0.3,label = 'predict_score')\n",
    "rects2 = ax.bar(num+0.3/2,result2,width=0.3,label = 'cross_val_score')\n",
    "\n",
    "ax.set_ylabel(\"scores\")\n",
    "ax.set_title(\"FLDA_KNN:Contrast of scores\")\n",
    "ax.set_xticks(num)\n",
    "ax.set_xticklabels(labels)\n",
    "ax.legend()\n",
    "#绘制标签\n",
    "def autolabel(rects):\n",
    "    for rect in rects:\n",
    "        height = rect.get_height()\n",
    "        ax.annotate('{}'.format(height),\n",
    "                    xy=(rect.get_x() + rect.get_width()/2,height),\n",
    "                   xytext=(0,3),\n",
    "                   textcoords=\"offset points\",\n",
    "                   ha='center',va='bottom')\n",
    "autolabel(rects1)\n",
    "autolabel(rects2)\n",
    "fig.tight_layout()\n",
    "plt.savefig(\"FLDA_KNN.jpg\")\n",
    "plt.show()"
   ]
  },
  {
   "cell_type": "code",
   "execution_count": null,
   "id": "0a1f5f34-1df9-4c6f-90f7-6a7abbc975e5",
   "metadata": {},
   "outputs": [],
   "source": []
  }
 ],
 "metadata": {
  "kernelspec": {
   "display_name": "Python 3",
   "language": "python",
   "name": "python3"
  },
  "language_info": {
   "codemirror_mode": {
    "name": "ipython",
    "version": 3
   },
   "file_extension": ".py",
   "mimetype": "text/x-python",
   "name": "python",
   "nbconvert_exporter": "python",
   "pygments_lexer": "ipython3",
   "version": "3.8.8"
  }
 },
 "nbformat": 4,
 "nbformat_minor": 5
}
