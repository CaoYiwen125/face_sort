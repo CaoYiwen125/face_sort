{
 "cells": [
  {
   "cell_type": "markdown",
   "id": "74dc6822-ba30-41ec-a4a2-eb0727a69fdf",
   "metadata": {},
   "source": [
    "## 一、特征提取及拼写错误修改"
   ]
  },
  {
   "cell_type": "code",
   "execution_count": 1,
   "id": "c788905f-1371-4f9a-b905-2f2fa50df693",
   "metadata": {},
   "outputs": [
    {
     "name": "stdout",
     "output_type": "stream",
     "text": [
      "图像训练数据xtrain:\n",
      " [[ 1.22300000e+03 -1.77961902e+03  2.10730127e+03 ... -8.61942370e+01\n",
      "   1.28772320e+01  2.38823390e+01]\n",
      " [ 1.22400000e+03 -2.71997339e+03  2.97884375e+03 ... -4.68737700e+00\n",
      "  -4.28034670e+01  1.19861970e+01]\n",
      " [ 1.22500000e+03 -9.46141785e+02 -1.17116028e+03 ...  6.00232730e+01\n",
      "   2.21902800e+00  1.66275270e+01]\n",
      " ...\n",
      " [ 3.22000000e+03  1.07736768e+03 -6.24962646e+02 ...  3.08739870e+01\n",
      "  -1.76446100e+00  6.32692180e+01]\n",
      " [ 3.22100000e+03  1.62751266e+02  1.92902429e+03 ...  1.28961792e+02\n",
      "   5.91272430e+01 -5.73871399e+02]\n",
      " [ 3.22200000e+03 -6.97708984e+02 -2.36467910e+01 ... -9.68876270e+01\n",
      "  -1.05578690e+02  1.03433350e+02]] (1996, 100)\n",
      "\n",
      "xtrain去编号后：\n",
      " [[-1.77961902e+03  2.10730127e+03  8.07759949e+02 ... -8.61942370e+01\n",
      "   1.28772320e+01  2.38823390e+01]\n",
      " [-2.71997339e+03  2.97884375e+03 -1.22765790e+01 ... -4.68737700e+00\n",
      "  -4.28034670e+01  1.19861970e+01]\n",
      " [-9.46141785e+02 -1.17116028e+03  5.57305603e+02 ...  6.00232730e+01\n",
      "   2.21902800e+00  1.66275270e+01]\n",
      " ...\n",
      " [ 1.07736768e+03 -6.24962646e+02 -4.68857788e+02 ...  3.08739870e+01\n",
      "  -1.76446100e+00  6.32692180e+01]\n",
      " [ 1.62751266e+02  1.92902429e+03 -3.10213281e+03 ...  1.28961792e+02\n",
      "   5.91272430e+01 -5.73871399e+02]\n",
      " [-6.97708984e+02 -2.36467910e+01  1.33136340e+03 ... -9.68876270e+01\n",
      "  -1.05578690e+02  1.03433350e+02]] (1996, 99)\n",
      "\n",
      "xtrain标准化后：\n",
      " [[-0.7150059   1.44885637  0.76471857 ... -0.73084344  0.03944986\n",
      "   0.13721498]\n",
      " [-1.15504469  2.06241286 -0.08316677 ...  0.1045747  -0.53830313\n",
      "   0.03210577]\n",
      " [-0.32498026 -0.85914513  0.50575868 ...  0.76783728 -0.07114159\n",
      "   0.07311457]\n",
      " ...\n",
      " [ 0.62192092 -0.4746279  -0.55525368 ...  0.46906682 -0.11247499\n",
      "   0.48522055]\n",
      " [ 0.1939262   1.3233513  -3.2779559  ...  1.47443411  0.51934833\n",
      "  -5.14428068]\n",
      " [-0.20872614 -0.05130804  1.30610383 ... -0.84044712 -1.18967017\n",
      "   0.84009359]] \n",
      "特征数： 99 \n",
      "样本数： 1996\n",
      "标签训练数据ytrain:\n",
      " [['1223' 'male' 'child' 'white' 'smiling']\n",
      " ['1224' 'male' 'child' 'white' 'serious']\n",
      " ['1225' 'male' 'child' 'white' 'smiling']\n",
      " ...\n",
      " ['3220' 'female' 'adult' 'asian' 'serious']\n",
      " ['3221' 'female' 'senior' 'white' 'smiling']\n",
      " ['3222' 'female' 'senior' 'black' 'serious']] (1996, 5)\n",
      "\n",
      "性别分类ytrain_sex:\n",
      " ['male' 'male' 'male' ... 'female' 'female' 'female'] (1996,)\n",
      "\n",
      "年龄分类ytrain_age:\n",
      " ['child' 'child' 'child' ... 'adult' 'senior' 'senior'] (1996,)\n",
      "\n",
      "种族分类ytrain_race:\n",
      " ['white' 'white' 'white' ... 'asian' 'white' 'black'] (1996,)\n",
      "\n",
      "表情分类ytrain_face:\n",
      " ['smiling' 'serious' 'smiling' ... 'serious' 'smiling' 'serious'] (1996,)\n",
      "图像测试数据xtest:\n",
      " [[ 3223.        1509.810059  -258.181854 ...  -156.00473    -24.142797\n",
      "    -30.994535]\n",
      " [ 3224.        1887.549927  -604.501404 ...   -84.800957    54.544933\n",
      "     10.758374]\n",
      " [ 3225.         479.281891  1204.433105 ...   -84.359192   -47.144707\n",
      "    -29.58638 ]\n",
      " ...\n",
      " [ 5220.         765.723267   152.202209 ...   -10.661225    71.933243\n",
      "    139.105927]\n",
      " [ 5221.        3535.591553 -1172.505737 ...    69.269463   -67.06485\n",
      "     62.041889]\n",
      " [ 5222.        -742.207458   106.262558 ...    36.534725    23.340706\n",
      "   -101.602966]] (1996, 100)\n",
      "\n",
      "xtest去编号后：\n",
      " [[ 1509.810059  -258.181854 -1190.012451 ...  -156.00473    -24.142797\n",
      "    -30.994535]\n",
      " [ 1887.549927  -604.501404    49.436756 ...   -84.800957    54.544933\n",
      "     10.758374]\n",
      " [  479.281891  1204.433105  -623.750671 ...   -84.359192   -47.144707\n",
      "    -29.58638 ]\n",
      " ...\n",
      " [  765.723267   152.202209   345.341125 ...   -10.661225    71.933243\n",
      "    139.105927]\n",
      " [ 3535.591553 -1172.505737  -298.611542 ...    69.269463   -67.06485\n",
      "     62.041889]\n",
      " [ -742.207458   106.262558   387.411316 ...    36.534725    23.340706\n",
      "   -101.602966]] (1996, 99)\n",
      "\n",
      "xtest标准化后：\n",
      " [[ 0.51385822 -0.61593044 -1.10775149 ... -1.83415493 -0.47676919\n",
      "  -0.6129337 ]\n",
      " [ 0.64245302 -0.86719053  0.16046703 ... -1.04494627  0.39411133\n",
      "  -0.22816376]\n",
      " [ 0.16303329  0.4452189  -0.528346   ... -1.04004983 -0.73134402\n",
      "  -0.59995698]\n",
      " ...\n",
      " [ 0.26054715 -0.31819057  0.46323974 ... -0.22319601  0.58655735\n",
      "   0.95461083]\n",
      " [ 1.20349938 -1.27928629 -0.19565995 ...  0.66274007 -0.95181123\n",
      "   0.24443456]\n",
      " [-0.25280096 -0.35152049  0.50628644 ...  0.29991465  0.04875693\n",
      "  -1.26361894]]\n",
      "标签测试数据ytest:\n",
      " [['3223' 'female' 'senior' 'black' 'smiling']\n",
      " ['3224' 'female' 'adult' 'black' 'smiling']\n",
      " ['3225' 'male' 'senior' 'white' 'smiling']\n",
      " ...\n",
      " ['5220' 'female' 'adult' 'white' 'serious']\n",
      " ['5221' 'female' 'adult' 'white' 'smiling']\n",
      " ['5222' 'female' 'adult' 'white' 'smiling']] (1996, 5)\n",
      "\n",
      "性别分类ytest_sex:\n",
      " ['female' 'female' 'male' ... 'female' 'female' 'female'] (1996,)\n",
      "\n",
      "年龄分类ytest_age:\n",
      " ['senior' 'adult' 'senior' ... 'adult' 'adult' 'adult'] (1996,)\n",
      "\n",
      "种族分类ytest_race:\n",
      " ['black' 'black' 'white' ... 'white' 'white' 'white'] (1996,)\n",
      "\n",
      "表情分类ytest_face:\n",
      " ['smiling' 'smiling' 'smiling' ... 'serious' 'smiling' 'smiling'] (1996,)\n",
      "用训练后的性别分类LDA模型降维后的图像训练数据和测试数据： (1996, 1) (1996, 1)\n",
      "用训练后的年龄分类LDA模型降维后的图像训练数据和测试数据： (1996, 3) (1996, 3)\n",
      "用训练后的种族分类LDA模型降维后的图像训练数据和测试数据： (1996, 4) (1996, 4)\n",
      "用训练后的表情分类LDA模型降维后的图像训练数据和测试数据： (1996, 2) (1996, 2)\n"
     ]
    }
   ],
   "source": [
    "import numpy as np\n",
    "from sklearn.preprocessing import StandardScaler\n",
    "from sklearn.discriminant_analysis import LinearDiscriminantAnalysis as LDA\n",
    "\n",
    "########## 1、获取数字化后的图像训练数据 ##########\n",
    "f = open(\"faceR\",\"r\",encoding=\"utf8\")\n",
    "x = f.read()\n",
    "f.close()\n",
    "x = x.split() #默认删除所有空字符，包括空格和换行符等\n",
    "x = np.array(list(float(char) for char in x)) #字符串列表转数组\n",
    "x.resize((1996,100)) #转为二维数组\n",
    "xtrain = x\n",
    "print('图像训练数据xtrain:\\n',xtrain,xtrain.shape)\n",
    "xtrain = np.delete(xtrain,0,axis=1) #删除第一列：图片编号\n",
    "print('\\nxtrain去编号后：\\n',xtrain,xtrain.shape)\n",
    "#标准化图像训练数据\n",
    "scaler = StandardScaler()\n",
    "xtrain = scaler.fit_transform(xtrain)\n",
    "n_features = xtrain.shape[1]\n",
    "n_samples = xtrain.shape[0]\n",
    "print('\\nxtrain标准化后：\\n',xtrain,\"\\n特征数：\",n_features,\"\\n样本数：\",n_samples)\n",
    "\n",
    "\n",
    "######### 2、获取预处理后的标签训练数据 ##########\n",
    "f = open(\"faceDR\",\"r\",encoding=\"utf8\")\n",
    "y = f.read()\n",
    "f.close()\n",
    "y = y.split() #默认删除所有空字符，包括空格和换行符等\n",
    "#print(y)\n",
    "del y[0]\n",
    "#print(y)\n",
    "y = np.array(y)\n",
    "y.resize((1996,5))\n",
    "ytrain = y\n",
    "#faceDR中错误修改\n",
    "for i in range(1996):\n",
    "    if ytrain[i,2] == 'chil':\n",
    "        ytrain[i,2] = 'child'\n",
    "    elif ytrain[i,2] == 'adulte':\n",
    "        ytrain[i,2] = 'adult'\n",
    "    elif ytrain[i,3] == 'whit':\n",
    "        ytrain[i,3] = 'white'\n",
    "    elif ytrain[i,3] == 'whitee':\n",
    "        ytrain[i,3] = 'white'\n",
    "    elif ytrain[i,4] == 'erious':\n",
    "        ytrain[i,4] = 'serious'\n",
    "    elif ytrain[i,4] == 'smilin':\n",
    "        ytrain[i,4] = 'smiling'\n",
    "print('标签训练数据ytrain:\\n',ytrain,ytrain.shape)\n",
    "\n",
    "#性别分类\n",
    "print('\\n性别分类ytrain_sex:\\n',ytrain[:,1],ytrain[:,1].shape)\n",
    "#年龄分类\n",
    "print('\\n年龄分类ytrain_age:\\n',ytrain[:,2],ytrain[:,2].shape)\n",
    "#种族分类\n",
    "print('\\n种族分类ytrain_race:\\n',ytrain[:,3],ytrain[:,3].shape)\n",
    "#表情分类\n",
    "print('\\n表情分类ytrain_face:\\n',ytrain[:,4],ytrain[:,4].shape)\n",
    "\n",
    "\n",
    "########### 3、获取预处理后的测试数据 #########\n",
    "f = open(\"faceS\",\"r\",encoding=\"utf8\")\n",
    "x2 = f.read()\n",
    "f.close()\n",
    "x2 = x2.split() #默认删除所有空字符，包括空格和换行符等\n",
    "x2 = np.array(list(float(char) for char in x2)) #字符串列表转数组\n",
    "x2.resize((1996,100)) #转为二维数组\n",
    "xtest = x2\n",
    "print('图像测试数据xtest:\\n',xtest,xtest.shape)\n",
    "xtest = np.delete(xtest,0,axis=1) #删除第一列：图片编号\n",
    "print('\\nxtest去编号后：\\n',xtest,xtest.shape)\n",
    "xtest = scaler.fit_transform(xtest)\n",
    "print('\\nxtest标准化后：\\n',xtest)\n",
    "\n",
    "\n",
    "########### 4、获取标签测试数据 ##########\n",
    "f = open(\"faceDS\",\"r\",encoding=\"utf8\")\n",
    "y2 = f.read()\n",
    "f.close()\n",
    "y2 = y2.split() #默认删除所有空字符，包括空格和换行符等\n",
    "#del y2[0]  #faceDS文件比faceDR文件少了第一个多余的字符串，所以不用del掉。建议此处先print测试一下\n",
    "y2 = np.array(y2)\n",
    "y2.resize((1996,5))\n",
    "ytest = y2\n",
    "print('标签测试数据ytest:\\n',ytest,ytest.shape)\n",
    "#性别分类\n",
    "print('\\n性别分类ytest_sex:\\n',ytest[:,1],ytest[:,1].shape)\n",
    "#年龄分类\n",
    "print('\\n年龄分类ytest_age:\\n',ytest[:,2],ytest[:,2].shape)\n",
    "#种族分类\n",
    "print('\\n种族分类ytest_race:\\n',ytest[:,3],ytest[:,3].shape)\n",
    "#表情分类\n",
    "print('\\n表情分类ytest_face:\\n',ytest[:,4],ytest[:,4].shape)\n",
    "\n",
    "\n",
    "########## 5、创建LDA模型降维并训练 ###########\n",
    "##不同于PCA用于无监督学习的特征提取，FLDA适用于监督学习的特征提取，即需要标签y一起送入LDA模型中训练\n",
    "#创建性别分类的LDA模型降维并训练\n",
    "lda_sex = LDA(n_components=1) #监督学习下的FLDA特征提取，数据降维后的维数受特征维数和类别数的限制，不能超过（类别数-1）；PCA较自由\n",
    "lda_sex.fit(xtrain,ytrain[:,1]) #最大不能超过2-1=1\n",
    "#将训练好的LDA模型对数据进行特征提取\n",
    "xtrain_sex = lda_sex.transform(xtrain)\n",
    "xtest_sex = lda_sex.transform(xtest)\n",
    "print('用训练后的性别分类LDA模型降维后的图像训练数据和测试数据：',xtrain_sex.shape,xtest_sex.shape)\n",
    "\n",
    "#创建年龄分类的LDA模型降维并训练\n",
    "lda_age = LDA(n_components=3) #最大不能超过4-1=3\n",
    "lda_age.fit(xtrain,ytrain[:,2])\n",
    "#将训练好的LDA模型对数据进行特征提取\n",
    "xtrain_age = lda_age.transform(xtrain)\n",
    "xtest_age = lda_age.transform(xtest)\n",
    "print('用训练后的年龄分类LDA模型降维后的图像训练数据和测试数据：',xtrain_age.shape,xtest_age.shape)\n",
    "\n",
    "#创建种族分类的LDA模型降维并训练\n",
    "lda_race = LDA(n_components=4) #最大不能超过5-1=4\n",
    "lda_race.fit(xtrain,ytrain[:,3])\n",
    "#将训练好的LDA模型对数据进行特征提取\n",
    "xtrain_race = lda_race.transform(xtrain)\n",
    "xtest_race = lda_race.transform(xtest)\n",
    "print('用训练后的种族分类LDA模型降维后的图像训练数据和测试数据：',xtrain_race.shape,xtest_race.shape)\n",
    "\n",
    "#创建表情分类的LDA模型降维并训练\n",
    "lda_face = LDA(n_components=2) #最大不能超过3-1=2\n",
    "lda_face.fit(xtrain,ytrain[:,4])\n",
    "#将训练好的LDA模型对数据进行特征提取\n",
    "xtrain_face = lda_face.transform(xtrain)\n",
    "xtest_face = lda_face.transform(xtest)\n",
    "print('用训练后的表情分类LDA模型降维后的图像训练数据和测试数据：',xtrain_face.shape,xtest_face.shape)"
   ]
  },
  {
   "cell_type": "markdown",
   "id": "346940c2-0cc5-4051-b3ac-c6292a9242d3",
   "metadata": {},
   "source": [
    "## 二、SVM分类器及其交叉验证"
   ]
  },
  {
   "cell_type": "markdown",
   "id": "6856b3a8-3348-4bb7-85c3-a0ce7b7148e3",
   "metadata": {},
   "source": [
    "1. 性别分类"
   ]
  },
  {
   "cell_type": "code",
   "execution_count": 5,
   "id": "806d212d-6a77-437a-8ca4-5d0a99f27167",
   "metadata": {},
   "outputs": [],
   "source": [
    "from sklearn.model_selection import GridSearchCV\n",
    "from sklearn.metrics import classification_report\n",
    "from sklearn.svm import SVC\n",
    "from sklearn.preprocessing import LabelEncoder\n",
    "#标签数据预处理  \n",
    "le = LabelEncoder()  \n",
    "ytrain_sex = le.fit_transform(ytrain[:,1]) \n",
    "ytest_sex = le.transform(ytest[:,1])\n",
    "\n",
    "#用GridSearch调参\n",
    "param_grid = [{'kernel': ['rbf'], 'gamma': [1e-3, 1e-4,0.1, 1, 10],\n",
    "                     'C': [0.1,1, 10, 100, 1000]},\n",
    "                    {'kernel': ['linear'], 'C': [0.1,1, 10, 100, 1000]}]\n",
    "grid_search = GridSearchCV(SVC(), param_grid, cv=5)"
   ]
  },
  {
   "cell_type": "code",
   "execution_count": 15,
   "id": "77d4d47a-5013-44af-862f-08c2e445b58c",
   "metadata": {},
   "outputs": [
    {
     "name": "stdout",
     "output_type": "stream",
     "text": [
      "模型最优参数:  {'C': 10, 'gamma': 0.001, 'kernel': 'rbf'}\n",
      "准确率:  0.8222205513784461\n"
     ]
    }
   ],
   "source": [
    "##性别分类\n",
    "grid_search.fit(xtrain_sex, ytrain_sex)\n",
    "print(\"模型最优参数: \", grid_search.best_params_)\n",
    "print(\"准确率: \", grid_search.best_score_)"
   ]
  },
  {
   "cell_type": "code",
   "execution_count": 7,
   "id": "79fd2f8c-937c-4649-be72-99a5577c58fd",
   "metadata": {},
   "outputs": [
    {
     "name": "stdout",
     "output_type": "stream",
     "text": [
      "SVM分类——性别分类预测结果： ['female' 'female' 'male' ... 'female' 'male' 'female'] (1996,)\n",
      "SVM分类——性别分类分数： 0.7064128256513026\n"
     ]
    }
   ],
   "source": [
    "svm_sex = SVC(kernel='rbf',C=10,gamma=0.001) #创建最优参数的分类器并训练\n",
    "svm_sex.fit(xtrain_sex, ytrain_sex)\n",
    "predict_sex = np.array(le.inverse_transform(svm_sex.predict(xtest_sex))) #预测\n",
    "print('SVM分类——性别分类预测结果：',predict_sex,predict_sex.shape)\n",
    "print('SVM分类——性别分类分数：',svm_sex.score(xtest_sex,ytest_sex))"
   ]
  },
  {
   "cell_type": "markdown",
   "id": "8e7e1a3b-8ef9-4008-90b3-f30fe15a40a0",
   "metadata": {},
   "source": [
    "2. 年龄分类"
   ]
  },
  {
   "cell_type": "code",
   "execution_count": 8,
   "id": "a8a728b5-c096-4dbc-9bd2-b9a90452e640",
   "metadata": {},
   "outputs": [],
   "source": [
    "#标签数据预处理   \n",
    "ytrain_age = le.fit_transform(ytrain[:,2]) \n",
    "ytest_age = le.transform(ytest[:,2])"
   ]
  },
  {
   "cell_type": "code",
   "execution_count": 17,
   "id": "a5454bfb-a00b-401d-a11b-855b8eeb7c2f",
   "metadata": {},
   "outputs": [
    {
     "name": "stdout",
     "output_type": "stream",
     "text": [
      "模型最优参数:  {'C': 10, 'gamma': 0.1, 'kernel': 'rbf'}\n",
      "准确率:  0.8212606516290727\n"
     ]
    }
   ],
   "source": [
    "##年龄分类\n",
    "grid_search.fit(xtrain_age, ytrain_age)\n",
    "print(\"模型最优参数: \", grid_search.best_params_)\n",
    "print(\"准确率: \", grid_search.best_score_)"
   ]
  },
  {
   "cell_type": "code",
   "execution_count": 9,
   "id": "687a3fc2-8147-41c5-95b9-7e5cf7ba54b6",
   "metadata": {},
   "outputs": [
    {
     "name": "stdout",
     "output_type": "stream",
     "text": [
      "SVM分类——年龄分类预测结果： ['adult' 'adult' 'adult' ... 'adult' 'adult' 'child'] (1996,)\n",
      "SVM分类——年龄分类分数： 0.8286573146292585\n"
     ]
    }
   ],
   "source": [
    "svm_age = SVC(kernel='rbf',C=10,gamma=0.1) #创建最优参数的分类器并训练\n",
    "svm_age.fit(xtrain_age, ytrain_age)\n",
    "predict_age = np.array(le.inverse_transform(svm_age.predict(xtest_age))) #预测\n",
    "print('SVM分类——年龄分类预测结果：',predict_age,predict_age.shape)\n",
    "print('SVM分类——年龄分类分数：',svm_age.score(xtest_age,ytest_age))"
   ]
  },
  {
   "cell_type": "markdown",
   "id": "44247700-0c3e-44bd-9d36-c71c9cac9430",
   "metadata": {},
   "source": [
    "3. 种族分类"
   ]
  },
  {
   "cell_type": "code",
   "execution_count": 10,
   "id": "c3a3302b-229f-4e52-97a8-18d63d995001",
   "metadata": {},
   "outputs": [],
   "source": [
    "#标签数据预处理   \n",
    "ytrain_race = le.fit_transform(ytrain[:,3]) \n",
    "ytest_race = le.transform(ytest[:,3])"
   ]
  },
  {
   "cell_type": "code",
   "execution_count": 19,
   "id": "1cd9fd4c-b82a-44d0-9d07-d864de65999e",
   "metadata": {},
   "outputs": [
    {
     "name": "stdout",
     "output_type": "stream",
     "text": [
      "模型最优参数:  {'C': 1000, 'gamma': 0.0001, 'kernel': 'rbf'}\n",
      "准确率:  0.9549160401002507\n"
     ]
    }
   ],
   "source": [
    "##年龄分类\n",
    "grid_search.fit(xtrain_race, ytrain_race)\n",
    "print(\"模型最优参数: \", grid_search.best_params_)\n",
    "print(\"准确率: \", grid_search.best_score_)"
   ]
  },
  {
   "cell_type": "markdown",
   "id": "1b2bae9c-5b10-4f95-881a-8d63418db406",
   "metadata": {},
   "source": [
    "惩罚系数太大，重新调整一下"
   ]
  },
  {
   "cell_type": "code",
   "execution_count": 11,
   "id": "aef1ac33-f29b-4f2b-b99e-51351093aaf1",
   "metadata": {},
   "outputs": [
    {
     "name": "stdout",
     "output_type": "stream",
     "text": [
      "SVM分类——种族分类预测结果： ['white' 'white' 'white' ... 'white' 'white' 'white'] (1996,)\n",
      "SVM分类——种族分类分数： 0.8617234468937875\n"
     ]
    }
   ],
   "source": [
    "svm_race = SVC(kernel='rbf',C=1,gamma=0.1) #创建最优参数的分类器并训练\n",
    "svm_race.fit(xtrain_race, ytrain_race)\n",
    "predict_race = np.array(le.inverse_transform(svm_race.predict(xtest_race))) #预测\n",
    "print('SVM分类——种族分类预测结果：',predict_race,predict_race.shape)\n",
    "print('SVM分类——种族分类分数：',svm_race.score(xtest_race,ytest_race))"
   ]
  },
  {
   "cell_type": "markdown",
   "id": "6e9b1bcd-4886-425b-a659-46d8cb4b0916",
   "metadata": {},
   "source": [
    "4. 表情分类"
   ]
  },
  {
   "cell_type": "code",
   "execution_count": 12,
   "id": "e8173466-08bc-423a-98d4-e0c8d2465182",
   "metadata": {},
   "outputs": [],
   "source": [
    "#标签数据预处理   \n",
    "ytrain_face = le.fit_transform(ytrain[:,4]) \n",
    "ytest_face = le.transform(ytest[:,4])"
   ]
  },
  {
   "cell_type": "code",
   "execution_count": 37,
   "id": "15555fc5-5d8c-4007-9317-fcdbc68111dd",
   "metadata": {},
   "outputs": [
    {
     "name": "stdout",
     "output_type": "stream",
     "text": [
      "模型最优参数:  {'C': 1, 'kernel': 'linear'}\n",
      "准确率:  0.7990902255639097\n"
     ]
    }
   ],
   "source": [
    "##年龄分类\n",
    "grid_search.fit(xtrain_face, ytrain_face)\n",
    "print(\"模型最优参数: \", grid_search.best_params_)\n",
    "print(\"准确率: \", grid_search.best_score_)"
   ]
  },
  {
   "cell_type": "code",
   "execution_count": 13,
   "id": "5b3c8b46-173b-4968-bf30-ca4cb5a1998c",
   "metadata": {},
   "outputs": [
    {
     "name": "stdout",
     "output_type": "stream",
     "text": [
      "SVM分类——表情分类预测结果： ['smiling' 'smiling' 'smiling' ... 'serious' 'smiling' 'serious'] (1996,)\n",
      "SVM分类——表情分类分数： 0.7695390781563126\n"
     ]
    }
   ],
   "source": [
    "svm_face = SVC(kernel='linear',C=1) #创建最优参数的分类器并训练\n",
    "svm_face.fit(xtrain_face, ytrain_face)\n",
    "predict_face = np.array(le.inverse_transform(svm_face.predict(xtest_face))) #预测\n",
    "print('SVM分类——表情分类预测结果：',predict_face,predict_face.shape)\n",
    "print('SVM分类——表情分类分数：',svm_face.score(xtest_face,ytest_face))"
   ]
  },
  {
   "cell_type": "markdown",
   "id": "cb917927-5461-449a-93b8-9543b83f97ee",
   "metadata": {},
   "source": [
    "5. 五折交叉验证"
   ]
  },
  {
   "cell_type": "code",
   "execution_count": 14,
   "id": "9461295e-ac20-4415-ae13-392b0733df2d",
   "metadata": {},
   "outputs": [],
   "source": [
    "from sklearn.model_selection import KFold\n",
    "from sklearn.model_selection import cross_val_score"
   ]
  },
  {
   "cell_type": "code",
   "execution_count": 15,
   "id": "1c103d98-d6ba-4519-a835-736f5f5cbd1c",
   "metadata": {},
   "outputs": [
    {
     "name": "stdout",
     "output_type": "stream",
     "text": [
      "所有图像数据：\n",
      " [[-0.7150059   1.44885637  0.76471857 ... -0.73084344  0.03944986\n",
      "   0.13721498]\n",
      " [-1.15504469  2.06241286 -0.08316677 ...  0.1045747  -0.53830313\n",
      "   0.03210577]\n",
      " [-0.32498026 -0.85914513  0.50575868 ...  0.76783728 -0.07114159\n",
      "   0.07311457]\n",
      " ...\n",
      " [ 0.26054715 -0.31819057  0.46323974 ... -0.22319601  0.58655735\n",
      "   0.95461083]\n",
      " [ 1.20349938 -1.27928629 -0.19565995 ...  0.66274007 -0.95181123\n",
      "   0.24443456]\n",
      " [-0.25280096 -0.35152049  0.50628644 ...  0.29991465  0.04875693\n",
      "  -1.26361894]] (3992, 99) \n",
      "所有标签数据：\n",
      " [['1223' 'male' 'child' 'white' 'smiling']\n",
      " ['1224' 'male' 'child' 'white' 'serious']\n",
      " ['1225' 'male' 'child' 'white' 'smiling']\n",
      " ...\n",
      " ['5220' 'female' 'adult' 'white' 'serious']\n",
      " ['5221' 'female' 'adult' 'white' 'smiling']\n",
      " ['5222' 'female' 'adult' 'white' 'smiling']] (3992, 5)\n",
      "性别SVM分类交叉验证结果：0.84(±0.02)\n",
      "年龄SVM分类交叉验证结果：0.80(±0.03)\n",
      "种族SVM分类交叉验证结果：0.93(±0.01)\n",
      "表情SVM分类交叉验证结果：0.80(±0.02)\n"
     ]
    }
   ],
   "source": [
    "#合并x数据和y数据\n",
    "X = np.concatenate([xtrain,xtest],axis=0)\n",
    "Y = np.concatenate([ytrain,ytest],axis=0)\n",
    "print('所有图像数据：\\n',X,X.shape,'\\n所有标签数据：\\n',Y,Y.shape)\n",
    "#交叉验证\n",
    "kfold = KFold(n_splits=5,shuffle=True,random_state=42)\n",
    "\n",
    "Y_sex = le.fit_transform(Y[:,1])\n",
    "sex_result = cross_val_score(svm_sex,X,Y_sex,cv=kfold)\n",
    "print('性别SVM分类交叉验证结果：%0.2f(±%0.2f)'%(sex_result.mean(),sex_result.std()*2))\n",
    "\n",
    "Y_age = le.fit_transform(Y[:,2])\n",
    "age_result = cross_val_score(svm_age,X,Y_age,cv=kfold)\n",
    "print('年龄SVM分类交叉验证结果：%0.2f(±%0.2f)'%(age_result.mean(),age_result.std()*2))\n",
    "\n",
    "Y_race = le.fit_transform(Y[:,3])\n",
    "race_result = cross_val_score(svm_race,X,Y_race,cv=kfold)\n",
    "print('种族SVM分类交叉验证结果：%0.2f(±%0.2f)'%(race_result.mean(),race_result.std()*2))\n",
    "\n",
    "Y_face = le.fit_transform(Y[:,4])\n",
    "face_result = cross_val_score(svm_face,X,Y_face,cv=kfold)\n",
    "print('表情SVM分类交叉验证结果：%0.2f(±%0.2f)'%(face_result.mean(),face_result.std()*2))"
   ]
  },
  {
   "cell_type": "markdown",
   "id": "c72fca2c-7cd3-47d2-ada8-72d59ddf49ac",
   "metadata": {},
   "source": [
    "6. 绘制分数对比图"
   ]
  },
  {
   "cell_type": "code",
   "execution_count": 16,
   "id": "8b38bd31-efe4-47b3-80fc-6bb5292a2382",
   "metadata": {},
   "outputs": [],
   "source": [
    "import matplotlib\n",
    "import matplotlib.pyplot as plt"
   ]
  },
  {
   "cell_type": "code",
   "execution_count": 17,
   "id": "adbe1bb3-c6f4-4521-83b4-005e92941bf2",
   "metadata": {},
   "outputs": [
    {
     "data": {
      "image/png": "[encoded data removed]",
      "text/plain": [
       "<Figure size 900x550 with 1 Axes>"
      ]
     },
     "metadata": {
      "needs_background": "light"
     },
     "output_type": "display_data"
    }
   ],
   "source": [
    "plt.rcParams['savefig.dpi'] = 100 #图片像素\n",
    "plt.rcParams['figure.dpi'] = 100 #分辨率\n",
    "plt.rcParams['figure.figsize'] = (9.0, 5.5)\n",
    "fig,ax = plt.subplots()\n",
    "#绘制Bar\n",
    "labels = ['sex',\"age\",'race','face']\n",
    "num = np.arange(4)\n",
    "result1 = np.array([svm_sex.score(xtest_sex,ytest_sex),svm_age.score(xtest_age,ytest_age),svm_race.score(xtest_race,ytest_race),svm_face.score(xtest_face,ytest_face)])\n",
    "result2 = np.array([sex_result.mean(),age_result.mean(),race_result.mean(),face_result.mean()])\n",
    "rects1 = ax.bar(num-0.3/2,result1,width = 0.3,label = 'predict_score')\n",
    "rects2 = ax.bar(num+0.3/2,result2,width=0.3,label = 'cross_val_score')\n",
    "\n",
    "ax.set_ylabel(\"scores\")\n",
    "ax.set_title(\"FLDA_SVM:Contrast of scores\")\n",
    "ax.set_xticks(num)\n",
    "ax.set_xticklabels(labels)\n",
    "ax.legend()\n",
    "#绘制标签\n",
    "def autolabel(rects):\n",
    "    for rect in rects:\n",
    "        height = rect.get_height()\n",
    "        ax.annotate('{}'.format(height),\n",
    "                    xy=(rect.get_x() + rect.get_width()/2,height),\n",
    "                   xytext=(0,3),\n",
    "                   textcoords=\"offset points\",\n",
    "                   ha='center',va='bottom')\n",
    "autolabel(rects1)\n",
    "autolabel(rects2)\n",
    "fig.tight_layout()\n",
    "plt.savefig(\"FLDA_SVM.jpg\")\n",
    "plt.show()"
   ]
  },
  {
   "cell_type": "markdown",
   "id": "a26c6b5f-68eb-44b0-847f-5ee3a065f890",
   "metadata": {},
   "source": [
    "## 三、BP神经网络分类器及其交叉验证"
   ]
  },
  {
   "cell_type": "markdown",
   "id": "12f47ae9-27cf-4e02-80c7-4401d59ac819",
   "metadata": {},
   "source": [
    "1. 性别分类"
   ]
  },
  {
   "cell_type": "code",
   "execution_count": 19,
   "id": "173f18e7-420d-4d78-8685-00e472c0b466",
   "metadata": {},
   "outputs": [],
   "source": [
    "from sklearn.model_selection import GridSearchCV\n",
    "from sklearn.preprocessing import LabelEncoder\n",
    "from sklearn.neural_network import MLPClassifier\n",
    "#标签数据预处理  \n",
    "le = LabelEncoder()  \n",
    "ytrain_sex = le.fit_transform(ytrain[:,1]) \n",
    "ytest_sex = le.transform(ytest[:,1])"
   ]
  },
  {
   "cell_type": "code",
   "execution_count": 21,
   "id": "dd1dc2d0-e543-434f-b9a6-66e76fbfce66",
   "metadata": {},
   "outputs": [
    {
     "name": "stdout",
     "output_type": "stream",
     "text": [
      "模型最优参数:  {'activation': 'logistic', 'hidden_layer_sizes': (600,), 'learning_rate_init': 0.1, 'max_iter': 500, 'solver': 'adam'}\n",
      "准确率:  0.8242092731829574\n"
     ]
    }
   ],
   "source": [
    "#用GridSearch调参\n",
    "param_grid = {'hidden_layer_sizes': [(550,),(600,),(650,)],\n",
    "               'activation': ['logistic','tanh','relu'],\n",
    "               'solver': ['adam'],\n",
    "               'learning_rate_init': [0.001, 0.01, 0.1],\n",
    "             'max_iter': [500]}\n",
    "grid_search = GridSearchCV(MLPClassifier(), param_grid, cv=5)\n",
    "\n",
    "##性别分类\n",
    "grid_search.fit(xtrain_sex, ytrain_sex)\n",
    "print(\"模型最优参数: \", grid_search.best_params_)\n",
    "print(\"准确率: \", grid_search.best_score_)"
   ]
  },
  {
   "cell_type": "markdown",
   "id": "84e52dcd-320e-49e5-96a6-b9b882448404",
   "metadata": {},
   "source": [
    "由于BP网络分类的结果是会有变化的，故令分类器训练并预测30次，取30次分数的平均值作为最终结果。"
   ]
  },
  {
   "cell_type": "code",
   "execution_count": 20,
   "id": "1ae605de-f09c-4a24-b5f0-1e0e4d88e75b",
   "metadata": {},
   "outputs": [
    {
     "name": "stdout",
     "output_type": "stream",
     "text": [
      "BP网络分类——性别分类分数： 0.7129258517034068\n"
     ]
    }
   ],
   "source": [
    "sexscore=float(0)\n",
    "for i in range(30):\n",
    "    bp_sex = MLPClassifier(hidden_layer_sizes=(600,),activation='logistic',solver='adam',learning_rate_init=0.1,max_iter=500) #创建最优参数的分类器并训练\n",
    "    bp_sex.fit(xtrain_sex, ytrain_sex)\n",
    "    #predict_sex = np.array(le.inverse_transform(bp_sex.predict(xtest_sex))) #预测\n",
    "    #print('BP网络分类——性别分类预测结果：',predict_sex,predict_sex.shape)\n",
    "    sexscore = sexscore + bp_sex.score(xtest_sex,ytest_sex)\n",
    "print('BP网络分类——性别分类分数：',bp_sex.score(xtest_sex,ytest_sex))"
   ]
  },
  {
   "cell_type": "markdown",
   "id": "9b136fbe-51d7-47cc-9355-863cd846def4",
   "metadata": {},
   "source": [
    "2. 年龄分类"
   ]
  },
  {
   "cell_type": "code",
   "execution_count": 22,
   "id": "3a092d8f-120d-49f0-b22a-757a3c75a257",
   "metadata": {},
   "outputs": [],
   "source": [
    "#标签数据预处理   \n",
    "ytrain_age = le.fit_transform(ytrain[:,2]) \n",
    "ytest_age = le.transform(ytest[:,2])"
   ]
  },
  {
   "cell_type": "code",
   "execution_count": 23,
   "id": "c2a6e3da-8669-4d7c-8be5-ac8bf3d56852",
   "metadata": {},
   "outputs": [
    {
     "name": "stderr",
     "output_type": "stream",
     "text": [
      "D:\\anaconda3\\lib\\site-packages\\sklearn\\neural_network\\_multilayer_perceptron.py:614: ConvergenceWarning: Stochastic Optimizer: Maximum iterations (500) reached and the optimization hasn't converged yet.\n",
      "  warnings.warn(\n"
     ]
    },
    {
     "name": "stdout",
     "output_type": "stream",
     "text": [
      "模型最优参数:  {'activation': 'tanh', 'hidden_layer_sizes': (550,), 'learning_rate_init': 0.01, 'max_iter': 500, 'solver': 'adam'}\n",
      "准确率:  0.833779448621554\n"
     ]
    }
   ],
   "source": [
    "#用GridSearch调参\n",
    "param_grid = {'hidden_layer_sizes': [(500,),(550,),(570,)],\n",
    "               'activation': ['logistic','tanh','relu'],\n",
    "               'solver': ['adam'],\n",
    "               'learning_rate_init': [0.001, 0.01, 0.1],\n",
    "             'max_iter': [500]}\n",
    "grid_search = GridSearchCV(MLPClassifier(), param_grid, cv=5)\n",
    "##年龄分类\n",
    "grid_search.fit(xtrain_age, ytrain_age)\n",
    "print(\"模型最优参数: \", grid_search.best_params_)\n",
    "print(\"准确率: \", grid_search.best_score_)"
   ]
  },
  {
   "cell_type": "code",
   "execution_count": 23,
   "id": "7cb42f46-6bc6-4551-807a-64b44415e7f0",
   "metadata": {},
   "outputs": [
    {
     "name": "stdout",
     "output_type": "stream",
     "text": [
      "BP网络分类——年龄分类分数： 0.8151636606546426\n"
     ]
    }
   ],
   "source": [
    "agescore = float(0)\n",
    "for i in range(30):\n",
    "    bp_age = MLPClassifier(hidden_layer_sizes=(550,),activation='tanh',solver='adam',learning_rate_init=0.01,max_iter=500) #创建最优参数的分类器并训练\n",
    "    bp_age.fit(xtrain_age, ytrain_age)\n",
    "    #predict_age = np.array(le.inverse_transform(bp_age.predict(xtest_age))) #预测\n",
    "    #print('BP网络分类——年龄分类预测结果：',predict_age,predict_age.shape)\n",
    "    agescore = agescore + bp_age.score(xtest_age,ytest_age)\n",
    "print('BP网络分类——年龄分类分数：',agescore/30)"
   ]
  },
  {
   "cell_type": "markdown",
   "id": "03c69a76-7d71-4371-ba5e-1856739ee585",
   "metadata": {},
   "source": [
    "3. 种族分类"
   ]
  },
  {
   "cell_type": "code",
   "execution_count": 24,
   "id": "40734ac0-f387-4d1b-a1e1-240e74ed3c46",
   "metadata": {},
   "outputs": [],
   "source": [
    "#标签数据预处理    \n",
    "ytrain_race = le.fit_transform(ytrain[:,3]) \n",
    "ytest_race = le.transform(ytest[:,3])"
   ]
  },
  {
   "cell_type": "code",
   "execution_count": 25,
   "id": "3a2c3748-5d50-442d-ac94-c911597e6e0a",
   "metadata": {},
   "outputs": [
    {
     "name": "stderr",
     "output_type": "stream",
     "text": [
      "D:\\anaconda3\\lib\\site-packages\\sklearn\\neural_network\\_multilayer_perceptron.py:614: ConvergenceWarning: Stochastic Optimizer: Maximum iterations (500) reached and the optimization hasn't converged yet.\n",
      "  warnings.warn(\n",
      "D:\\anaconda3\\lib\\site-packages\\sklearn\\neural_network\\_multilayer_perceptron.py:614: ConvergenceWarning: Stochastic Optimizer: Maximum iterations (500) reached and the optimization hasn't converged yet.\n",
      "  warnings.warn(\n",
      "D:\\anaconda3\\lib\\site-packages\\sklearn\\neural_network\\_multilayer_perceptron.py:614: ConvergenceWarning: Stochastic Optimizer: Maximum iterations (500) reached and the optimization hasn't converged yet.\n",
      "  warnings.warn(\n",
      "D:\\anaconda3\\lib\\site-packages\\sklearn\\neural_network\\_multilayer_perceptron.py:614: ConvergenceWarning: Stochastic Optimizer: Maximum iterations (500) reached and the optimization hasn't converged yet.\n",
      "  warnings.warn(\n",
      "D:\\anaconda3\\lib\\site-packages\\sklearn\\neural_network\\_multilayer_perceptron.py:614: ConvergenceWarning: Stochastic Optimizer: Maximum iterations (500) reached and the optimization hasn't converged yet.\n",
      "  warnings.warn(\n",
      "D:\\anaconda3\\lib\\site-packages\\sklearn\\neural_network\\_multilayer_perceptron.py:614: ConvergenceWarning: Stochastic Optimizer: Maximum iterations (500) reached and the optimization hasn't converged yet.\n",
      "  warnings.warn(\n",
      "D:\\anaconda3\\lib\\site-packages\\sklearn\\neural_network\\_multilayer_perceptron.py:614: ConvergenceWarning: Stochastic Optimizer: Maximum iterations (500) reached and the optimization hasn't converged yet.\n",
      "  warnings.warn(\n",
      "D:\\anaconda3\\lib\\site-packages\\sklearn\\neural_network\\_multilayer_perceptron.py:614: ConvergenceWarning: Stochastic Optimizer: Maximum iterations (500) reached and the optimization hasn't converged yet.\n",
      "  warnings.warn(\n",
      "D:\\anaconda3\\lib\\site-packages\\sklearn\\neural_network\\_multilayer_perceptron.py:614: ConvergenceWarning: Stochastic Optimizer: Maximum iterations (500) reached and the optimization hasn't converged yet.\n",
      "  warnings.warn(\n",
      "D:\\anaconda3\\lib\\site-packages\\sklearn\\neural_network\\_multilayer_perceptron.py:614: ConvergenceWarning: Stochastic Optimizer: Maximum iterations (500) reached and the optimization hasn't converged yet.\n",
      "  warnings.warn(\n",
      "D:\\anaconda3\\lib\\site-packages\\sklearn\\neural_network\\_multilayer_perceptron.py:614: ConvergenceWarning: Stochastic Optimizer: Maximum iterations (500) reached and the optimization hasn't converged yet.\n",
      "  warnings.warn(\n",
      "D:\\anaconda3\\lib\\site-packages\\sklearn\\neural_network\\_multilayer_perceptron.py:614: ConvergenceWarning: Stochastic Optimizer: Maximum iterations (500) reached and the optimization hasn't converged yet.\n",
      "  warnings.warn(\n",
      "D:\\anaconda3\\lib\\site-packages\\sklearn\\neural_network\\_multilayer_perceptron.py:614: ConvergenceWarning: Stochastic Optimizer: Maximum iterations (500) reached and the optimization hasn't converged yet.\n",
      "  warnings.warn(\n",
      "D:\\anaconda3\\lib\\site-packages\\sklearn\\neural_network\\_multilayer_perceptron.py:614: ConvergenceWarning: Stochastic Optimizer: Maximum iterations (500) reached and the optimization hasn't converged yet.\n",
      "  warnings.warn(\n"
     ]
    },
    {
     "name": "stdout",
     "output_type": "stream",
     "text": [
      "模型最优参数:  {'activation': 'tanh', 'hidden_layer_sizes': (600,), 'learning_rate_init': 0.01, 'max_iter': 500, 'solver': 'adam'}\n",
      "准确率:  0.957421052631579\n"
     ]
    }
   ],
   "source": [
    "#用GridSearch调参\n",
    "param_grid = {'hidden_layer_sizes': [(550,),(600,),(650,)],\n",
    "               'activation': ['logistic','tanh','relu'],\n",
    "               'solver': ['adam'],\n",
    "               'learning_rate_init': [0.001, 0.01, 0.1],\n",
    "             'max_iter': [500]}\n",
    "grid_search = GridSearchCV(MLPClassifier(), param_grid, cv=5)\n",
    "##种族分类\n",
    "grid_search.fit(xtrain_race, ytrain_race)\n",
    "print(\"模型最优参数: \", grid_search.best_params_)\n",
    "print(\"准确率: \", grid_search.best_score_)"
   ]
  },
  {
   "cell_type": "code",
   "execution_count": 25,
   "id": "40e885c4-a6a3-4cba-9920-841d03584075",
   "metadata": {},
   "outputs": [
    {
     "name": "stdout",
     "output_type": "stream",
     "text": [
      "BP网络分类——种族分类分数： 0.8513694054776216\n"
     ]
    }
   ],
   "source": [
    "racescore = float(0)\n",
    "for i in range(30):\n",
    "    bp_race = MLPClassifier(hidden_layer_sizes=(600,),activation='tanh',solver='adam',learning_rate_init=0.01,max_iter=500) #创建最优参数的分类器并训练\n",
    "    bp_race.fit(xtrain_race, ytrain_race)\n",
    "    #predict_race = np.array(le.inverse_transform(bp_race.predict(xtest_race))) #预测\n",
    "    #print('BP网络分类——种族分类预测结果：',predict_race,predict_race.shape)\n",
    "    racescore = racescore + bp_race.score(xtest_race,ytest_race)\n",
    "print('BP网络分类——种族分类分数：',racescore/30)"
   ]
  },
  {
   "cell_type": "markdown",
   "id": "151f2957-ba3e-476e-9e7b-1e9f7816fea8",
   "metadata": {},
   "source": [
    "4. 表情分类"
   ]
  },
  {
   "cell_type": "code",
   "execution_count": 26,
   "id": "45f10320-dea6-4418-94ef-58fd60c54a82",
   "metadata": {},
   "outputs": [],
   "source": [
    "#标签数据预处理   \n",
    "ytrain_face = le.fit_transform(ytrain[:,4]) \n",
    "ytest_face = le.transform(ytest[:,4])"
   ]
  },
  {
   "cell_type": "code",
   "execution_count": 31,
   "id": "2f87721e-b76d-452e-b055-91a8232e7625",
   "metadata": {},
   "outputs": [
    {
     "name": "stdout",
     "output_type": "stream",
     "text": [
      "模型最优参数:  {'activation': 'logistic', 'hidden_layer_sizes': (570,), 'learning_rate_init': 0.001, 'max_iter': 500, 'solver': 'adam'}\n",
      "准确率:  0.7985839598997494\n"
     ]
    }
   ],
   "source": [
    "#用GridSearch调参\n",
    "param_grid = {'hidden_layer_sizes': [(560,),(570,),(580,)],\n",
    "               'activation': ['logistic','tanh','relu'],\n",
    "               'solver': ['adam'],\n",
    "               'learning_rate_init': [0.001, 0.01, 0.1],\n",
    "             'max_iter': [500]}\n",
    "grid_search = GridSearchCV(MLPClassifier(), param_grid, cv=5)\n",
    "##表情分类\n",
    "grid_search.fit(xtrain_face, ytrain_face)\n",
    "print(\"模型最优参数: \", grid_search.best_params_)\n",
    "print(\"准确率: \", grid_search.best_score_)"
   ]
  },
  {
   "cell_type": "code",
   "execution_count": 27,
   "id": "5ea3c85e-e6b9-4ccf-a4eb-b1cfb27b1637",
   "metadata": {},
   "outputs": [
    {
     "name": "stdout",
     "output_type": "stream",
     "text": [
      "BP网络分类——表情分类分数： 0.7538577154308617\n"
     ]
    }
   ],
   "source": [
    "facescore = float(0)\n",
    "for i in range(30):\n",
    "    bp_face = MLPClassifier(hidden_layer_sizes=(570,),activation='logistic',solver='adam',learning_rate_init=0.001,max_iter=500) #创建最优参数的分类器并训练\n",
    "    bp_face.fit(xtrain_face, ytrain_face)\n",
    "    #predict_face = np.array(le.inverse_transform(bp_face.predict(xtest_face))) #预测\n",
    "    #print('BP网络分类——表情分类预测结果：',predict_face,predict_face.shape)\n",
    "    facescore = facescore + bp_face.score(xtest_face,ytest_face)\n",
    "print('BP网络分类——表情分类分数：',facescore/30)"
   ]
  },
  {
   "cell_type": "markdown",
   "id": "5f28f8ed-d067-48b4-b619-d24f67343ff2",
   "metadata": {},
   "source": [
    "5. 五折交叉验证"
   ]
  },
  {
   "cell_type": "code",
   "execution_count": 28,
   "id": "e15a6b8a-0497-47f0-b3e8-45e5955db49a",
   "metadata": {},
   "outputs": [
    {
     "name": "stdout",
     "output_type": "stream",
     "text": [
      "性别BP分类交叉验证结果：0.81(±0.04)\n",
      "年龄BP分类交叉验证结果：0.87(±0.03)\n",
      "种族BP分类交叉验证结果：0.96(±0.01)\n",
      "表情BP分类交叉验证结果：0.77(±0.03)\n"
     ]
    }
   ],
   "source": [
    "from sklearn.model_selection import KFold\n",
    "from sklearn.model_selection import cross_val_score\n",
    "#合并x数据和y数据\n",
    "X = np.concatenate([xtrain,xtest],axis=0)\n",
    "Y = np.concatenate([ytrain,ytest],axis=0)\n",
    "#print('所有图像数据：\\n',X,X.shape,'\\n所有标签数据：\\n',Y,Y.shape)\n",
    "#交叉验证\n",
    "kfold = KFold(n_splits=5,shuffle=True,random_state=42)\n",
    "\n",
    "Y_sex = le.fit_transform(Y[:,1])\n",
    "sex_result = cross_val_score(bp_sex,X,Y_sex,cv=kfold)\n",
    "print('性别BP分类交叉验证结果：%0.2f(±%0.2f)'%(sex_result.mean(),sex_result.std()*2))\n",
    "\n",
    "Y_age = le.fit_transform(Y[:,2])\n",
    "age_result = cross_val_score(bp_age,X,Y_age,cv=kfold)\n",
    "print('年龄BP分类交叉验证结果：%0.2f(±%0.2f)'%(age_result.mean(),age_result.std()*2))\n",
    "\n",
    "Y_race = le.fit_transform(Y[:,3])\n",
    "race_result = cross_val_score(bp_race,X,Y_race,cv=kfold)\n",
    "print('种族BP分类交叉验证结果：%0.2f(±%0.2f)'%(race_result.mean(),race_result.std()*2))\n",
    "\n",
    "Y_face = le.fit_transform(Y[:,4])\n",
    "face_result = cross_val_score(bp_face,X,Y_face,cv=kfold)\n",
    "print('表情BP分类交叉验证结果：%0.2f(±%0.2f)'%(face_result.mean(),face_result.std()*2))"
   ]
  },
  {
   "cell_type": "markdown",
   "id": "11767932-73f6-42cf-b94f-9b33904f3914",
   "metadata": {},
   "source": [
    "6. 绘制分数对比图"
   ]
  },
  {
   "cell_type": "code",
   "execution_count": 29,
   "id": "4fd5a38f-161a-4ccf-a3c8-43f0134ffa01",
   "metadata": {},
   "outputs": [
    {
     "data": {
      "image/png": "[encoded data removed]",
      "text/plain": [
       "<Figure size 900x550 with 1 Axes>"
      ]
     },
     "metadata": {
      "needs_background": "light"
     },
     "output_type": "display_data"
    }
   ],
   "source": [
    "import matplotlib\n",
    "import matplotlib.pyplot as plt\n",
    "plt.rcParams['savefig.dpi'] = 100 #图片像素\n",
    "plt.rcParams['figure.dpi'] = 100 #分辨率\n",
    "plt.rcParams['figure.figsize'] = (9.0, 5.5)\n",
    "fig,ax = plt.subplots()\n",
    "#绘制Bar\n",
    "labels = ['sex',\"age\",'race','face']\n",
    "num = np.arange(4)\n",
    "result1 = np.array([sexscore/30,agescore/30,racescore/30,facescore/30])\n",
    "result2 = np.array([sex_result.mean(),age_result.mean(),race_result.mean(),face_result.mean()])\n",
    "rects1 = ax.bar(num-0.3/2,result1,width = 0.3,label = 'predict_score')\n",
    "rects2 = ax.bar(num+0.3/2,result2,width=0.3,label = 'cross_val_score')\n",
    "\n",
    "ax.set_ylabel(\"scores\")\n",
    "ax.set_title(\"FLDA_BP:Contrast of scores\")\n",
    "ax.set_xticks(num)\n",
    "ax.set_xticklabels(labels)\n",
    "ax.legend()\n",
    "#绘制标签\n",
    "def autolabel(rects):\n",
    "    for rect in rects:\n",
    "        height = rect.get_height()\n",
    "        ax.annotate('{}'.format(height),\n",
    "                    xy=(rect.get_x() + rect.get_width()/2,height),\n",
    "                   xytext=(0,3),\n",
    "                   textcoords=\"offset points\",\n",
    "                   ha='center',va='bottom')\n",
    "autolabel(rects1)\n",
    "autolabel(rects2)\n",
    "fig.tight_layout()\n",
    "plt.savefig(\"FLDA_BP.jpg\")\n",
    "plt.show()"
   ]
  },
  {
   "cell_type": "markdown",
   "id": "d145861b-bcaf-4832-8965-790120123885",
   "metadata": {},
   "source": [
    "## 四、决策树分类器及其交叉验证"
   ]
  },
  {
   "cell_type": "markdown",
   "id": "5cad5d6a-c359-413b-b4c9-08e09ebb2bbe",
   "metadata": {},
   "source": [
    "1. 性别分类"
   ]
  },
  {
   "cell_type": "code",
   "execution_count": 45,
   "id": "4e71a006-5877-499d-bfa0-c6ac0324d324",
   "metadata": {},
   "outputs": [
    {
     "name": "stdout",
     "output_type": "stream",
     "text": [
      "模型最优参数:  {'criterion': 'gini', 'max_depth': 4, 'min_samples_leaf': 2, 'min_samples_split': 2}\n",
      "准确率:  0.8172105263157896\n"
     ]
    }
   ],
   "source": [
    "from sklearn.tree import DecisionTreeClassifier\n",
    "\n",
    "param_grid = {\n",
    "   'criterion': ['gini', 'entropy'],\n",
    "    'max_depth': [None, 5, 10, 15],\n",
    "    'min_samples_split': [2, 5, 10],\n",
    "    'min_samples_leaf': [1, 2, 4]\n",
    "}\n",
    "#用GridSearch调参\n",
    "param_grid = {'criterion': ['gini', 'entropy'],\n",
    "    'max_depth': [None, 3, 4, 5],\n",
    "    'min_samples_split': [2, 5, 10],\n",
    "    'min_samples_leaf': [1, 2, 3]}\n",
    "grid_search = GridSearchCV(DecisionTreeClassifier(), param_grid, cv=5)\n",
    "\n",
    "##性别分类\n",
    "grid_search.fit(xtrain_sex, ytrain[:,1])\n",
    "print(\"模型最优参数: \", grid_search.best_params_)\n",
    "print(\"准确率: \", grid_search.best_score_)"
   ]
  },
  {
   "cell_type": "code",
   "execution_count": 50,
   "id": "01d4e6e2-b719-4fce-9aa5-f7fa12f7673c",
   "metadata": {},
   "outputs": [
    {
     "name": "stdout",
     "output_type": "stream",
     "text": [
      "决策树分类——性别分类预测结果： ['male' 'female' 'male' ... 'female' 'male' 'female'] (1996,)\n",
      "决策树分类——性别分类分数： 0.7009018036072144\n"
     ]
    }
   ],
   "source": [
    "dt_sex = DecisionTreeClassifier(criterion='gini',max_depth=4,min_samples_leaf=2,min_samples_split=2)\n",
    "dt_sex.fit(xtrain_sex,ytrain[:,1])\n",
    "predict_sex = dt_sex.predict(xtest_sex) #预测\n",
    "print('决策树分类——性别分类预测结果：',predict_sex,predict_sex.shape)\n",
    "print('决策树分类——性别分类分数：',dt_sex.score(xtest_sex,ytest[:,1]))"
   ]
  },
  {
   "cell_type": "markdown",
   "id": "b4429c1a-264f-482e-990d-e7749edf0b1d",
   "metadata": {},
   "source": [
    "2. 年龄分类"
   ]
  },
  {
   "cell_type": "code",
   "execution_count": 16,
   "id": "9b5feb4a-f2c8-452c-abcd-60899bc6a49c",
   "metadata": {},
   "outputs": [
    {
     "name": "stdout",
     "output_type": "stream",
     "text": [
      "模型最优参数:  {'criterion': 'gini', 'max_depth': 4, 'min_samples_leaf': 1, 'min_samples_split': 2}\n",
      "准确率:  0.8352644110275689\n"
     ]
    }
   ],
   "source": [
    "param_grid = {\n",
    "   'criterion': ['gini', 'entropy'],\n",
    "    'max_depth': [None, 5, 10, 15],\n",
    "    'min_samples_split': [2, 5, 10],\n",
    "    'min_samples_leaf': [1, 2, 4]\n",
    "}\n",
    "#用GridSearch调参\n",
    "param_grid = {'criterion': ['gini', 'entropy'],\n",
    "    'max_depth': [None, 2, 4, 8],\n",
    "    'min_samples_split': [2, 5, 10],\n",
    "    'min_samples_leaf': [1, 2, 3]}\n",
    "grid_search = GridSearchCV(DecisionTreeClassifier(), param_grid, cv=5)\n",
    "\n",
    "##年龄分类\n",
    "grid_search.fit(xtrain_age, ytrain[:,2])\n",
    "print(\"模型最优参数: \", grid_search.best_params_)\n",
    "print(\"准确率: \", grid_search.best_score_)"
   ]
  },
  {
   "cell_type": "code",
   "execution_count": 30,
   "id": "9207782d-8804-4faf-820e-bf1adfeff935",
   "metadata": {},
   "outputs": [
    {
     "name": "stdout",
     "output_type": "stream",
     "text": [
      "决策树分类——年龄分类预测结果： ['adult' 'adult' 'adult' ... 'adult' 'adult' 'adult'] (1996,)\n",
      "决策树分类——年龄分类分数： 0.7775551102204409\n"
     ]
    }
   ],
   "source": [
    "dt_age = DecisionTreeClassifier(criterion='gini',max_depth=4,min_samples_leaf=1,min_samples_split=2)\n",
    "dt_age.fit(xtrain_age, ytrain[:,2])\n",
    "predict_age = dt_age.predict(xtest_age) #预测\n",
    "print('决策树分类——年龄分类预测结果：',predict_age,predict_age.shape)\n",
    "print('决策树分类——年龄分类分数：',dt_age.score(xtest_age,ytest[:,2]))"
   ]
  },
  {
   "cell_type": "markdown",
   "id": "8e05efb5-25cf-4577-96cb-c7b082703436",
   "metadata": {},
   "source": [
    "3. 种族分类"
   ]
  },
  {
   "cell_type": "code",
   "execution_count": 28,
   "id": "565029ef-6d0c-4c13-862d-985d85feb20b",
   "metadata": {},
   "outputs": [
    {
     "name": "stdout",
     "output_type": "stream",
     "text": [
      "模型最优参数:  {'criterion': 'entropy', 'max_depth': 4, 'min_samples_leaf': 1, 'min_samples_split': 7}\n",
      "准确率:  0.9504035087719298\n"
     ]
    }
   ],
   "source": [
    "param_grid = {\n",
    "   'criterion': ['gini', 'entropy'],\n",
    "    'max_depth': [None, 5, 10, 15],\n",
    "    'min_samples_split': [2, 5, 10],\n",
    "    'min_samples_leaf': [1, 2, 4]\n",
    "}\n",
    "#用GridSearch调参\n",
    "param_grid = {'criterion': ['gini', 'entropy'],\n",
    "    'max_depth': [None, 2, 4, 8],\n",
    "    'min_samples_split': [6, 7, 8],\n",
    "    'min_samples_leaf': [1, 2, 3]}\n",
    "grid_search = GridSearchCV(DecisionTreeClassifier(), param_grid, cv=5)\n",
    "\n",
    "##种族分类\n",
    "grid_search.fit(xtrain_race, ytrain[:,3])\n",
    "print(\"模型最优参数: \", grid_search.best_params_)\n",
    "print(\"准确率: \", grid_search.best_score_)"
   ]
  },
  {
   "cell_type": "code",
   "execution_count": 32,
   "id": "33878db7-30b1-41b1-a129-ca0680635465",
   "metadata": {},
   "outputs": [
    {
     "name": "stdout",
     "output_type": "stream",
     "text": [
      "决策树分类——种族分类预测结果： ['white' 'white' 'white' ... 'white' 'white' 'white'] (1996,)\n",
      "决策树分类——种族分类分数： 0.8557114228456913\n"
     ]
    }
   ],
   "source": [
    "dt_race = DecisionTreeClassifier(criterion='entropy',max_depth=4,min_samples_leaf=1,min_samples_split=7)\n",
    "dt_race.fit(xtrain_race, ytrain[:,3])\n",
    "predict_race = dt_race.predict(xtest_race) #预测\n",
    "print('决策树分类——种族分类预测结果：',predict_race,predict_race.shape)\n",
    "print('决策树分类——种族分类分数：',dt_race.score(xtest_race,ytest[:,3]))"
   ]
  },
  {
   "cell_type": "markdown",
   "id": "e88c71fa-e2a0-410a-b925-61bfa4e62538",
   "metadata": {},
   "source": [
    "4. 表情分类"
   ]
  },
  {
   "cell_type": "code",
   "execution_count": 37,
   "id": "9f051726-3552-49d5-bff7-ad957a885f71",
   "metadata": {},
   "outputs": [
    {
     "name": "stdout",
     "output_type": "stream",
     "text": [
      "模型最优参数:  {'criterion': 'entropy', 'max_depth': 4, 'min_samples_leaf': 2, 'min_samples_split': 2}\n",
      "准确率:  0.7970814536340851\n"
     ]
    }
   ],
   "source": [
    "param_grid = {\n",
    "   'criterion': ['gini', 'entropy'],\n",
    "    'max_depth': [None, 5, 10, 15],\n",
    "    'min_samples_split': [2, 5, 10],\n",
    "    'min_samples_leaf': [1, 2, 4]\n",
    "}\n",
    "#用GridSearch调参\n",
    "param_grid = {'criterion': ['gini', 'entropy'],\n",
    "    'max_depth': [None, 2, 4, 8],\n",
    "    'min_samples_split': [2, 3, 5],\n",
    "    'min_samples_leaf': [1, 2, 3]}\n",
    "grid_search = GridSearchCV(DecisionTreeClassifier(), param_grid, cv=5)\n",
    "\n",
    "##表情分类\n",
    "grid_search.fit(xtrain_face, ytrain[:,4])\n",
    "print(\"模型最优参数: \", grid_search.best_params_)\n",
    "print(\"准确率: \", grid_search.best_score_)"
   ]
  },
  {
   "cell_type": "code",
   "execution_count": 46,
   "id": "cb2efad8-656f-4a04-9f8a-d55c488404a0",
   "metadata": {},
   "outputs": [
    {
     "name": "stdout",
     "output_type": "stream",
     "text": [
      "决策树分类——表情分类预测结果： ['smiling' 'smiling' 'smiling' ... 'serious' 'smiling' 'serious'] (1996,)\n",
      "决策树分类——表情分类分数： 0.7630260521042084\n"
     ]
    }
   ],
   "source": [
    "dt_face = DecisionTreeClassifier(criterion='entropy',max_depth=4,min_samples_leaf=2,min_samples_split=2)\n",
    "dt_face.fit(xtrain_face, ytrain[:,4])\n",
    "predict_face = dt_face.predict(xtest_face) #预测\n",
    "print('决策树分类——表情分类预测结果：',predict_face,predict_face.shape)\n",
    "print('决策树分类——表情分类分数：',dt_face.score(xtest_face,ytest[:,4]))"
   ]
  },
  {
   "cell_type": "markdown",
   "id": "27744758-887f-4899-990e-ddd982149b7e",
   "metadata": {},
   "source": [
    "5. 五折交叉验证"
   ]
  },
  {
   "cell_type": "code",
   "execution_count": 47,
   "id": "a1626715-0464-4659-8013-ab133fd1fb99",
   "metadata": {},
   "outputs": [
    {
     "name": "stdout",
     "output_type": "stream",
     "text": [
      "性别决策树分类交叉验证结果：0.67(±0.02)\n",
      "年龄决策树分类交叉验证结果：0.79(±0.02)\n",
      "种族决策树分类交叉验证结果：0.91(±0.02)\n",
      "表情决策树分类交叉验证结果：0.64(±0.04)\n"
     ]
    }
   ],
   "source": [
    "from sklearn.model_selection import KFold\n",
    "from sklearn.model_selection import cross_val_score\n",
    "#合并x数据和y数据\n",
    "X = np.concatenate([xtrain,xtest],axis=0)\n",
    "Y = np.concatenate([ytrain,ytest],axis=0)\n",
    "#print('所有图像数据：\\n',X,X.shape,'\\n所有标签数据：\\n',Y,Y.shape)\n",
    "#交叉验证\n",
    "kfold = KFold(n_splits=5,shuffle=True,random_state=42)\n",
    "\n",
    "sex_result = cross_val_score(dt_sex,X,Y[:,1],cv=kfold)\n",
    "print('性别决策树分类交叉验证结果：%0.2f(±%0.2f)'%(sex_result.mean(),sex_result.std()*2))\n",
    "\n",
    "age_result = cross_val_score(dt_age,X,Y[:,2],cv=kfold)\n",
    "print('年龄决策树分类交叉验证结果：%0.2f(±%0.2f)'%(age_result.mean(),age_result.std()*2))\n",
    "\n",
    "race_result = cross_val_score(dt_race,X,Y[:,3],cv=kfold)\n",
    "print('种族决策树分类交叉验证结果：%0.2f(±%0.2f)'%(race_result.mean(),race_result.std()*2))\n",
    "\n",
    "face_result = cross_val_score(dt_face,X,Y[:,4],cv=kfold)\n",
    "print('表情决策树分类交叉验证结果：%0.2f(±%0.2f)'%(face_result.mean(),face_result.std()*2))"
   ]
  },
  {
   "cell_type": "markdown",
   "id": "888ee604-b6b6-4e3d-837f-adac8b6b6aed",
   "metadata": {},
   "source": [
    "6. 绘制分数对比图"
   ]
  },
  {
   "cell_type": "code",
   "execution_count": 51,
   "id": "c23fb592-83ad-4498-8fdb-7af62b3d67e7",
   "metadata": {},
   "outputs": [
    {
     "data": {
      "image/png": "[encoded data removed]",
      "text/plain": [
       "<Figure size 900x550 with 1 Axes>"
      ]
     },
     "metadata": {
      "needs_background": "light"
     },
     "output_type": "display_data"
    }
   ],
   "source": [
    "import matplotlib\n",
    "import matplotlib.pyplot as plt\n",
    "plt.rcParams['savefig.dpi'] = 100 #图片像素\n",
    "plt.rcParams['figure.dpi'] = 100 #分辨率\n",
    "plt.rcParams['figure.figsize'] = (9.0, 5.5)\n",
    "fig,ax = plt.subplots()\n",
    "#绘制Bar\n",
    "labels = ['sex',\"age\",'race','face']\n",
    "num = np.arange(4)\n",
    "result1 = np.array([dt_sex.score(xtest_sex,ytest[:,1]),dt_age.score(xtest_age,ytest[:,2]),\n",
    "                    dt_race.score(xtest_race,ytest[:,3]),dt_face.score(xtest_face,ytest[:,4])])\n",
    "result2 = np.array([sex_result.mean(),age_result.mean(),race_result.mean(),face_result.mean()])\n",
    "rects1 = ax.bar(num-0.3/2,result1,width = 0.3,label = 'predict_score')\n",
    "rects2 = ax.bar(num+0.3/2,result2,width=0.3,label = 'cross_val_score')\n",
    "\n",
    "ax.set_ylabel(\"scores\")\n",
    "ax.set_title(\"FLDA_DT:Contrast of scores\")\n",
    "ax.set_xticks(num)\n",
    "ax.set_xticklabels(labels)\n",
    "ax.legend()\n",
    "#绘制标签\n",
    "def autolabel(rects):\n",
    "    for rect in rects:\n",
    "        height = rect.get_height()\n",
    "        ax.annotate('{}'.format(height),\n",
    "                    xy=(rect.get_x() + rect.get_width()/2,height),\n",
    "                   xytext=(0,3),\n",
    "                   textcoords=\"offset points\",\n",
    "                   ha='center',va='bottom')\n",
    "autolabel(rects1)\n",
    "autolabel(rects2)\n",
    "fig.tight_layout()\n",
    "plt.savefig(\"FLDA_DT.jpg\")\n",
    "plt.show()"
   ]
  }
 ],
 "metadata": {
  "kernelspec": {
   "display_name": "Python 3",
   "language": "python",
   "name": "python3"
  },
  "language_info": {
   "codemirror_mode": {
    "name": "ipython",
    "version": 3
   },
   "file_extension": ".py",
   "mimetype": "text/x-python",
   "name": "python",
   "nbconvert_exporter": "python",
   "pygments_lexer": "ipython3",
   "version": "3.8.8"
  }
 },
 "nbformat": 4,
 "nbformat_minor": 5
}
