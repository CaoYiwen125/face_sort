{
 "cells": [
  {
   "cell_type": "markdown",
   "id": "d8e3a3be-e147-4cff-b36e-f3f868c3b48f",
   "metadata": {},
   "source": [
    "## FLDA特征提取——最小距离分类器及其评分"
   ]
  },
  {
   "cell_type": "markdown",
   "id": "af927413-6a1b-41d4-ac8b-99d000e2c5e3",
   "metadata": {},
   "source": [
    "## 一、特征提取"
   ]
  },
  {
   "cell_type": "code",
   "execution_count": 2,
   "id": "ff506410-6b23-4124-b253-da930c697227",
   "metadata": {},
   "outputs": [
    {
     "name": "stdout",
     "output_type": "stream",
     "text": [
      "图像训练数据xtrain:\n",
      " [[ 1.22300000e+03 -1.77961902e+03  2.10730127e+03 ... -8.61942370e+01\n",
      "   1.28772320e+01  2.38823390e+01]\n",
      " [ 1.22400000e+03 -2.71997339e+03  2.97884375e+03 ... -4.68737700e+00\n",
      "  -4.28034670e+01  1.19861970e+01]\n",
      " [ 1.22500000e+03 -9.46141785e+02 -1.17116028e+03 ...  6.00232730e+01\n",
      "   2.21902800e+00  1.66275270e+01]\n",
      " ...\n",
      " [ 3.22000000e+03  1.07736768e+03 -6.24962646e+02 ...  3.08739870e+01\n",
      "  -1.76446100e+00  6.32692180e+01]\n",
      " [ 3.22100000e+03  1.62751266e+02  1.92902429e+03 ...  1.28961792e+02\n",
      "   5.91272430e+01 -5.73871399e+02]\n",
      " [ 3.22200000e+03 -6.97708984e+02 -2.36467910e+01 ... -9.68876270e+01\n",
      "  -1.05578690e+02  1.03433350e+02]] (1996, 100)\n",
      "\n",
      "xtrain去编号后：\n",
      " [[-1.77961902e+03  2.10730127e+03  8.07759949e+02 ... -8.61942370e+01\n",
      "   1.28772320e+01  2.38823390e+01]\n",
      " [-2.71997339e+03  2.97884375e+03 -1.22765790e+01 ... -4.68737700e+00\n",
      "  -4.28034670e+01  1.19861970e+01]\n",
      " [-9.46141785e+02 -1.17116028e+03  5.57305603e+02 ...  6.00232730e+01\n",
      "   2.21902800e+00  1.66275270e+01]\n",
      " ...\n",
      " [ 1.07736768e+03 -6.24962646e+02 -4.68857788e+02 ...  3.08739870e+01\n",
      "  -1.76446100e+00  6.32692180e+01]\n",
      " [ 1.62751266e+02  1.92902429e+03 -3.10213281e+03 ...  1.28961792e+02\n",
      "   5.91272430e+01 -5.73871399e+02]\n",
      " [-6.97708984e+02 -2.36467910e+01  1.33136340e+03 ... -9.68876270e+01\n",
      "  -1.05578690e+02  1.03433350e+02]] (1996, 99)\n",
      "\n",
      "xtrain标准化后：\n",
      " [[-0.7150059   1.44885637  0.76471857 ... -0.73084344  0.03944986\n",
      "   0.13721498]\n",
      " [-1.15504469  2.06241286 -0.08316677 ...  0.1045747  -0.53830313\n",
      "   0.03210577]\n",
      " [-0.32498026 -0.85914513  0.50575868 ...  0.76783728 -0.07114159\n",
      "   0.07311457]\n",
      " ...\n",
      " [ 0.62192092 -0.4746279  -0.55525368 ...  0.46906682 -0.11247499\n",
      "   0.48522055]\n",
      " [ 0.1939262   1.3233513  -3.2779559  ...  1.47443411  0.51934833\n",
      "  -5.14428068]\n",
      " [-0.20872614 -0.05130804  1.30610383 ... -0.84044712 -1.18967017\n",
      "   0.84009359]] \n",
      "特征数： 99 \n",
      "样本数： 1996\n",
      "标签训练数据ytrain:\n",
      " [['1223' 'male' 'child' 'white' 'smiling']\n",
      " ['1224' 'male' 'child' 'white' 'serious']\n",
      " ['1225' 'male' 'child' 'white' 'smiling']\n",
      " ...\n",
      " ['3220' 'female' 'adult' 'asian' 'serious']\n",
      " ['3221' 'female' 'senior' 'white' 'smiling']\n",
      " ['3222' 'female' 'senior' 'black' 'serious']] (1996, 5)\n",
      "\n",
      "性别分类ytrain_sex:\n",
      " ['male' 'male' 'male' ... 'female' 'female' 'female'] (1996,)\n",
      "\n",
      "年龄分类ytrain_age:\n",
      " ['child' 'child' 'child' ... 'adult' 'senior' 'senior'] (1996,)\n",
      "\n",
      "种族分类ytrain_race:\n",
      " ['white' 'white' 'white' ... 'asian' 'white' 'black'] (1996,)\n",
      "\n",
      "表情分类ytrain_face:\n",
      " ['smiling' 'serious' 'smiling' ... 'serious' 'smiling' 'serious'] (1996,)\n",
      "图像测试数据xtest:\n",
      " [[ 3223.        1509.810059  -258.181854 ...  -156.00473    -24.142797\n",
      "    -30.994535]\n",
      " [ 3224.        1887.549927  -604.501404 ...   -84.800957    54.544933\n",
      "     10.758374]\n",
      " [ 3225.         479.281891  1204.433105 ...   -84.359192   -47.144707\n",
      "    -29.58638 ]\n",
      " ...\n",
      " [ 5220.         765.723267   152.202209 ...   -10.661225    71.933243\n",
      "    139.105927]\n",
      " [ 5221.        3535.591553 -1172.505737 ...    69.269463   -67.06485\n",
      "     62.041889]\n",
      " [ 5222.        -742.207458   106.262558 ...    36.534725    23.340706\n",
      "   -101.602966]] (1996, 100)\n",
      "\n",
      "xtest去编号后：\n",
      " [[ 1509.810059  -258.181854 -1190.012451 ...  -156.00473    -24.142797\n",
      "    -30.994535]\n",
      " [ 1887.549927  -604.501404    49.436756 ...   -84.800957    54.544933\n",
      "     10.758374]\n",
      " [  479.281891  1204.433105  -623.750671 ...   -84.359192   -47.144707\n",
      "    -29.58638 ]\n",
      " ...\n",
      " [  765.723267   152.202209   345.341125 ...   -10.661225    71.933243\n",
      "    139.105927]\n",
      " [ 3535.591553 -1172.505737  -298.611542 ...    69.269463   -67.06485\n",
      "     62.041889]\n",
      " [ -742.207458   106.262558   387.411316 ...    36.534725    23.340706\n",
      "   -101.602966]] (1996, 99)\n",
      "\n",
      "xtest标准化后：\n",
      " [[ 0.51385822 -0.61593044 -1.10775149 ... -1.83415493 -0.47676919\n",
      "  -0.6129337 ]\n",
      " [ 0.64245302 -0.86719053  0.16046703 ... -1.04494627  0.39411133\n",
      "  -0.22816376]\n",
      " [ 0.16303329  0.4452189  -0.528346   ... -1.04004983 -0.73134402\n",
      "  -0.59995698]\n",
      " ...\n",
      " [ 0.26054715 -0.31819057  0.46323974 ... -0.22319601  0.58655735\n",
      "   0.95461083]\n",
      " [ 1.20349938 -1.27928629 -0.19565995 ...  0.66274007 -0.95181123\n",
      "   0.24443456]\n",
      " [-0.25280096 -0.35152049  0.50628644 ...  0.29991465  0.04875693\n",
      "  -1.26361894]]\n",
      "标签测试数据ytest:\n",
      " [['3223' 'female' 'senior' 'black' 'smiling']\n",
      " ['3224' 'female' 'adult' 'black' 'smiling']\n",
      " ['3225' 'male' 'senior' 'white' 'smiling']\n",
      " ...\n",
      " ['5220' 'female' 'adult' 'white' 'serious']\n",
      " ['5221' 'female' 'adult' 'white' 'smiling']\n",
      " ['5222' 'female' 'adult' 'white' 'smiling']] (1996, 5)\n",
      "\n",
      "性别分类ytest_sex:\n",
      " ['female' 'female' 'male' ... 'female' 'female' 'female'] (1996,)\n",
      "\n",
      "年龄分类ytest_age:\n",
      " ['senior' 'adult' 'senior' ... 'adult' 'adult' 'adult'] (1996,)\n",
      "\n",
      "种族分类ytest_race:\n",
      " ['black' 'black' 'white' ... 'white' 'white' 'white'] (1996,)\n",
      "\n",
      "表情分类ytest_face:\n",
      " ['smiling' 'smiling' 'smiling' ... 'serious' 'smiling' 'smiling'] (1996,)\n",
      "用训练后的性别分类LDA模型降维后的图像训练数据和测试数据： (1996, 1) (1996, 1)\n",
      "用训练后的年龄分类LDA模型降维后的图像训练数据和测试数据： (1996, 2) (1996, 2)\n",
      "用训练后的种族分类LDA模型降维后的图像训练数据和测试数据： (1996, 6) (1996, 6)\n",
      "用训练后的表情分类LDA模型降维后的图像训练数据和测试数据： (1996, 2) (1996, 2)\n"
     ]
    }
   ],
   "source": [
    "import numpy as np\n",
    "from sklearn.preprocessing import StandardScaler\n",
    "from sklearn.discriminant_analysis import LinearDiscriminantAnalysis as LDA\n",
    "import math\n",
    "\n",
    "########## 1、获取数字化后的图像训练数据 ##########\n",
    "f = open(\"faceR\",\"r\",encoding=\"utf8\")\n",
    "x = f.read()\n",
    "f.close()\n",
    "x = x.split() #默认删除所有空字符，包括空格和换行符等\n",
    "x = np.array(list(float(char) for char in x)) #字符串列表转数组\n",
    "x.resize((1996,100)) #转为二维数组\n",
    "xtrain = x\n",
    "print('图像训练数据xtrain:\\n',xtrain,xtrain.shape)\n",
    "xtrain = np.delete(xtrain,0,axis=1) #删除第一列：图片编号\n",
    "print('\\nxtrain去编号后：\\n',xtrain,xtrain.shape)\n",
    "#标准化图像训练数据\n",
    "scaler = StandardScaler()\n",
    "xtrain = scaler.fit_transform(xtrain)\n",
    "n_features = xtrain.shape[1]\n",
    "n_samples = xtrain.shape[0]\n",
    "print('\\nxtrain标准化后：\\n',xtrain,\"\\n特征数：\",n_features,\"\\n样本数：\",n_samples)\n",
    "\n",
    "\n",
    "######### 2、获取预处理后的标签训练数据 ##########\n",
    "f = open(\"faceDR\",\"r\",encoding=\"utf8\")\n",
    "y = f.read()\n",
    "f.close()\n",
    "y = y.split() #默认删除所有空字符，包括空格和换行符等\n",
    "#print(y)\n",
    "del y[0]\n",
    "#print(y)\n",
    "y = np.array(y)\n",
    "y.resize((1996,5))\n",
    "ytrain = y\n",
    "print('标签训练数据ytrain:\\n',ytrain,ytrain.shape)\n",
    "\n",
    "#性别分类\n",
    "print('\\n性别分类ytrain_sex:\\n',ytrain[:,1],ytrain[:,1].shape)\n",
    "#年龄分类\n",
    "print('\\n年龄分类ytrain_age:\\n',ytrain[:,2],ytrain[:,2].shape)\n",
    "#种族分类\n",
    "print('\\n种族分类ytrain_race:\\n',ytrain[:,3],ytrain[:,3].shape)\n",
    "#表情分类\n",
    "print('\\n表情分类ytrain_face:\\n',ytrain[:,4],ytrain[:,4].shape)\n",
    "\n",
    "\n",
    "########### 3、获取预处理后的测试数据 #########\n",
    "f = open(\"faceS\",\"r\",encoding=\"utf8\")\n",
    "x2 = f.read()\n",
    "f.close()\n",
    "x2 = x2.split() #默认删除所有空字符，包括空格和换行符等\n",
    "x2 = np.array(list(float(char) for char in x2)) #字符串列表转数组\n",
    "x2.resize((1996,100)) #转为二维数组\n",
    "xtest = x2\n",
    "print('图像测试数据xtest:\\n',xtest,xtest.shape)\n",
    "xtest = np.delete(xtest,0,axis=1) #删除第一列：图片编号\n",
    "print('\\nxtest去编号后：\\n',xtest,xtest.shape)\n",
    "xtest = scaler.fit_transform(xtest)\n",
    "print('\\nxtest标准化后：\\n',xtest)\n",
    "\n",
    "\n",
    "########### 4、获取标签测试数据 ##########\n",
    "f = open(\"faceDS\",\"r\",encoding=\"utf8\")\n",
    "y2 = f.read()\n",
    "f.close()\n",
    "y2 = y2.split() #默认删除所有空字符，包括空格和换行符等\n",
    "#del y2[0]  #faceDS文件比faceDR文件少了第一个多余的字符串，所以不用del掉。建议此处先print测试一下\n",
    "y2 = np.array(y2)\n",
    "y2.resize((1996,5))\n",
    "ytest = y2\n",
    "print('标签测试数据ytest:\\n',ytest,ytest.shape)\n",
    "#性别分类\n",
    "print('\\n性别分类ytest_sex:\\n',ytest[:,1],ytest[:,1].shape)\n",
    "#年龄分类\n",
    "print('\\n年龄分类ytest_age:\\n',ytest[:,2],ytest[:,2].shape)\n",
    "#种族分类\n",
    "print('\\n种族分类ytest_race:\\n',ytest[:,3],ytest[:,3].shape)\n",
    "#表情分类\n",
    "print('\\n表情分类ytest_face:\\n',ytest[:,4],ytest[:,4].shape)\n",
    "\n",
    "\n",
    "########## 5、创建LDA模型降维并训练 ###########\n",
    "##不同于PCA用于无监督学习的特征提取，FLDA适用于监督学习的特征提取，即需要标签y一起送入LDA模型中训练\n",
    "#创建性别分类的LDA模型降维并训练\n",
    "from sklearn.discriminant_analysis import LinearDiscriminantAnalysis as LDA\n",
    "lda_sex = LDA(n_components=1) #监督学习下的FLDA特征提取，数据降维后的维数受特征维数和类别数的限制；PCA较自由\n",
    "lda_sex.fit(xtrain,ytrain[:,1])\n",
    "#将训练好的LDA模型对数据进行特征提取\n",
    "xtrain_sex = lda_sex.transform(xtrain)\n",
    "xtest_sex = lda_sex.transform(xtest)\n",
    "print('用训练后的性别分类LDA模型降维后的图像训练数据和测试数据：',xtrain_sex.shape,xtest_sex.shape)\n",
    "\n",
    "#创建年龄分类的LDA模型降维并训练\n",
    "from sklearn.discriminant_analysis import LinearDiscriminantAnalysis as LDA\n",
    "lda_age = LDA(n_components=2)\n",
    "lda_age.fit(xtrain,ytrain[:,2])\n",
    "#将训练好的LDA模型对数据进行特征提取\n",
    "xtrain_age = lda_age.transform(xtrain)\n",
    "xtest_age = lda_age.transform(xtest)\n",
    "print('用训练后的年龄分类LDA模型降维后的图像训练数据和测试数据：',xtrain_age.shape,xtest_age.shape)\n",
    "\n",
    "#创建种族分类的LDA模型降维并训练\n",
    "from sklearn.discriminant_analysis import LinearDiscriminantAnalysis as LDA\n",
    "lda_race = LDA(n_components=6)\n",
    "lda_race.fit(xtrain,ytrain[:,3])\n",
    "#将训练好的LDA模型对数据进行特征提取\n",
    "xtrain_race = lda_race.transform(xtrain)\n",
    "xtest_race = lda_race.transform(xtest)\n",
    "print('用训练后的种族分类LDA模型降维后的图像训练数据和测试数据：',xtrain_race.shape,xtest_race.shape)\n",
    "\n",
    "#创建表情分类的LDA模型降维并训练\n",
    "from sklearn.discriminant_analysis import LinearDiscriminantAnalysis as LDA\n",
    "lda_face = LDA(n_components=2)\n",
    "lda_face.fit(xtrain,ytrain[:,4])\n",
    "#将训练好的LDA模型对数据进行特征提取\n",
    "xtrain_face = lda_face.transform(xtrain)\n",
    "xtest_face = lda_face.transform(xtest)\n",
    "print('用训练后的表情分类LDA模型降维后的图像训练数据和测试数据：',xtrain_face.shape,xtest_face.shape)"
   ]
  },
  {
   "cell_type": "markdown",
   "id": "a7ef960f-302a-4c07-9bd5-a9d613c37752",
   "metadata": {},
   "source": [
    "## 二、最小距离分类"
   ]
  },
  {
   "cell_type": "markdown",
   "id": "0880899f-7302-476a-b4ef-e4a2595001da",
   "metadata": {},
   "source": [
    "最小距离分类一次判断一个测试数据离哪一个类别的代表向量的距离最近。类别的代表向量有多种表示方法，这里选择了均值作为代表向量。距离度量有欧几里得距离、曼哈顿距离、明可夫斯基距离，这里使用欧几里得距离。"
   ]
  },
  {
   "cell_type": "markdown",
   "id": "ffbb3229-8171-4327-b6c0-0a7454d36db3",
   "metadata": {},
   "source": [
    "1. 性别分类"
   ]
  },
  {
   "cell_type": "code",
   "execution_count": 77,
   "id": "74b1fa6f-78a1-44a8-9fe8-25bfa152b079",
   "metadata": {},
   "outputs": [
    {
     "name": "stdout",
     "output_type": "stream",
     "text": [
      "[['male' array([0.73579725])]\n",
      " ['female' array([-0.99814763])]] (2, 2)\n"
     ]
    }
   ],
   "source": [
    "male = [0] #维数取决于FLDA模型\n",
    "female = [0]\n",
    "other = [0]\n",
    "male_num = 0\n",
    "female_num = 0\n",
    "other_num = 0\n",
    "for i in range(1996):\n",
    "    _sex = ytrain[i,1]\n",
    "    if _sex == 'male':\n",
    "        male = male + xtrain_sex[i]\n",
    "        male_num += 1\n",
    "    elif _sex == 'female':\n",
    "        female = female + xtrain_sex[i]\n",
    "        female_num += 1\n",
    "#各类别的代表向量取该类别下训练数据的均值\n",
    "male = male/male_num\n",
    "female = female/female_num\n",
    "if other_num > 0:\n",
    "    sex = np.array([['male',male],['female',female],['other',other]],dtype=object)\n",
    "else:\n",
    "    sex = np.array([['male',male],['female',female]],dtype=object)\n",
    "print(sex,sex.shape)"
   ]
  },
  {
   "cell_type": "code",
   "execution_count": 109,
   "id": "f1bbf71d-bd65-4581-8748-338fed5f17ca",
   "metadata": {},
   "outputs": [
    {
     "name": "stdout",
     "output_type": "stream",
     "text": [
      "性别分类预测结果：\n",
      " ['female' 'female' 'male' ... 'female' 'female' 'female']\n",
      "总数1996的测试数据中出错个数:609\n"
     ]
    }
   ],
   "source": [
    "NUM = 1996 #选择分类的测试数据个数\n",
    "num = 1996 #和NUM保持一致\n",
    "fault = 0 #判错个数\n",
    "sex_predict = list(np.arange(1996)) #存放预测结果\n",
    "for j in range(num):\n",
    "    minn = float('inf') #最小距离\n",
    "    own = 0 #所属类别\n",
    "    XS = xtest_sex[j] #第j个测试数据\n",
    "    for k in range(sex.shape[0]):\n",
    "        ojld_distance = math.sqrt(sum([pow((a-b),2) for a,b in zip(sex[k,1],XS)])) #计算类别代表向量和测试数据的欧几里得距离\n",
    "        if ojld_distance < minn:\n",
    "            minn = ojld_distance\n",
    "            own = k\n",
    "    #print('%d号测试数据：'%int(ytest[j,0]),'真实标签:',ytest[j,1],'  预测标签:',sex[own,0])\n",
    "    sex_predict[j] = sex[own,0]\n",
    "    if ytest[j,1] == sex[own,0]:\n",
    "        fault = fault\n",
    "        #print('分类正确')\n",
    "    else:\n",
    "        fault += 1\n",
    "        #print('分类错误')\n",
    "    #print('欧几里得距离：',minn)\n",
    "sex_predict = np.array(sex_predict)\n",
    "print('性别分类预测结果：\\n',sex_predict)\n",
    "print('总数%d的测试数据中出错个数:%d'%(NUM,fault))"
   ]
  },
  {
   "cell_type": "markdown",
   "id": "b41fd718-0105-4a88-bf16-0afa32c41e06",
   "metadata": {},
   "source": [
    "2. 年龄分类"
   ]
  },
  {
   "cell_type": "code",
   "execution_count": 80,
   "id": "61eb357a-b349-4b08-8142-cf4005e0ad2d",
   "metadata": {},
   "outputs": [
    {
     "name": "stdout",
     "output_type": "stream",
     "text": [
      "244 261 1437 54 0\n",
      "[['child' array([ 2.58422847, -0.6544196 ])]\n",
      " ['teen' array([1.49395617, 0.95142473])]\n",
      " ['adult' array([-0.69171791,  0.00594863])]\n",
      " ['senior' array([-0.49029011, -1.7998455 ])]] (4, 2)\n"
     ]
    }
   ],
   "source": [
    "child = [0,0] #维数取决于FLDA模型\n",
    "teen = [0,0]\n",
    "adult = [0,0]\n",
    "senior = [0,0]\n",
    "other = [0,0]\n",
    "child_num = 0\n",
    "teen_num = 0\n",
    "adult_num = 0\n",
    "senior_num = 0\n",
    "other_num = 0\n",
    "for i in range(1996):\n",
    "    _age = ytrain[i,2]\n",
    "    if _age == 'child':\n",
    "        child = child + xtrain_age[i]\n",
    "        child_num += 1\n",
    "    elif _age == 'chil': #从other中筛选出来的异常项，重新还回child类\n",
    "        child = child + xtrain_age[i]\n",
    "        child_num += 1\n",
    "    elif _age == 'teen':\n",
    "        teen = teen + xtrain_age[i]\n",
    "        teen_num += 1\n",
    "    elif _age == 'adult':\n",
    "        adult = adult + xtrain_age[i]\n",
    "        adult_num += 1\n",
    "    elif _age == 'adulte': #从other中筛选出来的异常项，重新还回adult类\n",
    "        adult = adult + xtrain_age[i]\n",
    "        adult_num += 1\n",
    "    elif _age == 'senior':\n",
    "        senior = senior + xtrain_age[i]\n",
    "        senior_num += 1\n",
    "    else:\n",
    "        #print(_age)\n",
    "        other = other + xtrain_age[i]\n",
    "        other_num += 1\n",
    "#各类别的代表向量取该类别下训练数据的均值\n",
    "print(child_num,teen_num,adult_num,senior_num,other_num)\n",
    "child = child/child_num\n",
    "teen = teen/teen_num\n",
    "adult = adult/adult_num\n",
    "senior = senior/senior_num\n",
    "if other_num > 0:\n",
    "    other = other/other_num\n",
    "    age = np.array([['child',child],['teen',teen],['adult',adult],['senior',senior],['other',other]],dtype=object)\n",
    "else:\n",
    "    age = np.array([['child',child],['teen',teen],['adult',adult],['senior',senior]],dtype=object)\n",
    "print(age,age.shape)"
   ]
  },
  {
   "cell_type": "code",
   "execution_count": 100,
   "id": "1bfe6d9e-0cba-4ea7-aba9-f69de547f785",
   "metadata": {},
   "outputs": [
    {
     "name": "stdout",
     "output_type": "stream",
     "text": [
      "年龄分类预测结果：\n",
      " ['adult' 'adult' 'adult' ... 'adult' 'teen' 'child']\n",
      "总数1996的测试数据中出错个数:772\n"
     ]
    }
   ],
   "source": [
    "NUM = 1996 #选择分类的测试数据个数\n",
    "num = 1996 #和NUM保持一致\n",
    "fault = 0 #判错个数\n",
    "age_predict = list(np.arange(1996)) #存放预测结果\n",
    "for j in range(num):\n",
    "    minn = float('inf') #最小距离\n",
    "    own = 0 #所属类别\n",
    "    XS = xtest_age[j] #第j个测试数据\n",
    "    for k in range(age.shape[0]):\n",
    "        ojld_distance = math.sqrt(sum([pow((a-b),2) for a,b in zip(age[k,1],XS)])) #计算类别代表向量和测试数据的欧几里得距离\n",
    "        if ojld_distance < minn:\n",
    "            minn = ojld_distance\n",
    "            own = k\n",
    "    #print('%d号测试数据：'%int(ytest[j,0]),'真实标签:',ytest[j,2],'  预测标签:',age[own,0])\n",
    "    age_predict[j] = age[own,0]\n",
    "    if ytest[j,2] == age[own,0]:\n",
    "        fault = fault\n",
    "        #print('分类正确')\n",
    "    else:\n",
    "        fault += 1\n",
    "        #print('分类错误')\n",
    "    #print('欧几里得距离：',minn)\n",
    "age_predict = np.array(age_predict)\n",
    "print('年龄分类预测结果：\\n',age_predict)\n",
    "print('总数%d的测试数据中出错个数:%d'%(NUM,fault))"
   ]
  },
  {
   "cell_type": "markdown",
   "id": "f213a4fd-2363-443e-be38-8141c3f7925d",
   "metadata": {},
   "source": [
    "3. 种族分类"
   ]
  },
  {
   "cell_type": "code",
   "execution_count": 85,
   "id": "d23697d5-9add-40e1-be73-1dd8f60ed20e",
   "metadata": {},
   "outputs": [
    {
     "name": "stdout",
     "output_type": "stream",
     "text": [
      "1839 64 26 55 12 0\n",
      "[['white'\n",
      "  array([-0.20242261, -0.07123706,  0.02339342,  0.00718301, -0.00107055,\n",
      "       -0.00332719])]\n",
      " ['black'\n",
      "  array([ 4.5237064 , -0.40953342,  0.35593303,  0.05721422, -0.05481397,\n",
      "       -0.08973646])]\n",
      " ['hispanic'\n",
      "  array([ 1.30417256,  0.1076499 , -2.44687622, -0.10358646,  0.17007768,\n",
      "       -0.48703154])]\n",
      " ['asian' array([-0.49029011, -1.7998455 ])]\n",
      " ['other'\n",
      "  array([ 1.4359808 ,  0.13802997, -0.92342462, -0.91639201, -0.41439991,\n",
      "        2.21602227])]] (5, 2)\n"
     ]
    }
   ],
   "source": [
    "white = [0,0,0,0,0,0] #维数取决于FLDA模型\n",
    "black = [0,0,0,0,0,0]\n",
    "asian = [0,0,0,0,0,0]\n",
    "hispanic = [0,0,0,0,0,0]\n",
    "other = [0,0,0,0,0,0]\n",
    "others = [0,0,0,0,0,0]\n",
    "white_num = 0\n",
    "black_num = 0\n",
    "hispanic_num = 0\n",
    "asian_num = 0\n",
    "other_num = 0\n",
    "others_num = 0\n",
    "for i in range(1996):\n",
    "    _race = ytrain[i,3]\n",
    "    if _race == 'white':\n",
    "        white = white + xtrain_race[i]\n",
    "        white_num += 1\n",
    "    elif _race == 'whit': #从other中筛选出来的异常项，重新还回white类\n",
    "        white = white + xtrain_race[i]\n",
    "        white_num += 1\n",
    "    elif _race == 'whitee': #从other中筛选出来的异常项，重新还回white类\n",
    "        white = white + xtrain_race[i]\n",
    "        white_num += 1\n",
    "    elif _race == 'black':\n",
    "        black = black + xtrain_race[i]\n",
    "        black_num += 1\n",
    "    elif _race == 'asian':\n",
    "        asian = asian + xtrain_race[i]\n",
    "        asian_num += 1\n",
    "    elif _race == 'hispanic':\n",
    "        hispanic = hispanic + xtrain_race[i]\n",
    "        hispanic_num += 1\n",
    "    elif _race == 'other':\n",
    "        other = other + xtrain_race[i]\n",
    "        other_num += 1\n",
    "    else:\n",
    "        print(_race)\n",
    "        others = others + xtrain_race[i]\n",
    "        others_num += 1\n",
    "#各类别的代表向量取该类别下训练数据的均值\n",
    "print(white_num,black_num,hispanic_num,asian_num,other_num,others_num)\n",
    "white = white/white_num\n",
    "black = black/black_num\n",
    "hispanic = hispanic/hispanic_num\n",
    "asian = asian/asian_num\n",
    "other = other/other_num\n",
    "if others_num > 0:\n",
    "    others = others/others_num\n",
    "    race = np.array([['white',white],['black',black],['hispanic',hispanic],['asian',senior],['other',other],['others',others]],dtype=object)\n",
    "else:\n",
    "    race = np.array([['white',white],['black',black],['hispanic',hispanic],['asian',senior],['other',other]],dtype=object)\n",
    "print(race,race.shape)"
   ]
  },
  {
   "cell_type": "code",
   "execution_count": 101,
   "id": "6c67cc36-1bdd-4a62-9c7b-ef0f050a387f",
   "metadata": {},
   "outputs": [
    {
     "name": "stdout",
     "output_type": "stream",
     "text": [
      "种族分类预测结果：\n",
      " ['white' 'white' 'asian' ... 'asian' 'hispanic' 'asian']\n",
      "总数1996的测试数据中出错个数:1201\n"
     ]
    }
   ],
   "source": [
    "NUM = 1996 #选择分类的测试数据个数\n",
    "num = 1996 #和NUM保持一致\n",
    "fault = 0 #判错个数\n",
    "race_predict = list(np.arange(1996)) #存放预测结果\n",
    "for j in range(num):\n",
    "    minn = float('inf') #最小距离\n",
    "    own = 0 #所属类别\n",
    "    XS = xtest_race[j] #第j个测试数据\n",
    "    for k in range(race.shape[0]):\n",
    "        ojld_distance = math.sqrt(sum([pow((a-b),2) for a,b in zip(race[k,1],XS)])) #计算类别代表向量和测试数据的欧几里得距离\n",
    "        if ojld_distance < minn:\n",
    "            minn = ojld_distance\n",
    "            own = k\n",
    "    #print('%d号测试数据：'%int(ytest[j,0]),'真实标签:',ytest[j,3],'  预测标签:',race[own,0])\n",
    "    race_predict[j] = race[own,0]\n",
    "    if ytest[j,3] == race[own,0]:\n",
    "        fault = fault\n",
    "        #print('分类正确')\n",
    "    else:\n",
    "        fault += 1\n",
    "        #print('分类错误')\n",
    "    #print('欧几里得距离：',minn)\n",
    "race_predict = np.array(race_predict)\n",
    "print('种族分类预测结果：\\n',race_predict)\n",
    "print('总数%d的测试数据中出错个数:%d'%(NUM,fault))"
   ]
  },
  {
   "cell_type": "markdown",
   "id": "ba50946b-beaa-42b2-a458-b2954df89358",
   "metadata": {},
   "source": [
    "4. 表情分类"
   ]
  },
  {
   "cell_type": "code",
   "execution_count": 93,
   "id": "2bed1497-b738-4c6c-b775-2c4bdcbefd48",
   "metadata": {},
   "outputs": [
    {
     "name": "stdout",
     "output_type": "stream",
     "text": [
      "919 1040 37 0\n",
      "[['serious' array([-0.91411849,  0.01273465])]\n",
      " ['smiling' array([0.81386467, 0.00551171])]\n",
      " ['funny' array([-0.17146933, -0.47122481])]] (3, 2)\n"
     ]
    }
   ],
   "source": [
    "serious = [0,0] #维数取决于FLDA模型\n",
    "smiling = [0,0]\n",
    "funny = [0,0]\n",
    "other = [0,0]\n",
    "serious_num = 0\n",
    "smiling_num = 0\n",
    "funny_num = 0\n",
    "other_num = 0\n",
    "for i in range(1996):\n",
    "    _face = ytrain[i,4]\n",
    "    if _face == 'serious':\n",
    "        serious = serious + xtrain_face[i]\n",
    "        serious_num += 1\n",
    "    elif _face == 'erious': #从other中筛选出来的异常项，重新还回serious类\n",
    "        serious = serious + xtrain_face[i]\n",
    "        serious_num += 1\n",
    "    elif _face == 'smiling':\n",
    "        smiling = smiling + xtrain_face[i]\n",
    "        smiling_num += 1\n",
    "    elif _face == 'smilin': #从other中筛选出来的异常项，重新还回smiling类\n",
    "        smiling = smiling + xtrain_face[i]\n",
    "        smiling_num += 1\n",
    "    elif _face == 'funny':\n",
    "        funny = funny + xtrain_face[i]\n",
    "        funny_num += 1\n",
    "    else:\n",
    "        print(_face)\n",
    "        other = other + xtrain_face[i]\n",
    "        other_num += 1\n",
    "#各类别的代表向量取该类别下训练数据的均值\n",
    "print(serious_num,smiling_num,funny_num,other_num)\n",
    "serious = serious/serious_num\n",
    "smiling = smiling/smiling_num\n",
    "funny = funny/funny_num\n",
    "if other_num > 0:\n",
    "    other = other/other_num\n",
    "    face = np.array([['serious',serious],['smiling',smiling],['funny',funny],['other',other]],dtype=object)\n",
    "else:\n",
    "    face = np.array([['serious',serious],['smiling',smiling],['funny',funny]],dtype=object)\n",
    "print(face,face.shape)"
   ]
  },
  {
   "cell_type": "code",
   "execution_count": 102,
   "id": "f00d9b33-7242-4960-a957-84b2882745a5",
   "metadata": {},
   "outputs": [
    {
     "name": "stdout",
     "output_type": "stream",
     "text": [
      "表情分类预测结果：\n",
      " ['smiling' 'smiling' 'smiling' ... 'funny' 'smiling' 'funny']\n",
      "总数1996的测试数据中出错个数:828\n"
     ]
    }
   ],
   "source": [
    "NUM = 1996 #选择分类的测试数据个数\n",
    "num = 1996 #和NUM保持一致\n",
    "fault = 0 #判错个数\n",
    "face_predict = list(np.arange(1996)) #存放预测结果\n",
    "for j in range(num):\n",
    "    minn = float('inf') #最小距离\n",
    "    own = 0 #所属类别\n",
    "    XS = xtest_face[j] #第j个测试数据\n",
    "    for k in range(face.shape[0]):\n",
    "        ojld_distance = math.sqrt(sum([pow((a-b),2) for a,b in zip(face[k,1],XS)])) #计算类别代表向量和测试数据的欧几里得距离\n",
    "        if ojld_distance < minn:\n",
    "            minn = ojld_distance\n",
    "            own = k\n",
    "    #print('%d号测试数据：'%int(ytest[j,0]),'真实标签:',ytest[j,4],'  预测标签:',face[own,0])\n",
    "    face_predict[j] = face[own,0]\n",
    "    if ytest[j,4] == face[own,0]:\n",
    "        fault = fault\n",
    "        #print('分类正确')\n",
    "    else:\n",
    "        fault += 1\n",
    "        #print('分类错误')\n",
    "    #print('欧几里得距离：',minn)\n",
    "face_predict = np.array(face_predict)\n",
    "print('表情分类预测结果：\\n',face_predict)\n",
    "print('总数%d的测试数据中出错个数:%d'%(NUM,fault))"
   ]
  },
  {
   "cell_type": "markdown",
   "id": "eb133062-e951-4f97-9f1e-0c715671f0dd",
   "metadata": {},
   "source": [
    "## 三、模型评分"
   ]
  },
  {
   "cell_type": "markdown",
   "id": "0f5a9fad-dff8-47aa-822e-70a347618375",
   "metadata": {},
   "source": [
    "用F1指标评分，其中性别分类是二分类问题，增加一个ROC和AUC评分。"
   ]
  },
  {
   "cell_type": "code",
   "execution_count": 149,
   "id": "6a28e05d-8298-499a-b9d2-5f5ae0f339c1",
   "metadata": {},
   "outputs": [
    {
     "name": "stdout",
     "output_type": "stream",
     "text": [
      "性别分类上的F1评分：0.70\n",
      "年龄分类上的F1评分：0.69\n",
      "种族分类上的F1评分：0.52\n",
      "表情分类上的F1评分：0.67\n"
     ]
    },
    {
     "data": {
      "image/png": "[encoded data removed]",
      "text/plain": [
       "<Figure size 432x288 with 1 Axes>"
      ]
     },
     "metadata": {
      "needs_background": "light"
     },
     "output_type": "display_data"
    }
   ],
   "source": [
    "from sklearn.metrics import f1_score\n",
    "from sklearn.metrics import roc_curve\n",
    "from sklearn.metrics import roc_auc_score\n",
    "from sklearn import preprocessing\n",
    "import matplotlib.pyplot as plt\n",
    "\n",
    "print('性别分类上的F1评分：%.2f'%f1_score(ytest[:,1],sex_predict,average='weighted'))\n",
    "print('年龄分类上的F1评分：%.2f'%f1_score(ytest[:,2],age_predict,average='weighted'))\n",
    "print('种族分类上的F1评分：%.2f'%f1_score(ytest[:,3],race_predict,average='weighted'))\n",
    "print('表情分类上的F1评分：%.2f'%f1_score(ytest[:,4],face_predict,average='weighted'))\n",
    "\n",
    "\n",
    "#性别分类是二分类问题，可以用ROC和AUC评价\n",
    "#传入roc_curve的标签要求是数值，这里先用LabelEncoder数值化\n",
    "ytest_sex = np.array(ytest[:,1])\n",
    "lbe1 = preprocessing.LabelEncoder()\n",
    "lbe1 = lbe1.fit(sex[:,0])\n",
    "_sex_predict = lbe1.transform(sex_predict)\n",
    "_ytest_sex = lbe1.transform(ytest_sex)\n",
    "fpr1,tpr1,thresholds1 = roc_curve(_ytest_sex,_sex_predict)\n",
    "aucscore = roc_auc_score(_ytest_sex,_sex_predict)\n",
    "fig,ax=plt.subplots()\n",
    "ax.plot(fpr1,tpr1)\n",
    "ax.set_xlabel(\"auc_sex=%.2f\"%aucscore)\n",
    "ax.set_title(\"ROC of FLDA_MinimumDistanceClassifier\")\n",
    "plt.show()"
   ]
  },
  {
   "cell_type": "markdown",
   "id": "d4112773-e9ba-457f-b6b7-0e65ac86f1d3",
   "metadata": {},
   "source": [
    "## 四、补充分析"
   ]
  },
  {
   "cell_type": "markdown",
   "id": "be2adba9-b699-4e74-b65f-58a8c697fe34",
   "metadata": {},
   "source": [
    "最小距离分类器不考虑类别内部的方差，也不考虑类别之间的协方差，因此最小距离分类器精度不高，这就对待分类的类别内部的方差和类别之间的协方差有一定要求。  \n",
    "前面FLDA特征提取时，年龄和表情分类的图像数据的特征向量降至2维，可以用散点图表示出各个类别的分布情况。"
   ]
  },
  {
   "cell_type": "code",
   "execution_count": 156,
   "id": "518530e3-3457-4576-9d6f-2e6c9c731409",
   "metadata": {},
   "outputs": [
    {
     "name": "stdout",
     "output_type": "stream",
     "text": [
      "(244, 2) (261, 2) (1437, 2) (54, 2)\n"
     ]
    },
    {
     "data": {
      "image/png": "[encoded data removed]",
      "text/plain": [
       "<Figure size 432x288 with 1 Axes>"
      ]
     },
     "metadata": {
      "needs_background": "light"
     },
     "output_type": "display_data"
    }
   ],
   "source": [
    "import matplotlib.pyplot as plt\n",
    "#faceDR中错误修改(faceDS无拼写错误)\n",
    "##faceDR##\n",
    "for i in range(1996):\n",
    "    if ytrain[i,2] == 'chil':\n",
    "        ytrain[i,2] = 'child'\n",
    "    elif ytrain[i,2] == 'adulte':\n",
    "        ytrain[i,2] = 'adult'\n",
    "    elif ytrain[i,3] == 'whit':\n",
    "        ytrain[i,3] = 'white'\n",
    "    elif ytrain[i,3] == 'whitee':\n",
    "        ytrain[i,3] = 'white'\n",
    "    elif ytrain[i,4] == 'erious':\n",
    "        ytrain[i,4] = 'serious'\n",
    "    elif ytrain[i,4] == 'smilin':\n",
    "        ytrain[i,4] = 'smiling'\n",
    "#将图像的训练数据中各个类别的数据分开储存\n",
    "child = np.array([[0,0]])\n",
    "teen = np.array([[0,0]])\n",
    "adult = np.array([[0,0]])\n",
    "senior = np.array([[0,0]])\n",
    "for i in range(1996):\n",
    "    _age = ytrain[i,2]\n",
    "    if _age == 'child':\n",
    "        child = np.append(child,[xtrain_age[i]],axis=0)\n",
    "    elif _age == 'teen':\n",
    "        teen = np.append(teen,[xtrain_age[i]],axis=0)\n",
    "    elif _age == 'adult':\n",
    "        adult = np.append(adult,[xtrain_age[i]],axis=0)\n",
    "    elif _age == 'senior':\n",
    "        senior = np.append(senior,[xtrain_age[i]],axis=0)\n",
    "child = np.delete(child,0,axis=0)\n",
    "teen = np.delete(teen,0,axis=0)\n",
    "adult = np.delete(adult,0,axis=0)\n",
    "senior = np.delete(senior,0,axis=0)\n",
    "print(child.shape,teen.shape,adult.shape,senior.shape)\n",
    "#绘制散点图\n",
    "plt.scatter(child[:,0],child[:,1],c='b',alpha=0.5,label='child')\n",
    "plt.scatter(teen[:,0],teen[:,1],c='g',alpha=0.5,label='teen')\n",
    "plt.scatter(adult[:,0],adult[:,1],c='r',alpha=0.5,label='adult')\n",
    "plt.scatter(senior[:,0],senior[:,1],c='y',alpha=0.5,label='senior')\n",
    "plt.title('scatter of age')\n",
    "plt.legend()\n",
    "plt.show()"
   ]
  },
  {
   "cell_type": "markdown",
   "id": "f642886f-4574-4e95-8979-6f9bea82f1d9",
   "metadata": {},
   "source": [
    "类别之间有较大的重叠，最小距离分类的效果不佳，边界处的测试数据容易被分错。"
   ]
  },
  {
   "cell_type": "code",
   "execution_count": 157,
   "id": "2881ad50-7b95-4877-9c2f-9aea7a80df7b",
   "metadata": {},
   "outputs": [
    {
     "name": "stdout",
     "output_type": "stream",
     "text": [
      "(919, 2) (1040, 2) (37, 2)\n"
     ]
    },
    {
     "data": {
      "image/png": "[encoded data removed]",
      "text/plain": [
       "<Figure size 432x288 with 1 Axes>"
      ]
     },
     "metadata": {
      "needs_background": "light"
     },
     "output_type": "display_data"
    }
   ],
   "source": [
    "#将图像的训练数据中各个类别的数据分开储存\n",
    "serious = np.array([[0,0]])\n",
    "smiling = np.array([[0,0]])\n",
    "funny = np.array([[0,0]])\n",
    "for i in range(1996):\n",
    "    _face = ytrain[i,4]\n",
    "    if _face == 'serious':\n",
    "        serious = np.append(serious,[xtrain_face[i]],axis=0)\n",
    "    elif _face == 'smiling':\n",
    "        smiling = np.append(smiling,[xtrain_face[i]],axis=0)\n",
    "    elif _face == 'funny':\n",
    "        funny = np.append(funny,[xtrain_face[i]],axis=0)\n",
    "serious = np.delete(serious,0,axis=0)\n",
    "smiling = np.delete(smiling,0,axis=0)\n",
    "funny = np.delete(funny,0,axis=0)\n",
    "print(serious.shape,smiling.shape,funny.shape)\n",
    "#绘制散点图\n",
    "plt.scatter(serious[:,0],serious[:,1],c='b',alpha=0.5,label='serious')\n",
    "plt.scatter(smiling[:,0],smiling[:,1],c='g',alpha=0.5,label='smiling')\n",
    "plt.scatter(funny[:,0],funny[:,1],c='r',alpha=0.5,label='funny')\n",
    "plt.title('scatter of face')\n",
    "plt.legend()\n",
    "plt.show()"
   ]
  },
  {
   "cell_type": "markdown",
   "id": "29665191-d289-493d-a044-adb86b87e781",
   "metadata": {},
   "source": [
    "类别之间有较大的重叠，funny类的数据几乎都和另外两类的数据重叠了，最小距离分类器精确度不够，边界处的测试数据容易被分错。"
   ]
  },
  {
   "cell_type": "code",
   "execution_count": null,
   "id": "6319b634-376f-49e6-83ee-88d2c288a45f",
   "metadata": {},
   "outputs": [],
   "source": []
  }
 ],
 "metadata": {
  "kernelspec": {
   "display_name": "Python 3",
   "language": "python",
   "name": "python3"
  },
  "language_info": {
   "codemirror_mode": {
    "name": "ipython",
    "version": 3
   },
   "file_extension": ".py",
   "mimetype": "text/x-python",
   "name": "python",
   "nbconvert_exporter": "python",
   "pygments_lexer": "ipython3",
   "version": "3.8.8"
  }
 },
 "nbformat": 4,
 "nbformat_minor": 5
}
