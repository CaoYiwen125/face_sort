{
 "cells": [
  {
   "cell_type": "markdown",
   "id": "2f78da24",
   "metadata": {},
   "source": [
    "# 拼写错误修改"
   ]
  },
  {
   "cell_type": "code",
   "execution_count": 1,
   "id": "762486a8",
   "metadata": {},
   "outputs": [],
   "source": [
    "import numpy as np"
   ]
  },
  {
   "cell_type": "code",
   "execution_count": 2,
   "id": "546d8df0",
   "metadata": {},
   "outputs": [
    {
     "name": "stdout",
     "output_type": "stream",
     "text": [
      "正确个数：1996     错误个数：0\n",
      "正确个数：1996     错误个数：0\n"
     ]
    }
   ],
   "source": [
    "#检查faceDR和faceDS中的拼写错误\n",
    "\n",
    "##性别##\n",
    "###faceDR###\n",
    "f = open(\"faceDR\",\"r\",encoding=\"utf8\")\n",
    "y_1 = f.read()\n",
    "f.close()\n",
    "y_1 = y_1.split() #默认删除所有空字符，包括空格和换行符等\n",
    "#print(y_1)\n",
    "del y_1[0]\n",
    "#print(y_1)\n",
    "y_1 = np.array(y_1)\n",
    "y_1.resize((1996,5))\n",
    "ytrain_1 = y_1\n",
    "_male_num = 0\n",
    "_female_num = 0\n",
    "_other_num = 0\n",
    "for i in range(1996):\n",
    "    _sex = ytrain_1[i,1]\n",
    "    if _sex == 'male':\n",
    "        _male_num += 1\n",
    "    elif _sex == 'female':\n",
    "        _female_num += 1\n",
    "    else:\n",
    "        print(_sex)\n",
    "        _other_num += 1\n",
    "print('正确个数：%d'%(_male_num+_female_num),'    错误个数：%d'%_other_num)\n",
    "\n",
    "###faceDS###\n",
    "f = open(\"faceDS\",\"r\",encoding=\"utf8\")\n",
    "y_2 = f.read()\n",
    "f.close()\n",
    "y_2 = y_2.split() #默认删除所有空字符，包括空格和换行符等\n",
    "#del y2[0]  #faceDS文件比faceDR文件少了第一个多余的字符串，所以不用del掉。建议此处先print测试一下\n",
    "y_2 = np.array(y_2)\n",
    "y_2.resize((1996,5))\n",
    "ytest_1 = y_2\n",
    "_male_num = 0\n",
    "_female_num = 0\n",
    "_other_num = 0\n",
    "for i in range(1996):\n",
    "    _sex = ytest_1[i,1]\n",
    "    if _sex == 'male':\n",
    "        _male_num += 1\n",
    "    elif _sex == 'female':\n",
    "        _female_num += 1\n",
    "    else:\n",
    "        print(_sex)\n",
    "        _other_num += 1\n",
    "print('正确个数：%d'%(_male_num+_female_num),'    错误个数：%d'%_other_num)"
   ]
  },
  {
   "cell_type": "code",
   "execution_count": 3,
   "id": "c0a39510",
   "metadata": {},
   "outputs": [
    {
     "name": "stdout",
     "output_type": "stream",
     "text": [
      "chil\n",
      "adulte\n",
      "adulte\n",
      "正确个数：1993     错误个数：3\n",
      "正确个数：1996     错误个数：0\n"
     ]
    }
   ],
   "source": [
    "##年龄##\n",
    "###faceDR###\n",
    "_child_num = 0\n",
    "_teen_num = 0\n",
    "_adult_num = 0\n",
    "_senior_num = 0\n",
    "_other_num = 0\n",
    "for i in range(1996):\n",
    "    _age = ytrain_1[i,2]\n",
    "    if _age == 'child':\n",
    "        _child_num += 1\n",
    "    elif _age == 'teen':\n",
    "        _teen_num += 1\n",
    "    elif _age == 'adult':\n",
    "        _adult_num += 1\n",
    "    elif _age == 'senior':\n",
    "        _senior_num += 1\n",
    "    else:\n",
    "        print(_age)\n",
    "        _other_num += 1\n",
    "print('正确个数：%d'%(_child_num+_teen_num+_adult_num+_senior_num),'    错误个数：%d'%_other_num)\n",
    "\n",
    "###faceDS###\n",
    "_child_num = 0\n",
    "_teen_num = 0\n",
    "_adult_num = 0\n",
    "_senior_num = 0\n",
    "_other_num = 0\n",
    "for i in range(1996):\n",
    "    _age = ytest_1[i,2]\n",
    "    if _age == 'child':\n",
    "        _child_num += 1\n",
    "    elif _age == 'teen':\n",
    "        _teen_num += 1\n",
    "    elif _age == 'adult':\n",
    "        _adult_num += 1\n",
    "    elif _age == 'senior':\n",
    "        _senior_num += 1\n",
    "    else:\n",
    "        print(_age)\n",
    "        _other_num += 1\n",
    "print('正确个数：%d'%(_child_num+_teen_num+_adult_num+_senior_num),'    错误个数：%d'%_other_num)"
   ]
  },
  {
   "cell_type": "code",
   "execution_count": 4,
   "id": "c0d22251",
   "metadata": {},
   "outputs": [
    {
     "name": "stdout",
     "output_type": "stream",
     "text": [
      "whitee\n",
      "whit\n",
      "whit\n",
      "whitee\n",
      "正确个数：1992     错误个数：4\n",
      "正确个数：1996     错误个数：0\n"
     ]
    }
   ],
   "source": [
    "##种族##\n",
    "###faceDR###\n",
    "_white_num = 0\n",
    "_black_num = 0\n",
    "_hispanic_num = 0\n",
    "_asian_num = 0\n",
    "_other_num = 0\n",
    "_others_num = 0\n",
    "for i in range(1996):\n",
    "    _race = ytrain_1[i,3]\n",
    "    if _race == 'white':\n",
    "        _white_num += 1\n",
    "    elif _race == 'black':\n",
    "        _black_num += 1\n",
    "    elif _race == 'asian':\n",
    "        _asian_num += 1\n",
    "    elif _race == 'hispanic':\n",
    "        _hispanic_num += 1\n",
    "    elif _race == 'other':\n",
    "        _other_num += 1\n",
    "    else:\n",
    "        print(_race)\n",
    "        _others_num += 1\n",
    "print('正确个数：%d'%(_white_num+_black_num+_hispanic_num+_asian_num+_other_num),'    错误个数：%d'%_others_num)\n",
    "\n",
    "###faceDS###\n",
    "_white_num = 0\n",
    "_black_num = 0\n",
    "_hispanic_num = 0\n",
    "_asian_num = 0\n",
    "_other_num = 0\n",
    "_others_num = 0\n",
    "for i in range(1996):\n",
    "    _race = ytest_1[i,3]\n",
    "    if _race == 'white':\n",
    "        _white_num += 1\n",
    "    elif _race == 'black':\n",
    "        _black_num += 1\n",
    "    elif _race == 'asian':\n",
    "        _asian_num += 1\n",
    "    elif _race == 'hispanic':\n",
    "        _hispanic_num += 1\n",
    "    elif _race == 'other':\n",
    "        _other_num += 1\n",
    "    else:\n",
    "        print(_race)\n",
    "        _others_num += 1\n",
    "print('正确个数：%d'%(_white_num+_black_num+_hispanic_num+_asian_num+_other_num),'    错误个数：%d'%_others_num)"
   ]
  },
  {
   "cell_type": "code",
   "execution_count": 5,
   "id": "b3f801c3",
   "metadata": {},
   "outputs": [
    {
     "name": "stdout",
     "output_type": "stream",
     "text": [
      "smilin\n",
      "erious\n",
      "erious\n",
      "正确个数：1993     错误个数：3\n",
      "正确个数：1996     错误个数：0\n"
     ]
    }
   ],
   "source": [
    "##表情##\n",
    "###faceDR###\n",
    "_serious_num = 0\n",
    "_smiling_num = 0\n",
    "_funny_num = 0\n",
    "_other_num = 0\n",
    "for i in range(1996):\n",
    "    _face = ytrain_1[i,4]\n",
    "    if _face == 'serious':\n",
    "        _serious_num += 1\n",
    "    elif _face == 'smiling':\n",
    "        _smiling_num += 1\n",
    "    elif _face == 'funny':\n",
    "        _funny_num += 1\n",
    "    else:\n",
    "        print(_face)\n",
    "        _other_num += 1\n",
    "print('正确个数：%d'%(_serious_num+_smiling_num+_funny_num),'    错误个数：%d'%_other_num)\n",
    "\n",
    "###faceDS###\n",
    "_serious_num = 0\n",
    "_smiling_num = 0\n",
    "_funny_num = 0\n",
    "_other_num = 0\n",
    "for i in range(1996):\n",
    "    _face = ytest_1[i,4]\n",
    "    if _face == 'serious':\n",
    "        _serious_num += 1\n",
    "    elif _face == 'smiling':\n",
    "        _smiling_num += 1\n",
    "    elif _face == 'funny':\n",
    "        _funny_num += 1\n",
    "    else:\n",
    "        print(_face)\n",
    "        _other_num += 1\n",
    "print('正确个数：%d'%(_serious_num+_smiling_num+_funny_num),'    错误个数：%d'%_other_num)"
   ]
  },
  {
   "cell_type": "code",
   "execution_count": 6,
   "id": "caa2047d",
   "metadata": {},
   "outputs": [
    {
     "name": "stdout",
     "output_type": "stream",
     "text": [
      "[['1223' 'male' 'child' 'white' 'smiling']\n",
      " ['1224' 'male' 'child' 'white' 'serious']\n",
      " ['1225' 'male' 'child' 'white' 'smiling']\n",
      " ...\n",
      " ['3220' 'female' 'adult' 'asian' 'serious']\n",
      " ['3221' 'female' 'senior' 'white' 'smiling']\n",
      " ['3222' 'female' 'senior' 'black' 'serious']]\n"
     ]
    }
   ],
   "source": [
    "#faceDR中错误修改(faceDS无拼写错误)\n",
    "##faceDR##\n",
    "for i in range(1996):\n",
    "    if ytrain_1[i,2] == 'chil':\n",
    "        ytrain_1[i,2] = 'child'\n",
    "    elif ytrain_1[i,2] == 'adulte':\n",
    "        ytrain_1[i,2] = 'adult'\n",
    "    elif ytrain_1[i,3] == 'whit':\n",
    "        ytrain_1[i,3] = 'white'\n",
    "    elif ytrain_1[i,3] == 'whitee':\n",
    "        ytrain_1[i,3] = 'white'\n",
    "    elif ytrain_1[i,4] == 'erious':\n",
    "        ytrain_1[i,4] = 'serious'\n",
    "    elif ytrain_1[i,4] == 'smilin':\n",
    "        ytrain_1[i,4] = 'smiling'\n",
    "print(ytrain_1) #修正后的训练标签数据ytrain"
   ]
  },
  {
   "cell_type": "code",
   "execution_count": 7,
   "id": "449b35c9",
   "metadata": {},
   "outputs": [
    {
     "name": "stdout",
     "output_type": "stream",
     "text": [
      "年龄正确个数：1996     错误个数：0\n",
      "种族正确个数：1996     错误个数：0\n",
      "表情正确个数：1996     错误个数：0\n"
     ]
    }
   ],
   "source": [
    "#检验修改结果\n",
    "_child_num = 0\n",
    "_teen_num = 0\n",
    "_adult_num = 0\n",
    "_senior_num = 0\n",
    "_other_num = 0\n",
    "for i in range(1996):\n",
    "    _age = ytrain_1[i,2]\n",
    "    if _age == 'child':\n",
    "        _child_num += 1\n",
    "    elif _age == 'teen':\n",
    "        _teen_num += 1\n",
    "    elif _age == 'adult':\n",
    "        _adult_num += 1\n",
    "    elif _age == 'senior':\n",
    "        _senior_num += 1\n",
    "    else:\n",
    "        print(_age)\n",
    "        _other_num += 1\n",
    "print('年龄正确个数：%d'%(_child_num+_teen_num+_adult_num+_senior_num),'    错误个数：%d'%_other_num)\n",
    "\n",
    "_white_num = 0\n",
    "_black_num = 0\n",
    "_hispanic_num = 0\n",
    "_asian_num = 0\n",
    "_other_num = 0\n",
    "_others_num = 0\n",
    "for i in range(1996):\n",
    "    _race = ytrain_1[i,3]\n",
    "    if _race == 'white':\n",
    "        _white_num += 1\n",
    "    elif _race == 'black':\n",
    "        _black_num += 1\n",
    "    elif _race == 'asian':\n",
    "        _asian_num += 1\n",
    "    elif _race == 'hispanic':\n",
    "        _hispanic_num += 1\n",
    "    elif _race == 'other':\n",
    "        _other_num += 1\n",
    "    else:\n",
    "        print(_race)\n",
    "        _others_num += 1\n",
    "print('种族正确个数：%d'%(_white_num+_black_num+_hispanic_num+_asian_num+_other_num),'    错误个数：%d'%_others_num)\n",
    "\n",
    "_serious_num = 0\n",
    "_smiling_num = 0\n",
    "_funny_num = 0\n",
    "_other_num = 0\n",
    "for i in range(1996):\n",
    "    _face = ytrain_1[i,4]\n",
    "    if _face == 'serious':\n",
    "        _serious_num += 1\n",
    "    elif _face == 'smiling':\n",
    "        _smiling_num += 1\n",
    "    elif _face == 'funny':\n",
    "        _funny_num += 1\n",
    "    else:\n",
    "        print(_face)\n",
    "        _other_num += 1\n",
    "print('表情正确个数：%d'%(_serious_num+_smiling_num+_funny_num),'    错误个数：%d'%_other_num)"
   ]
  },
  {
   "cell_type": "markdown",
   "id": "1f279af3",
   "metadata": {},
   "source": [
    "# PCA特征提取"
   ]
  },
  {
   "cell_type": "markdown",
   "id": "43673414",
   "metadata": {},
   "source": [
    "导入需要的库，图像及标签训练数据faceR、faceDR、fcaeS、faceDS已经过预处理"
   ]
  },
  {
   "cell_type": "code",
   "execution_count": 8,
   "id": "0e50d08c",
   "metadata": {},
   "outputs": [],
   "source": [
    "import numpy as np\n",
    "from sklearn.preprocessing import StandardScaler\n",
    "from sklearn.decomposition import PCA"
   ]
  },
  {
   "cell_type": "markdown",
   "id": "9ff9a37c",
   "metadata": {},
   "source": [
    "1、获取数字化后的图像训练数据\n",
    "数据的第一列为图像编号，为方便降维和使用分类器处理，需要删掉此列"
   ]
  },
  {
   "cell_type": "code",
   "execution_count": 9,
   "id": "0b5ff60d",
   "metadata": {
    "scrolled": false
   },
   "outputs": [
    {
     "name": "stdout",
     "output_type": "stream",
     "text": [
      "图像训练数据xtrain:\n",
      " [[ 1.22300000e+03 -1.77961902e+03  2.10730127e+03 ... -8.61942370e+01\n",
      "   1.28772320e+01  2.38823390e+01]\n",
      " [ 1.22400000e+03 -2.71997339e+03  2.97884375e+03 ... -4.68737700e+00\n",
      "  -4.28034670e+01  1.19861970e+01]\n",
      " [ 1.22500000e+03 -9.46141785e+02 -1.17116028e+03 ...  6.00232730e+01\n",
      "   2.21902800e+00  1.66275270e+01]\n",
      " ...\n",
      " [ 3.22000000e+03  1.07736768e+03 -6.24962646e+02 ...  3.08739870e+01\n",
      "  -1.76446100e+00  6.32692180e+01]\n",
      " [ 3.22100000e+03  1.62751266e+02  1.92902429e+03 ...  1.28961792e+02\n",
      "   5.91272430e+01 -5.73871399e+02]\n",
      " [ 3.22200000e+03 -6.97708984e+02 -2.36467910e+01 ... -9.68876270e+01\n",
      "  -1.05578690e+02  1.03433350e+02]] (1996, 100)\n",
      "\n",
      "xtrain去编号后：\n",
      " [[-1.77961902e+03  2.10730127e+03  8.07759949e+02 ... -8.61942370e+01\n",
      "   1.28772320e+01  2.38823390e+01]\n",
      " [-2.71997339e+03  2.97884375e+03 -1.22765790e+01 ... -4.68737700e+00\n",
      "  -4.28034670e+01  1.19861970e+01]\n",
      " [-9.46141785e+02 -1.17116028e+03  5.57305603e+02 ...  6.00232730e+01\n",
      "   2.21902800e+00  1.66275270e+01]\n",
      " ...\n",
      " [ 1.07736768e+03 -6.24962646e+02 -4.68857788e+02 ...  3.08739870e+01\n",
      "  -1.76446100e+00  6.32692180e+01]\n",
      " [ 1.62751266e+02  1.92902429e+03 -3.10213281e+03 ...  1.28961792e+02\n",
      "   5.91272430e+01 -5.73871399e+02]\n",
      " [-6.97708984e+02 -2.36467910e+01  1.33136340e+03 ... -9.68876270e+01\n",
      "  -1.05578690e+02  1.03433350e+02]] (1996, 99)\n"
     ]
    }
   ],
   "source": [
    "##########获取数字化后的图像训练数据##########\n",
    "f = open(\"faceR\",\"r\",encoding=\"utf8\")\n",
    "x = f.read()\n",
    "f.close()\n",
    "x = x.split() #默认删除所有空字符，包括空格和换行符等\n",
    "x = np.array(list(float(char) for char in x)) #字符串列表转数组\n",
    "x.resize((1996,100)) #转为二维数组\n",
    "xtrain = x\n",
    "print('图像训练数据xtrain:\\n',xtrain,xtrain.shape)\n",
    "xtrain = np.delete(xtrain,0,axis=1) #删除第一列：图像编号\n",
    "print('\\nxtrain去编号后：\\n',xtrain,xtrain.shape)"
   ]
  },
  {
   "cell_type": "code",
   "execution_count": 10,
   "id": "a19a3df5",
   "metadata": {},
   "outputs": [
    {
     "name": "stdout",
     "output_type": "stream",
     "text": [
      "\n",
      "xtrain标准化后：\n",
      " [[-0.7150059   1.44885637  0.76471857 ... -0.73084344  0.03944986\n",
      "   0.13721498]\n",
      " [-1.15504469  2.06241286 -0.08316677 ...  0.1045747  -0.53830313\n",
      "   0.03210577]\n",
      " [-0.32498026 -0.85914513  0.50575868 ...  0.76783728 -0.07114159\n",
      "   0.07311457]\n",
      " ...\n",
      " [ 0.62192092 -0.4746279  -0.55525368 ...  0.46906682 -0.11247499\n",
      "   0.48522055]\n",
      " [ 0.1939262   1.3233513  -3.2779559  ...  1.47443411  0.51934833\n",
      "  -5.14428068]\n",
      " [-0.20872614 -0.05130804  1.30610383 ... -0.84044712 -1.18967017\n",
      "   0.84009359]] \n",
      "特征数： 99 \n",
      "样本数： 1996\n"
     ]
    }
   ],
   "source": [
    "#标准化图像训练数据\n",
    "scaler = StandardScaler()\n",
    "xtrain = scaler.fit_transform(xtrain)\n",
    "n_features = xtrain.shape[1]\n",
    "n_samples = xtrain.shape[0]\n",
    "print('\\nxtrain标准化后：\\n',xtrain,\"\\n特征数：\",n_features,\"\\n样本数：\",n_samples)"
   ]
  },
  {
   "cell_type": "markdown",
   "id": "b42d55b2",
   "metadata": {},
   "source": [
    "2、获取预处理后的标签训练数据"
   ]
  },
  {
   "cell_type": "code",
   "execution_count": 11,
   "id": "69a300b1",
   "metadata": {},
   "outputs": [
    {
     "name": "stdout",
     "output_type": "stream",
     "text": [
      "标签训练数据ytrain:\n",
      " [['1223' 'male' 'child' 'white' 'smiling']\n",
      " ['1224' 'male' 'child' 'white' 'serious']\n",
      " ['1225' 'male' 'child' 'white' 'smiling']\n",
      " ...\n",
      " ['3220' 'female' 'adult' 'asian' 'serious']\n",
      " ['3221' 'female' 'senior' 'white' 'smiling']\n",
      " ['3222' 'female' 'senior' 'black' 'serious']] (1996, 5)\n"
     ]
    }
   ],
   "source": [
    "#########获取预处理后的标签训练数据##########\n",
    "f = open(\"faceDR\",\"r\",encoding=\"utf8\")\n",
    "y = f.read()\n",
    "f.close()\n",
    "y = y.split() #默认删除所有空字符，包括空格和换行符等\n",
    "#print(y)\n",
    "del y[0]\n",
    "#print(y)\n",
    "y = np.array(y)\n",
    "y.resize((1996,5))\n",
    "ytrain = y\n",
    "print('标签训练数据ytrain:\\n',ytrain,ytrain.shape)"
   ]
  },
  {
   "cell_type": "code",
   "execution_count": 12,
   "id": "9ab48e7c",
   "metadata": {},
   "outputs": [
    {
     "name": "stdout",
     "output_type": "stream",
     "text": [
      "\n",
      "性别分类ytrain_sex:\n",
      " ['male' 'male' 'male' ... 'female' 'female' 'female'] (1996,)\n",
      "\n",
      "年龄分类ytrain_age:\n",
      " ['child' 'child' 'child' ... 'adult' 'senior' 'senior'] (1996,)\n",
      "\n",
      "种族分类ytrain_race:\n",
      " ['white' 'white' 'white' ... 'asian' 'white' 'black'] (1996,)\n",
      "\n",
      "表情分类ytrain_face:\n",
      " ['smiling' 'serious' 'smiling' ... 'serious' 'smiling' 'serious'] (1996,)\n"
     ]
    }
   ],
   "source": [
    "#性别分类\n",
    "print('\\n性别分类ytrain_sex:\\n',ytrain[:,1],ytrain[:,1].shape)\n",
    "#年龄分类\n",
    "print('\\n年龄分类ytrain_age:\\n',ytrain[:,2],ytrain[:,2].shape)\n",
    "#种族分类\n",
    "print('\\n种族分类ytrain_race:\\n',ytrain[:,3],ytrain[:,3].shape)\n",
    "#表情分类\n",
    "print('\\n表情分类ytrain_face:\\n',ytrain[:,4],ytrain[:,4].shape)"
   ]
  },
  {
   "cell_type": "markdown",
   "id": "575f8a8c",
   "metadata": {},
   "source": [
    "3、获取预处理后的测试数据"
   ]
  },
  {
   "cell_type": "code",
   "execution_count": 13,
   "id": "b52012d7",
   "metadata": {},
   "outputs": [
    {
     "name": "stdout",
     "output_type": "stream",
     "text": [
      "图像测试数据xtest:\n",
      " [[ 3223.        1509.810059  -258.181854 ...  -156.00473    -24.142797\n",
      "    -30.994535]\n",
      " [ 3224.        1887.549927  -604.501404 ...   -84.800957    54.544933\n",
      "     10.758374]\n",
      " [ 3225.         479.281891  1204.433105 ...   -84.359192   -47.144707\n",
      "    -29.58638 ]\n",
      " ...\n",
      " [ 5220.         765.723267   152.202209 ...   -10.661225    71.933243\n",
      "    139.105927]\n",
      " [ 5221.        3535.591553 -1172.505737 ...    69.269463   -67.06485\n",
      "     62.041889]\n",
      " [ 5222.        -742.207458   106.262558 ...    36.534725    23.340706\n",
      "   -101.602966]] (1996, 100)\n",
      "\n",
      "xtest去编号后：\n",
      " [[ 1509.810059  -258.181854 -1190.012451 ...  -156.00473    -24.142797\n",
      "    -30.994535]\n",
      " [ 1887.549927  -604.501404    49.436756 ...   -84.800957    54.544933\n",
      "     10.758374]\n",
      " [  479.281891  1204.433105  -623.750671 ...   -84.359192   -47.144707\n",
      "    -29.58638 ]\n",
      " ...\n",
      " [  765.723267   152.202209   345.341125 ...   -10.661225    71.933243\n",
      "    139.105927]\n",
      " [ 3535.591553 -1172.505737  -298.611542 ...    69.269463   -67.06485\n",
      "     62.041889]\n",
      " [ -742.207458   106.262558   387.411316 ...    36.534725    23.340706\n",
      "   -101.602966]] (1996, 99)\n",
      "\n",
      "xtest标准化后：\n",
      " [[ 0.51385822 -0.61593044 -1.10775149 ... -1.83415493 -0.47676919\n",
      "  -0.6129337 ]\n",
      " [ 0.64245302 -0.86719053  0.16046703 ... -1.04494627  0.39411133\n",
      "  -0.22816376]\n",
      " [ 0.16303329  0.4452189  -0.528346   ... -1.04004983 -0.73134402\n",
      "  -0.59995698]\n",
      " ...\n",
      " [ 0.26054715 -0.31819057  0.46323974 ... -0.22319601  0.58655735\n",
      "   0.95461083]\n",
      " [ 1.20349938 -1.27928629 -0.19565995 ...  0.66274007 -0.95181123\n",
      "   0.24443456]\n",
      " [-0.25280096 -0.35152049  0.50628644 ...  0.29991465  0.04875693\n",
      "  -1.26361894]]\n"
     ]
    }
   ],
   "source": [
    "###########获取预处理后的测试数据##########\n",
    "f = open(\"faceS\",\"r\",encoding=\"utf8\")\n",
    "x2 = f.read()\n",
    "f.close()\n",
    "x2 = x2.split() #默认删除所有空字符，包括空格和换行符等\n",
    "x2 = np.array(list(float(char) for char in x2)) #字符串列表转数组\n",
    "x2.resize((1996,100)) #转为二维数组\n",
    "xtest = x2\n",
    "print('图像测试数据xtest:\\n',xtest,xtest.shape)\n",
    "xtest = np.delete(xtest,0,axis=1) #删除第一列：图片编号\n",
    "print('\\nxtest去编号后：\\n',xtest,xtest.shape)\n",
    "xtest = scaler.fit_transform(xtest)\n",
    "print('\\nxtest标准化后：\\n',xtest)"
   ]
  },
  {
   "cell_type": "markdown",
   "id": "f69be11e",
   "metadata": {},
   "source": [
    "4、获取预处理后的标签测试数据"
   ]
  },
  {
   "cell_type": "code",
   "execution_count": 14,
   "id": "2e459032",
   "metadata": {},
   "outputs": [
    {
     "name": "stdout",
     "output_type": "stream",
     "text": [
      "标签测试数据ytest:\n",
      " [['3223' 'female' 'senior' 'black' 'smiling']\n",
      " ['3224' 'female' 'adult' 'black' 'smiling']\n",
      " ['3225' 'male' 'senior' 'white' 'smiling']\n",
      " ...\n",
      " ['5220' 'female' 'adult' 'white' 'serious']\n",
      " ['5221' 'female' 'adult' 'white' 'smiling']\n",
      " ['5222' 'female' 'adult' 'white' 'smiling']] (1996, 5)\n"
     ]
    }
   ],
   "source": [
    "###########获取预处理后的标签测试数据##########\n",
    "f = open(\"faceDS\",\"r\",encoding=\"utf8\")\n",
    "y2 = f.read()\n",
    "f.close()\n",
    "y2 = y2.split() #默认删除所有空字符，包括空格和换行符等\n",
    "#print(y2)\n",
    "y2 = np.array(y2)\n",
    "y2.resize((1996,5))\n",
    "ytest = y2\n",
    "print('标签测试数据ytest:\\n',ytest,ytest.shape)"
   ]
  },
  {
   "cell_type": "code",
   "execution_count": 15,
   "id": "d123bfda",
   "metadata": {},
   "outputs": [
    {
     "name": "stdout",
     "output_type": "stream",
     "text": [
      "\n",
      "性别分类ytest_sex:\n",
      " ['female' 'female' 'male' ... 'female' 'female' 'female'] (1996,)\n",
      "\n",
      "年龄分类ytest_age:\n",
      " ['senior' 'adult' 'senior' ... 'adult' 'adult' 'adult'] (1996,)\n",
      "\n",
      "种族分类ytest_race:\n",
      " ['black' 'black' 'white' ... 'white' 'white' 'white'] (1996,)\n",
      "\n",
      "表情分类ytest_face:\n",
      " ['smiling' 'smiling' 'smiling' ... 'serious' 'smiling' 'smiling'] (1996,)\n"
     ]
    }
   ],
   "source": [
    "#性别分类\n",
    "print('\\n性别分类ytest_sex:\\n',ytest[:,1],ytest[:,1].shape)\n",
    "#年龄分类\n",
    "print('\\n年龄分类ytest_age:\\n',ytest[:,2],ytest[:,2].shape)\n",
    "#种族分类\n",
    "print('\\n种族分类ytest_race:\\n',ytest[:,3],ytest[:,3].shape)\n",
    "#表情分类\n",
    "print('\\n表情分类ytest_face:\\n',ytest[:,4],ytest[:,4].shape)"
   ]
  },
  {
   "cell_type": "markdown",
   "id": "26962a19",
   "metadata": {},
   "source": [
    "5、创建PCA模型降维并训练"
   ]
  },
  {
   "cell_type": "code",
   "execution_count": 16,
   "id": "86cbc5d7",
   "metadata": {},
   "outputs": [
    {
     "name": "stdout",
     "output_type": "stream",
     "text": [
      "用训练后的性别分类PCA模型降维后的图像训练数据和测试数据： (1996, 1) (1996, 1)\n"
     ]
    }
   ],
   "source": [
    "##########创建PCA模型降维并训练###########\n",
    "\n",
    "#创建性别分类的PCA模型降维并训练\n",
    "pca_sex = PCA(n_components=1)\n",
    "pca_sex.fit(xtrain)\n",
    "#将训练好的PCA模型对训练数据和测试数据进行特征提取\n",
    "xtrain_sex = pca_sex.transform(xtrain)\n",
    "xtest_sex = pca_sex.transform(xtest)\n",
    "print('用训练后的性别分类PCA模型降维后的图像训练数据和测试数据：',xtrain_sex.shape,xtest_sex.shape)"
   ]
  },
  {
   "cell_type": "code",
   "execution_count": 17,
   "id": "6285a334",
   "metadata": {},
   "outputs": [
    {
     "name": "stdout",
     "output_type": "stream",
     "text": [
      "用训练后的年龄分类PCA模型降维后的图像训练数据和测试数据： (1996, 2) (1996, 2)\n"
     ]
    }
   ],
   "source": [
    "#创建年龄分类的PCA模型降维并训练\n",
    "pca_age = PCA(n_components=2)\n",
    "pca_age.fit(xtrain)\n",
    "#将训练好的PCA模型对训练数据和测试数据进行特征提取\n",
    "xtrain_age = pca_age.transform(xtrain)\n",
    "xtest_age = pca_age.transform(xtest)\n",
    "print('用训练后的年龄分类PCA模型降维后的图像训练数据和测试数据：',xtrain_age.shape,xtest_age.shape)"
   ]
  },
  {
   "cell_type": "code",
   "execution_count": 18,
   "id": "a14158bf",
   "metadata": {},
   "outputs": [
    {
     "name": "stdout",
     "output_type": "stream",
     "text": [
      "用训练后的种族分类PCA模型降维后的图像训练数据和测试数据： (1996, 6) (1996, 6)\n"
     ]
    }
   ],
   "source": [
    "#创建种族分类的PCA模型降维并训练\n",
    "pca_race = PCA(n_components=6)\n",
    "pca_race.fit(xtrain)\n",
    "#将训练好的PCA模型对训练数据和测试数据进行特征提取\n",
    "xtrain_race = pca_race.transform(xtrain)\n",
    "xtest_race = pca_race.transform(xtest)\n",
    "print('用训练后的种族分类PCA模型降维后的图像训练数据和测试数据：',xtrain_race.shape,xtest_race.shape)"
   ]
  },
  {
   "cell_type": "code",
   "execution_count": 19,
   "id": "e1a8b1a8",
   "metadata": {},
   "outputs": [
    {
     "name": "stdout",
     "output_type": "stream",
     "text": [
      "用训练后的表情分类PCA模型降维后的图像训练数据和测试数据： (1996, 2) (1996, 2)\n"
     ]
    }
   ],
   "source": [
    "#创建表情分类的PCA模型降维并训练\n",
    "pca_face = PCA(n_components=2)\n",
    "pca_face.fit(xtrain)\n",
    "#将训练好的PCA模型对训练数据和测试数据进行特征提取\n",
    "xtrain_face = pca_face.transform(xtrain)\n",
    "xtest_face = pca_face.transform(xtest)\n",
    "print('用训练后的表情分类PCA模型降维后的图像训练数据和测试数据：',xtrain_face.shape,xtest_face.shape)"
   ]
  },
  {
   "cell_type": "markdown",
   "id": "a19bb5d0",
   "metadata": {},
   "source": [
    "# 最小距离分类器"
   ]
  },
  {
   "cell_type": "code",
   "execution_count": 69,
   "id": "e6b330ba",
   "metadata": {},
   "outputs": [],
   "source": [
    "from sklearn.metrics import accuracy_score"
   ]
  },
  {
   "cell_type": "markdown",
   "id": "3c63d4a8",
   "metadata": {},
   "source": [
    "1、性别分类"
   ]
  },
  {
   "cell_type": "code",
   "execution_count": 70,
   "id": "6200a375",
   "metadata": {},
   "outputs": [
    {
     "name": "stdout",
     "output_type": "stream",
     "text": [
      "训练数据形状: (1996,)\n",
      "测试数据形状: (1996,)\n"
     ]
    }
   ],
   "source": [
    "# 获取性别分类的标签数据\n",
    "ytrain_sex = ytrain[:, 1]\n",
    "# 输出编码后的标签数据形状\n",
    "print('训练数据形状:', ytrain_sex.shape)\n",
    "\n",
    "# 获取性别分类的测试数据\n",
    "ytest_sex = ytest[:, 1]\n",
    "# 输出编码后的测试数据形状\n",
    "print('测试数据形状:', ytest_sex.shape)"
   ]
  },
  {
   "cell_type": "code",
   "execution_count": 71,
   "id": "c048a03b",
   "metadata": {},
   "outputs": [
    {
     "name": "stdout",
     "output_type": "stream",
     "text": [
      "类别: male\n",
      "样本数量: 1149\n",
      "均值向量: [0.15418246]\n",
      "类别: female\n",
      "样本数量: 847\n",
      "均值向量: [-0.20915661]\n"
     ]
    }
   ],
   "source": [
    "# 建立性别分类的字典，用于存储每个类别的样本\n",
    "sex_dict = {}\n",
    "\n",
    "# 遍历训练数据集\n",
    "for i in range(len(ytrain_sex)):\n",
    "    sex_label = ytrain_sex[i]\n",
    "    sample = xtrain_sex[i]\n",
    "    \n",
    "    # 如果类别在字典中不存在，则创建对应的键值对\n",
    "    if sex_label not in sex_dict:\n",
    "        sex_dict[sex_label] = []\n",
    "    \n",
    "    # 将样本添加到对应类别的列表中\n",
    "    sex_dict[sex_label].append(sample)\n",
    "\n",
    "# 计算每个类别的均值向量\n",
    "sex_means = {}\n",
    "sex_counts = {}\n",
    "for sex_label, samples in sex_dict.items():\n",
    "    mean_vector = np.mean(samples, axis=0)\n",
    "    sex_means[sex_label] = mean_vector\n",
    "    sex_counts[sex_label] = len(samples)\n",
    "\n",
    "# 输出类别、样本数量和对应的均值向量\n",
    "for sex_label, mean_vector in sex_means.items():\n",
    "    print('类别:', sex_label)\n",
    "    print('样本数量:', sex_counts[sex_label])\n",
    "    print('均值向量:', mean_vector)"
   ]
  },
  {
   "cell_type": "code",
   "execution_count": 76,
   "id": "a6f13ece",
   "metadata": {},
   "outputs": [
    {
     "name": "stderr",
     "output_type": "stream",
     "text": [
      "C:\\Users\\23239\\AppData\\Local\\Temp\\ipykernel_7268\\1216095763.py:7: DeprecationWarning: `np.object` is a deprecated alias for the builtin `object`. To silence this warning, use `object` by itself. Doing this will not modify any behavior and is safe. \n",
      "Deprecated in NumPy 1.20; for more details and guidance: https://numpy.org/devdocs/release/1.20.0-notes.html#deprecations\n",
      "  sex_predict = np.zeros(num, dtype=np.object)  # 存放预测结果\n"
     ]
    },
    {
     "name": "stdout",
     "output_type": "stream",
     "text": [
      "年龄分类预测结果：\n",
      " ['adult' 'adult' 'adult' ... 'teen' 'child' 'adult']\n",
      "总数 1996 的测试数据中出错个数：938\n",
      "性别分类分数： 0.530060120240481\n"
     ]
    }
   ],
   "source": [
    "import numpy as np\n",
    "import math\n",
    "\n",
    "NUM = 1996  # 选择分类的测试数据个数\n",
    "num = 1996  # 和 NUM 保持一致\n",
    "fault = 0  # 判错个数\n",
    "sex_predict = np.zeros(num, dtype=np.object)  # 存放预测结果\n",
    "\n",
    "def euclidean_distance(x1, x2):\n",
    "    return np.sqrt(np.sum((x1 - x2)**2))\n",
    "\n",
    "for i in range(num):\n",
    "    min_distance = float('inf')  # 最小距离\n",
    "    predicted_class = None\n",
    "    \n",
    "    for j in range(len(xtrain_age)):\n",
    "        distance = euclidean_distance(xtrain_sex[j], xtest_sex[i])  # 计算类别代表向量和测试数据的欧几里得距离\n",
    "        if distance < min_distance:\n",
    "            min_distance = distance\n",
    "            predicted_class = ytrain_sex[j]\n",
    "\n",
    "    sex_predict[i] = predicted_class\n",
    "    \n",
    "    if ytest[i, 1] == predicted_class:\n",
    "        fault = fault\n",
    "        # print('分类正确')\n",
    "    else:\n",
    "        fault += 1\n",
    "        # print('分类错误')\n",
    "\n",
    "sex_predict = np.array(sex_predict)\n",
    "print('性别分类预测结果：\\n', age_predict)\n",
    "print('总数 %d 的测试数据中出错个数：%d' % (NUM, fault))\n",
    "\n",
    "accuracy = accuracy_score(ytest_sex, sex_predict)\n",
    "print(\"性别分类分数：\", accuracy)"
   ]
  },
  {
   "cell_type": "markdown",
   "id": "5485bf1a",
   "metadata": {},
   "source": [
    "2、年龄分类"
   ]
  },
  {
   "cell_type": "code",
   "execution_count": 50,
   "id": "999e351a",
   "metadata": {},
   "outputs": [
    {
     "name": "stdout",
     "output_type": "stream",
     "text": [
      "训练数据形状: (1996,)\n",
      "测试数据形状: (1996,)\n"
     ]
    }
   ],
   "source": [
    "# 获取年龄分类的标签数据\n",
    "ytrain_age = ytrain[:, 2]\n",
    "# 输出编码后的标签数据形状\n",
    "print('训练数据形状:', ytrain_age.shape)\n",
    "\n",
    "# 获取年龄分类的测试数据\n",
    "ytest_age = ytest[:, 2]\n",
    "# 输出编码后的测试数据形状\n",
    "print('测试数据形状:', ytest_age.shape)"
   ]
  },
  {
   "cell_type": "code",
   "execution_count": 53,
   "id": "7d55dbcb",
   "metadata": {},
   "outputs": [
    {
     "name": "stdout",
     "output_type": "stream",
     "text": [
      "类别: child\n",
      "样本数量: 243\n",
      "均值向量: [ 0.03637601 -1.38014579]\n",
      "类别: adult\n",
      "样本数量: 1435\n",
      "均值向量: [-0.03083983  0.38000815]\n",
      "类别: teen\n",
      "样本数量: 261\n",
      "均值向量: [ 0.13071883 -0.87791751]\n",
      "类别: chil\n",
      "样本数量: 1\n",
      "均值向量: [-2.31903553  0.71051093]\n",
      "类别: adulte\n",
      "样本数量: 2\n",
      "均值向量: [ 0.14614471 -1.78159955]\n",
      "类别: senior\n",
      "样本数量: 54\n",
      "均值向量: [0.06157251 0.40838688]\n"
     ]
    }
   ],
   "source": [
    "# 建立年龄分类的字典，用于存储每个类别的样本\n",
    "age_dict = {}\n",
    "\n",
    "# 遍历训练数据集\n",
    "for i in range(len(ytrain_age)):\n",
    "    age_label = ytrain_age[i]\n",
    "    sample = xtrain_age[i]\n",
    "    \n",
    "    # 如果类别在字典中不存在，则创建对应的键值对\n",
    "    if age_label not in age_dict:\n",
    "        age_dict[age_label] = []\n",
    "    \n",
    "    # 将样本添加到对应类别的列表中\n",
    "    age_dict[age_label].append(sample)\n",
    "\n",
    "# 计算每个类别的均值向量\n",
    "age_means = {}\n",
    "age_counts = {}\n",
    "for age_label, samples in age_dict.items():\n",
    "    mean_vector = np.mean(samples, axis=0)\n",
    "    age_means[age_label] = mean_vector\n",
    "    age_counts[age_label] = len(samples)\n",
    "\n",
    "# 输出类别、样本数量和对应的均值向量\n",
    "for age_label, mean_vector in age_means.items():\n",
    "    print('类别:', age_label)\n",
    "    print('样本数量:', age_counts[age_label])\n",
    "    print('均值向量:', mean_vector)"
   ]
  },
  {
   "cell_type": "code",
   "execution_count": 78,
   "id": "c6c726cd",
   "metadata": {},
   "outputs": [
    {
     "name": "stderr",
     "output_type": "stream",
     "text": [
      "C:\\Users\\23239\\AppData\\Local\\Temp\\ipykernel_7268\\1843236143.py:7: DeprecationWarning: `np.object` is a deprecated alias for the builtin `object`. To silence this warning, use `object` by itself. Doing this will not modify any behavior and is safe. \n",
      "Deprecated in NumPy 1.20; for more details and guidance: https://numpy.org/devdocs/release/1.20.0-notes.html#deprecations\n",
      "  age_predict = np.zeros(num, dtype=np.object)  # 存放预测结果\n"
     ]
    },
    {
     "name": "stdout",
     "output_type": "stream",
     "text": [
      "年龄分类预测结果：\n",
      " ['adult' 'adult' 'adult' ... 'teen' 'child' 'adult']\n",
      "总数 1996 的测试数据中出错个数：765\n",
      "年龄分类分数： 0.6167334669338678\n"
     ]
    }
   ],
   "source": [
    "import numpy as np\n",
    "import math\n",
    "\n",
    "NUM = 1996  # 选择分类的测试数据个数\n",
    "num = 1996  # 和 NUM 保持一致\n",
    "fault = 0  # 判错个数\n",
    "age_predict = np.zeros(num, dtype=np.object)  # 存放预测结果\n",
    "\n",
    "def euclidean_distance(x1, x2):\n",
    "    return np.sqrt(np.sum((x1 - x2)**2))\n",
    "\n",
    "for i in range(num):\n",
    "    min_distance = float('inf')  # 最小距离\n",
    "    predicted_class = None\n",
    "    \n",
    "    for j in range(len(xtrain_age)):\n",
    "        distance = euclidean_distance(xtrain_age[j], xtest_age[i])  # 计算类别代表向量和测试数据的欧几里得距离\n",
    "        if distance < min_distance:\n",
    "            min_distance = distance\n",
    "            predicted_class = ytrain_age[j]\n",
    "\n",
    "    age_predict[i] = predicted_class\n",
    "    \n",
    "    if ytest[i, 2] == predicted_class:\n",
    "        fault = fault\n",
    "        # print('分类正确')\n",
    "    else:\n",
    "        fault += 1\n",
    "        # print('分类错误')\n",
    "\n",
    "age_predict = np.array(age_predict)\n",
    "print('年龄分类预测结果：\\n', age_predict)\n",
    "print('总数 %d 的测试数据中出错个数：%d' % (NUM, fault))\n",
    "\n",
    "accuracy = accuracy_score(ytest_age, age_predict)\n",
    "print(\"年龄分类分数：\", accuracy)"
   ]
  },
  {
   "cell_type": "markdown",
   "id": "c536a281",
   "metadata": {},
   "source": [
    "3、种族分类"
   ]
  },
  {
   "cell_type": "code",
   "execution_count": 66,
   "id": "2e020d41",
   "metadata": {},
   "outputs": [
    {
     "name": "stdout",
     "output_type": "stream",
     "text": [
      "训练数据形状: (1996,)\n",
      "测试数据形状: (1996,)\n"
     ]
    }
   ],
   "source": [
    "# 获取种族分类的标签数据\n",
    "ytrain_race = ytrain[:, 3]\n",
    "# 输出编码后的标签数据形状\n",
    "print('训练数据形状:', ytrain_race.shape)\n",
    "\n",
    "# 获取种族分类的测试数据\n",
    "ytest_race = ytest[:, 3]\n",
    "# 输出编码后的测试数据形状\n",
    "print('测试数据形状:', ytest_race.shape)"
   ]
  },
  {
   "cell_type": "code",
   "execution_count": 67,
   "id": "3f8b0372",
   "metadata": {},
   "outputs": [
    {
     "name": "stdout",
     "output_type": "stream",
     "text": [
      "类别: white\n",
      "样本数量: 1835\n",
      "均值向量: [-0.12858697 -0.04340403  0.07798492  0.03484953 -0.00308144  0.02043461]\n",
      "类别: hispanic\n",
      "样本数量: 26\n",
      "均值向量: [ 0.59728255  0.26192472 -0.92744899 -0.86730371 -0.30590515 -0.13956228]\n",
      "类别: asian\n",
      "样本数量: 55\n",
      "均值向量: [ 0.29691188  0.2668092  -0.7357804   0.29581385 -0.42024809 -0.53712341]\n",
      "类别: black\n",
      "样本数量: 64\n",
      "均值向量: [ 2.96167306  0.87657011 -1.14384833 -0.73897935  0.61947699 -0.13646687]\n",
      "类别: whitee\n",
      "样本数量: 2\n",
      "均值向量: [ 0.23534858 -0.07644288 -0.566613   -0.66002647 -1.34697531  1.73137557]\n",
      "类别: other\n",
      "样本数量: 12\n",
      "均值向量: [ 1.50256214  0.33435427 -0.43627716 -1.04069319  0.15837103  0.07083007]\n",
      "类别: whit\n",
      "样本数量: 2\n",
      "均值向量: [-1.97546705 -0.8990039   0.52705489  1.71714583 -1.06570693  0.04703409]\n"
     ]
    }
   ],
   "source": [
    "# 建立种族分类的字典，用于存储每个类别的样本\n",
    "race_dict = {}\n",
    "\n",
    "# 遍历训练数据集\n",
    "for i in range(len(ytrain_race)):\n",
    "    race_label = ytrain_race[i]\n",
    "    sample = xtrain_race[i]\n",
    "    \n",
    "    # 如果类别在字典中不存在，则创建对应的键值对\n",
    "    if race_label not in race_dict:\n",
    "        race_dict[race_label] = []\n",
    "    \n",
    "    # 将样本添加到对应类别的列表中\n",
    "    race_dict[race_label].append(sample)\n",
    "\n",
    "# 计算每个类别的均值向量\n",
    "race_means = {}\n",
    "race_counts = {}\n",
    "for race_label, samples in race_dict.items():\n",
    "    mean_vector = np.mean(samples, axis=0)\n",
    "    race_means[race_label] = mean_vector\n",
    "    race_counts[race_label] = len(samples)\n",
    "\n",
    "# 输出类别、样本数量和对应的均值向量\n",
    "for race_label, mean_vector in race_means.items():\n",
    "    print('类别:', race_label)\n",
    "    print('样本数量:', race_counts[race_label])\n",
    "    print('均值向量:', mean_vector)"
   ]
  },
  {
   "cell_type": "code",
   "execution_count": 79,
   "id": "af8a4da2",
   "metadata": {},
   "outputs": [
    {
     "name": "stderr",
     "output_type": "stream",
     "text": [
      "C:\\Users\\23239\\AppData\\Local\\Temp\\ipykernel_7268\\2789454061.py:7: DeprecationWarning: `np.object` is a deprecated alias for the builtin `object`. To silence this warning, use `object` by itself. Doing this will not modify any behavior and is safe. \n",
      "Deprecated in NumPy 1.20; for more details and guidance: https://numpy.org/devdocs/release/1.20.0-notes.html#deprecations\n",
      "  race_predict = np.zeros(num, dtype=np.object)  # 存放预测结果\n"
     ]
    },
    {
     "name": "stdout",
     "output_type": "stream",
     "text": [
      "种族分类预测结果：\n",
      " ['white' 'white' 'white' ... 'white' 'white' 'white']\n",
      "总数 1996 的测试数据中出错个数：396\n",
      "种族分类分数： 0.8016032064128257\n"
     ]
    }
   ],
   "source": [
    "import numpy as np\n",
    "import math\n",
    "\n",
    "NUM = 1996  # 选择分类的测试数据个数\n",
    "num = 1996  # 和 NUM 保持一致\n",
    "fault = 0  # 判错个数\n",
    "race_predict = np.zeros(num, dtype=np.object)  # 存放预测结果\n",
    "\n",
    "def euclidean_distance(x1, x2):\n",
    "    return np.sqrt(np.sum((x1 - x2)**2))\n",
    "\n",
    "for i in range(num):\n",
    "    min_distance = float('inf')  # 最小距离\n",
    "    predicted_class = None\n",
    "    \n",
    "    for j in range(len(xtrain_race)):\n",
    "        distance = euclidean_distance(xtrain_race[j], xtest_race[i])  # 计算类别代表向量和测试数据的欧几里得距离\n",
    "        if distance < min_distance:\n",
    "            min_distance = distance\n",
    "            predicted_class = ytrain_race[j]\n",
    "\n",
    "    race_predict[i] = predicted_class\n",
    "    \n",
    "    if ytest[i, 3] == predicted_class:\n",
    "        fault = fault\n",
    "        # print('分类正确')\n",
    "    else:\n",
    "        fault += 1\n",
    "        # print('分类错误')\n",
    "\n",
    "race_predict = np.array(race_predict)\n",
    "print('种族分类预测结果：\\n', race_predict)\n",
    "print('总数 %d 的测试数据中出错个数：%d' % (NUM, fault))\n",
    "\n",
    "accuracy = accuracy_score(ytest_race, race_predict)\n",
    "print(\"种族分类分数：\", accuracy)"
   ]
  },
  {
   "cell_type": "markdown",
   "id": "a087a93b",
   "metadata": {},
   "source": [
    "4、表情分类"
   ]
  },
  {
   "cell_type": "code",
   "execution_count": 81,
   "id": "2bce84b2",
   "metadata": {},
   "outputs": [
    {
     "name": "stdout",
     "output_type": "stream",
     "text": [
      "训练数据形状: (1996,)\n",
      "测试数据形状: (1996,)\n"
     ]
    }
   ],
   "source": [
    "# 获取表情分类的标签数据\n",
    "ytrain_face = ytrain[:, 4]\n",
    "# 输出编码后的标签数据形状\n",
    "print('训练数据形状:', ytrain_face.shape)\n",
    "\n",
    "# 获取表情分类的测试数据\n",
    "ytest_face = ytest[:, 4]\n",
    "# 输出编码后的测试数据形状\n",
    "print('测试数据形状:', ytest_face.shape)"
   ]
  },
  {
   "cell_type": "code",
   "execution_count": 82,
   "id": "1757ffab",
   "metadata": {},
   "outputs": [
    {
     "name": "stdout",
     "output_type": "stream",
     "text": [
      "类别: smiling\n",
      "样本数量: 1039\n",
      "均值向量: [0.00362914 0.09326443]\n",
      "类别: serious\n",
      "样本数量: 917\n",
      "均值向量: [-0.00648899 -0.08811396]\n",
      "类别: funny\n",
      "样本数量: 37\n",
      "均值向量: [-0.24987885 -0.39319362]\n",
      "类别: smilin\n",
      "样本数量: 1\n",
      "均值向量: [ 1.244863   -0.31031165]\n",
      "类别: erious\n",
      "样本数量: 2\n",
      "均值向量: [ 5.09019276 -0.62138373]\n"
     ]
    }
   ],
   "source": [
    "# 建立表情分类的字典，用于存储每个类别的样本\n",
    "face_dict = {}\n",
    "\n",
    "# 遍历训练数据集\n",
    "for i in range(len(ytrain_face)):\n",
    "    face_label = ytrain_face[i]\n",
    "    sample = xtrain_face[i]\n",
    "    \n",
    "    # 如果类别在字典中不存在，则创建对应的键值对\n",
    "    if face_label not in face_dict:\n",
    "        face_dict[face_label] = []\n",
    "    \n",
    "    # 将样本添加到对应类别的列表中\n",
    "    face_dict[face_label].append(sample)\n",
    "\n",
    "# 计算每个类别的均值向量\n",
    "face_means = {}\n",
    "face_counts = {}\n",
    "for face_label, samples in face_dict.items():\n",
    "    mean_vector = np.mean(samples, axis=0)\n",
    "    face_means[face_label] = mean_vector\n",
    "    face_counts[face_label] = len(samples)\n",
    "\n",
    "# 输出类别、样本数量和对应的均值向量\n",
    "for face_label, mean_vector in face_means.items():\n",
    "    print('类别:', face_label)\n",
    "    print('样本数量:', face_counts[face_label])\n",
    "    print('均值向量:', mean_vector)"
   ]
  },
  {
   "cell_type": "code",
   "execution_count": 84,
   "id": "2f4be3e6",
   "metadata": {},
   "outputs": [
    {
     "name": "stderr",
     "output_type": "stream",
     "text": [
      "C:\\Users\\23239\\AppData\\Local\\Temp\\ipykernel_7268\\1013717695.py:7: DeprecationWarning: `np.object` is a deprecated alias for the builtin `object`. To silence this warning, use `object` by itself. Doing this will not modify any behavior and is safe. \n",
      "Deprecated in NumPy 1.20; for more details and guidance: https://numpy.org/devdocs/release/1.20.0-notes.html#deprecations\n",
      "  face_predict = np.zeros(num, dtype=np.object)  # 存放预测结果\n"
     ]
    },
    {
     "name": "stdout",
     "output_type": "stream",
     "text": [
      "表情分类预测结果：\n",
      " ['serious' 'serious' 'serious' ... 'smiling' 'smiling' 'smiling']\n",
      "总数 1996 的测试数据中出错个数：1042\n",
      "表情分类分数： 0.4779559118236473\n"
     ]
    }
   ],
   "source": [
    "import numpy as np\n",
    "import math\n",
    "\n",
    "NUM = 1996  # 选择分类的测试数据个数\n",
    "num = 1996  # 和 NUM 保持一致\n",
    "fault = 0  # 判错个数\n",
    "face_predict = np.zeros(num, dtype=np.object)  # 存放预测结果\n",
    "\n",
    "def euclidean_distance(x1, x2):\n",
    "    return np.sqrt(np.sum((x1 - x2)**2))\n",
    "\n",
    "for i in range(num):\n",
    "    min_distance = float('inf')  # 最小距离\n",
    "    predicted_class = None\n",
    "    \n",
    "    for j in range(len(xtrain_face)):\n",
    "        distance = euclidean_distance(xtrain_face[j], xtest_face[i])  # 计算类别代表向量和测试数据的欧几里得距离\n",
    "        if distance < min_distance:\n",
    "            min_distance = distance\n",
    "            predicted_class = ytrain_face[j]\n",
    "\n",
    "    face_predict[i] = predicted_class\n",
    "    \n",
    "    if ytest[i, 4] == predicted_class:\n",
    "        fault = fault\n",
    "        # print('分类正确')\n",
    "    else:\n",
    "        fault += 1\n",
    "        # print('分类错误')\n",
    "\n",
    "face_predict = np.array(face_predict)\n",
    "print('表情分类预测结果：\\n', face_predict)\n",
    "print('总数 %d 的测试数据中出错个数：%d' % (NUM, fault))\n",
    "\n",
    "accuracy = accuracy_score(ytest_face, face_predict)\n",
    "print(\"表情分类分数：\", accuracy)"
   ]
  },
  {
   "cell_type": "code",
   "execution_count": null,
   "id": "2a35bef7",
   "metadata": {},
   "outputs": [],
   "source": []
  }
 ],
 "metadata": {
  "kernelspec": {
   "display_name": "Python 3 (ipykernel)",
   "language": "python",
   "name": "python3"
  },
  "language_info": {
   "codemirror_mode": {
    "name": "ipython",
    "version": 3
   },
   "file_extension": ".py",
   "mimetype": "text/x-python",
   "name": "python",
   "nbconvert_exporter": "python",
   "pygments_lexer": "ipython3",
   "version": "3.10.9"
  }
 },
 "nbformat": 4,
 "nbformat_minor": 5
}
